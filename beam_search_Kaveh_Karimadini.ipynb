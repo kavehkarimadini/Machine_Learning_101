{
 "cells": [
  {
   "cell_type": "code",
   "execution_count": 3,
   "metadata": {},
   "outputs": [],
   "source": [
    "tree,heuristic = {},{}#0 to 6"
   ]
  },
  {
   "cell_type": "code",
   "execution_count": 4,
   "metadata": {},
   "outputs": [],
   "source": [
    "tree['A']= ['B','C','D']\n",
    "tree['B']= ['E','F','G']\n",
    "tree['C']= ['H','I']\n",
    "tree['D']= ['J','K','L']\n",
    "tree['E']= ['M','N']\n",
    "tree['F']= ['O']\n",
    "tree['G']= ['P']\n",
    "tree['H']= ['Q','R']\n",
    "tree['K']= ['S','R']"
   ]
  },
  {
   "cell_type": "code",
   "execution_count": 5,
   "metadata": {},
   "outputs": [
    {
     "data": {
      "text/plain": [
       "{'A': ['B', 'C', 'D'],\n",
       " 'B': ['E', 'F', 'G'],\n",
       " 'C': ['H', 'I'],\n",
       " 'D': ['J', 'K', 'L'],\n",
       " 'E': ['M', 'N'],\n",
       " 'F': ['O'],\n",
       " 'G': ['P'],\n",
       " 'H': ['Q', 'R'],\n",
       " 'K': ['S', 'R']}"
      ]
     },
     "execution_count": 5,
     "metadata": {},
     "output_type": "execute_result"
    }
   ],
   "source": [
    "tree"
   ]
  },
  {
   "cell_type": "code",
   "execution_count": 6,
   "metadata": {},
   "outputs": [],
   "source": [
    "heuristic[('A','B')] = 10\n",
    "heuristic[('A','C')] = 9\n",
    "heuristic[('A','D')] = 13\n",
    "heuristic[('B','E')] = 5\n",
    "heuristic[('B','F')] = 6\n",
    "heuristic[('B','G')] = 10\n",
    "heuristic[('E','M')] = 4\n",
    "heuristic[('E','N')] = 6\n",
    "heuristic[('F','O')] = 7\n",
    "heuristic[('G','P')] = 9\n",
    "heuristic[('C','H')] = 5\n",
    "heuristic[('C','I')] = 6\n",
    "heuristic[('H','Q')] = 10\n",
    "heuristic[('H','R')] = 11\n",
    "heuristic[('D','J')] = 10\n",
    "heuristic[('D','K')] = 11\n",
    "heuristic[('D','L')] = 12\n",
    "heuristic[('K','S')] = 12\n",
    "heuristic[('K','R')] = 14"
   ]
  },
  {
   "cell_type": "code",
   "execution_count": 7,
   "metadata": {},
   "outputs": [
    {
     "data": {
      "text/plain": [
       "{('A', 'B'): 10,\n",
       " ('A', 'C'): 9,\n",
       " ('A', 'D'): 13,\n",
       " ('B', 'E'): 5,\n",
       " ('B', 'F'): 6,\n",
       " ('B', 'G'): 10,\n",
       " ('E', 'M'): 4,\n",
       " ('E', 'N'): 6,\n",
       " ('F', 'O'): 7,\n",
       " ('G', 'P'): 9,\n",
       " ('C', 'H'): 5,\n",
       " ('C', 'I'): 6,\n",
       " ('H', 'Q'): 10,\n",
       " ('H', 'R'): 11,\n",
       " ('D', 'J'): 10,\n",
       " ('D', 'K'): 11,\n",
       " ('D', 'L'): 12,\n",
       " ('K', 'S'): 12,\n",
       " ('K', 'R'): 14}"
      ]
     },
     "execution_count": 7,
     "metadata": {},
     "output_type": "execute_result"
    }
   ],
   "source": [
    "heuristic"
   ]
  },
  {
   "cell_type": "code",
   "execution_count": 33,
   "metadata": {},
   "outputs": [],
   "source": [
    "def  beam_search(goal, start,B):\n",
    "     \n",
    "    # minimum cost upto\n",
    "    # goal state from starting\n",
    "    global tree,heuristic\n",
    " \n",
    "    # create a priority queue\n",
    "    openn = []\n",
    " \n",
    "    found= False\n",
    "    Node = 'A'\n",
    "    if Node==goal:\n",
    "        found = True\n",
    "        return found\n",
    "    else:\n",
    "        for key in tree:\n",
    "            if key == Node:\n",
    "                for i in tree[key]:\n",
    "                    openn.append([heuristic[(Node,i)],i])\n",
    "    while (len(openn) > 0 & found == False):\n",
    "        print(openn)\n",
    "        openn = sorted(openn)\n",
    "        w_open = openn[0:B]\n",
    "        openn.clear()\n",
    "        print('first value{}'.format(w_open))\n",
    "        for i in w_open:\n",
    "            if i[1]==goal:\n",
    "                found = True\n",
    "                return found\n",
    "        for j in w_open:\n",
    "            for key in tree:\n",
    "                if key == j[1]:\n",
    "                    for i in tree[key]:\n",
    "                        openn.append([heuristic[(j[1],i)],i])\n",
    " \n",
    "    return found"
   ]
  },
  {
   "cell_type": "code",
   "execution_count": 34,
   "metadata": {},
   "outputs": [
    {
     "name": "stdout",
     "output_type": "stream",
     "text": [
      "[[10, 'B'], [9, 'C'], [13, 'D']]\n",
      "first value[[9, 'C'], [10, 'B'], [13, 'D']]\n",
      "[[5, 'H'], [6, 'I'], [5, 'E'], [6, 'F'], [10, 'G'], [10, 'J'], [11, 'K'], [12, 'L']]\n",
      "first value[[5, 'E'], [5, 'H'], [6, 'F']]\n",
      "[[4, 'M'], [6, 'N'], [10, 'Q'], [11, 'R'], [7, 'O']]\n",
      "first value[[4, 'M'], [6, 'N'], [7, 'O']]\n"
     ]
    }
   ],
   "source": [
    "found = beam_search('M', 'A',3)"
   ]
  },
  {
   "cell_type": "code",
   "execution_count": 32,
   "metadata": {},
   "outputs": [
    {
     "data": {
      "text/plain": [
       "True"
      ]
     },
     "execution_count": 32,
     "metadata": {},
     "output_type": "execute_result"
    }
   ],
   "source": [
    "found"
   ]
  },
  {
   "cell_type": "markdown",
   "metadata": {},
   "source": [
    "# Done by Kaveh Karimadini"
   ]
  }
 ],
 "metadata": {
  "kernelspec": {
   "display_name": "Python 3 (ipykernel)",
   "language": "python",
   "name": "python3"
  },
  "language_info": {
   "codemirror_mode": {
    "name": "ipython",
    "version": 3
   },
   "file_extension": ".py",
   "mimetype": "text/x-python",
   "name": "python",
   "nbconvert_exporter": "python",
   "pygments_lexer": "ipython3",
   "version": "3.10.11"
  }
 },
 "nbformat": 4,
 "nbformat_minor": 4
}
