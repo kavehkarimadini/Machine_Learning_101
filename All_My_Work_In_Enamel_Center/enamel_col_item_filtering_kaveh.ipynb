{
 "cells": [
  {
   "cell_type": "code",
   "execution_count": 76,
   "metadata": {
    "id": "s8zXZTojQXxj"
   },
   "outputs": [],
   "source": [
    "#import sklearn library\n",
    "import pandas as pd\n",
    "from sklearn.metrics.pairwise import cosine_similarity\n",
    "import numpy as np"
   ]
  },
  {
   "cell_type": "code",
   "execution_count": 2,
   "metadata": {
    "id": "DXFqS3_BQu9C"
   },
   "outputs": [],
   "source": [
    "df_one = pd.read_csv('enamel_clean_dataset.csv')"
   ]
  },
  {
   "cell_type": "code",
   "execution_count": 3,
   "metadata": {
    "colab": {
     "base_uri": "https://localhost:8080/",
     "height": 505
    },
    "id": "cteq8tWoRo3q",
    "outputId": "53f40870-d09e-418f-c705-2e1371957021"
   },
   "outputs": [
    {
     "data": {
      "text/html": [
       "\n",
       "  <div id=\"df-e9ca78b9-4ab9-481b-9529-300280edd50d\">\n",
       "    <div class=\"colab-df-container\">\n",
       "      <div>\n",
       "<style scoped>\n",
       "    .dataframe tbody tr th:only-of-type {\n",
       "        vertical-align: middle;\n",
       "    }\n",
       "\n",
       "    .dataframe tbody tr th {\n",
       "        vertical-align: top;\n",
       "    }\n",
       "\n",
       "    .dataframe thead th {\n",
       "        text-align: right;\n",
       "    }\n",
       "</style>\n",
       "<table border=\"1\" class=\"dataframe\">\n",
       "  <thead>\n",
       "    <tr style=\"text-align: right;\">\n",
       "      <th></th>\n",
       "      <th>Unnamed: 0</th>\n",
       "      <th>quantity</th>\n",
       "      <th>product._id</th>\n",
       "      <th>product.name</th>\n",
       "      <th>product.price</th>\n",
       "      <th>product.average_rating</th>\n",
       "      <th>product.texture</th>\n",
       "      <th>product.usage_of_product</th>\n",
       "      <th>product.weight</th>\n",
       "      <th>product.height</th>\n",
       "      <th>...</th>\n",
       "      <th>product.length</th>\n",
       "      <th>product.type_of_colors_used</th>\n",
       "      <th>product.washable</th>\n",
       "      <th>product.can_be_heated</th>\n",
       "      <th>product.category</th>\n",
       "      <th>user._id</th>\n",
       "      <th>date</th>\n",
       "      <th>user.phone</th>\n",
       "      <th>address.city</th>\n",
       "      <th>address.state</th>\n",
       "    </tr>\n",
       "  </thead>\n",
       "  <tbody>\n",
       "    <tr>\n",
       "      <th>0</th>\n",
       "      <td>0</td>\n",
       "      <td>1</td>\n",
       "      <td>62c97c629d4ad94a61879615</td>\n",
       "      <td>حلقهاتصالکدc0070</td>\n",
       "      <td>500</td>\n",
       "      <td>4</td>\n",
       "      <td>مس</td>\n",
       "      <td>NaN</td>\n",
       "      <td>1</td>\n",
       "      <td>0</td>\n",
       "      <td>...</td>\n",
       "      <td>0.0</td>\n",
       "      <td>NaN</td>\n",
       "      <td>1</td>\n",
       "      <td>1</td>\n",
       "      <td>62c963609d4ad94a61879458</td>\n",
       "      <td>626d0c2e35832dfc8b6a32e6</td>\n",
       "      <td>2022-07-13T16:17:51.845Z</td>\n",
       "      <td>989032417496</td>\n",
       "      <td>999</td>\n",
       "      <td>28</td>\n",
       "    </tr>\n",
       "    <tr>\n",
       "      <th>1</th>\n",
       "      <td>1</td>\n",
       "      <td>1</td>\n",
       "      <td>62c97a629d4ad94a618795e4</td>\n",
       "      <td>گلابیکدc0050</td>\n",
       "      <td>1000</td>\n",
       "      <td>4</td>\n",
       "      <td>مس</td>\n",
       "      <td>اتصالپلاکگردنبندبهزنجیر</td>\n",
       "      <td>1</td>\n",
       "      <td>0</td>\n",
       "      <td>...</td>\n",
       "      <td>0.0</td>\n",
       "      <td>NaN</td>\n",
       "      <td>1</td>\n",
       "      <td>1</td>\n",
       "      <td>62c963609d4ad94a61879458</td>\n",
       "      <td>626d0c2e35832dfc8b6a32e6</td>\n",
       "      <td>2022-07-13T16:17:51.845Z</td>\n",
       "      <td>989032417496</td>\n",
       "      <td>999</td>\n",
       "      <td>28</td>\n",
       "    </tr>\n",
       "    <tr>\n",
       "      <th>2</th>\n",
       "      <td>2</td>\n",
       "      <td>1</td>\n",
       "      <td>626d693235832dfc8b6a3530</td>\n",
       "      <td>پلاکگردنبندکدt0042</td>\n",
       "      <td>30000</td>\n",
       "      <td>4</td>\n",
       "      <td>مس</td>\n",
       "      <td>مناسببرایفیروزهکوبی</td>\n",
       "      <td>15</td>\n",
       "      <td>0</td>\n",
       "      <td>...</td>\n",
       "      <td>5.0</td>\n",
       "      <td>NaN</td>\n",
       "      <td>0</td>\n",
       "      <td>1</td>\n",
       "      <td>626d2f4935832dfc8b6a332a</td>\n",
       "      <td>626d0c2e35832dfc8b6a32e6</td>\n",
       "      <td>2022-07-13T16:17:51.845Z</td>\n",
       "      <td>989032417496</td>\n",
       "      <td>999</td>\n",
       "      <td>28</td>\n",
       "    </tr>\n",
       "    <tr>\n",
       "      <th>3</th>\n",
       "      <td>3</td>\n",
       "      <td>2</td>\n",
       "      <td>62706000b4dfe63761fcbc49</td>\n",
       "      <td>انگشترکدt0105</td>\n",
       "      <td>14000</td>\n",
       "      <td>4</td>\n",
       "      <td>مس</td>\n",
       "      <td>مناسببرایفیروزهکوبی</td>\n",
       "      <td>15</td>\n",
       "      <td>0</td>\n",
       "      <td>...</td>\n",
       "      <td>2.0</td>\n",
       "      <td>NaN</td>\n",
       "      <td>0</td>\n",
       "      <td>1</td>\n",
       "      <td>626d2f8235832dfc8b6a3332</td>\n",
       "      <td>626d0c2e35832dfc8b6a32e6</td>\n",
       "      <td>2022-07-13T16:17:51.845Z</td>\n",
       "      <td>989032417496</td>\n",
       "      <td>999</td>\n",
       "      <td>28</td>\n",
       "    </tr>\n",
       "    <tr>\n",
       "      <th>4</th>\n",
       "      <td>4</td>\n",
       "      <td>1</td>\n",
       "      <td>62c97a0f9d4ad94a618795b3</td>\n",
       "      <td>گلابیبسته10عددیکدc0060</td>\n",
       "      <td>10000</td>\n",
       "      <td>4</td>\n",
       "      <td>مس</td>\n",
       "      <td>اتصالپلاکگردنبندبهزنجیر</td>\n",
       "      <td>3</td>\n",
       "      <td>0</td>\n",
       "      <td>...</td>\n",
       "      <td>0.0</td>\n",
       "      <td>NaN</td>\n",
       "      <td>1</td>\n",
       "      <td>1</td>\n",
       "      <td>62c963609d4ad94a61879458</td>\n",
       "      <td>626d0c2e35832dfc8b6a32e6</td>\n",
       "      <td>2022-07-13T16:22:46.772Z</td>\n",
       "      <td>989032417496</td>\n",
       "      <td>107</td>\n",
       "      <td>3</td>\n",
       "    </tr>\n",
       "    <tr>\n",
       "      <th>...</th>\n",
       "      <td>...</td>\n",
       "      <td>...</td>\n",
       "      <td>...</td>\n",
       "      <td>...</td>\n",
       "      <td>...</td>\n",
       "      <td>...</td>\n",
       "      <td>...</td>\n",
       "      <td>...</td>\n",
       "      <td>...</td>\n",
       "      <td>...</td>\n",
       "      <td>...</td>\n",
       "      <td>...</td>\n",
       "      <td>...</td>\n",
       "      <td>...</td>\n",
       "      <td>...</td>\n",
       "      <td>...</td>\n",
       "      <td>...</td>\n",
       "      <td>...</td>\n",
       "      <td>...</td>\n",
       "      <td>...</td>\n",
       "      <td>...</td>\n",
       "    </tr>\n",
       "    <tr>\n",
       "      <th>87</th>\n",
       "      <td>87</td>\n",
       "      <td>1</td>\n",
       "      <td>62c979819d4ad94a61879582</td>\n",
       "      <td>قفلکدc0030</td>\n",
       "      <td>1000</td>\n",
       "      <td>4</td>\n",
       "      <td>آبکاریمس</td>\n",
       "      <td>مناسببرایدستبند،گردنبندو...</td>\n",
       "      <td>1</td>\n",
       "      <td>0</td>\n",
       "      <td>...</td>\n",
       "      <td>0.0</td>\n",
       "      <td>NaN</td>\n",
       "      <td>1</td>\n",
       "      <td>1</td>\n",
       "      <td>62c963609d4ad94a61879458</td>\n",
       "      <td>626d0b2435832dfc8b6a32d7</td>\n",
       "      <td>2022-10-28T23:30:23.739Z</td>\n",
       "      <td>989383684414</td>\n",
       "      <td>301</td>\n",
       "      <td>8</td>\n",
       "    </tr>\n",
       "    <tr>\n",
       "      <th>88</th>\n",
       "      <td>88</td>\n",
       "      <td>1</td>\n",
       "      <td>62c97a629d4ad94a618795e4</td>\n",
       "      <td>گلابیکدc0050</td>\n",
       "      <td>1000</td>\n",
       "      <td>4</td>\n",
       "      <td>مس</td>\n",
       "      <td>اتصالپلاکگردنبندبهزنجیر</td>\n",
       "      <td>1</td>\n",
       "      <td>0</td>\n",
       "      <td>...</td>\n",
       "      <td>0.0</td>\n",
       "      <td>NaN</td>\n",
       "      <td>1</td>\n",
       "      <td>1</td>\n",
       "      <td>62c963609d4ad94a61879458</td>\n",
       "      <td>626d0b2435832dfc8b6a32d7</td>\n",
       "      <td>2022-10-28T23:30:23.739Z</td>\n",
       "      <td>989383684414</td>\n",
       "      <td>301</td>\n",
       "      <td>8</td>\n",
       "    </tr>\n",
       "    <tr>\n",
       "      <th>89</th>\n",
       "      <td>89</td>\n",
       "      <td>1</td>\n",
       "      <td>62c979819d4ad94a61879582</td>\n",
       "      <td>قفلکدc0030</td>\n",
       "      <td>1000</td>\n",
       "      <td>4</td>\n",
       "      <td>آبکاریمس</td>\n",
       "      <td>مناسببرایدستبند،گردنبندو...</td>\n",
       "      <td>1</td>\n",
       "      <td>0</td>\n",
       "      <td>...</td>\n",
       "      <td>0.0</td>\n",
       "      <td>NaN</td>\n",
       "      <td>1</td>\n",
       "      <td>1</td>\n",
       "      <td>62c963609d4ad94a61879458</td>\n",
       "      <td>626d0b2435832dfc8b6a32d7</td>\n",
       "      <td>2022-10-28T23:42:13.388Z</td>\n",
       "      <td>989383684414</td>\n",
       "      <td>301</td>\n",
       "      <td>8</td>\n",
       "    </tr>\n",
       "    <tr>\n",
       "      <th>90</th>\n",
       "      <td>90</td>\n",
       "      <td>1</td>\n",
       "      <td>62c979819d4ad94a61879582</td>\n",
       "      <td>قفلکدc0030</td>\n",
       "      <td>1000</td>\n",
       "      <td>4</td>\n",
       "      <td>آبکاریمس</td>\n",
       "      <td>مناسببرایدستبند،گردنبندو...</td>\n",
       "      <td>1</td>\n",
       "      <td>0</td>\n",
       "      <td>...</td>\n",
       "      <td>0.0</td>\n",
       "      <td>NaN</td>\n",
       "      <td>1</td>\n",
       "      <td>1</td>\n",
       "      <td>62c963609d4ad94a61879458</td>\n",
       "      <td>626d0b2435832dfc8b6a32d7</td>\n",
       "      <td>2022-10-28T23:56:20.070Z</td>\n",
       "      <td>989383684414</td>\n",
       "      <td>301</td>\n",
       "      <td>8</td>\n",
       "    </tr>\n",
       "    <tr>\n",
       "      <th>91</th>\n",
       "      <td>91</td>\n",
       "      <td>1</td>\n",
       "      <td>62c979819d4ad94a61879582</td>\n",
       "      <td>قفلکدc0030</td>\n",
       "      <td>1000</td>\n",
       "      <td>4</td>\n",
       "      <td>آبکاریمس</td>\n",
       "      <td>مناسببرایدستبند،گردنبندو...</td>\n",
       "      <td>1</td>\n",
       "      <td>0</td>\n",
       "      <td>...</td>\n",
       "      <td>0.0</td>\n",
       "      <td>NaN</td>\n",
       "      <td>1</td>\n",
       "      <td>1</td>\n",
       "      <td>62c963609d4ad94a61879458</td>\n",
       "      <td>626d0b2435832dfc8b6a32d7</td>\n",
       "      <td>2022-10-29T00:04:33.655Z</td>\n",
       "      <td>989383684414</td>\n",
       "      <td>301</td>\n",
       "      <td>8</td>\n",
       "    </tr>\n",
       "  </tbody>\n",
       "</table>\n",
       "<p>92 rows × 21 columns</p>\n",
       "</div>\n",
       "      <button class=\"colab-df-convert\" onclick=\"convertToInteractive('df-e9ca78b9-4ab9-481b-9529-300280edd50d')\"\n",
       "              title=\"Convert this dataframe to an interactive table.\"\n",
       "              style=\"display:none;\">\n",
       "        \n",
       "  <svg xmlns=\"http://www.w3.org/2000/svg\" height=\"24px\"viewBox=\"0 0 24 24\"\n",
       "       width=\"24px\">\n",
       "    <path d=\"M0 0h24v24H0V0z\" fill=\"none\"/>\n",
       "    <path d=\"M18.56 5.44l.94 2.06.94-2.06 2.06-.94-2.06-.94-.94-2.06-.94 2.06-2.06.94zm-11 1L8.5 8.5l.94-2.06 2.06-.94-2.06-.94L8.5 2.5l-.94 2.06-2.06.94zm10 10l.94 2.06.94-2.06 2.06-.94-2.06-.94-.94-2.06-.94 2.06-2.06.94z\"/><path d=\"M17.41 7.96l-1.37-1.37c-.4-.4-.92-.59-1.43-.59-.52 0-1.04.2-1.43.59L10.3 9.45l-7.72 7.72c-.78.78-.78 2.05 0 2.83L4 21.41c.39.39.9.59 1.41.59.51 0 1.02-.2 1.41-.59l7.78-7.78 2.81-2.81c.8-.78.8-2.07 0-2.86zM5.41 20L4 18.59l7.72-7.72 1.47 1.35L5.41 20z\"/>\n",
       "  </svg>\n",
       "      </button>\n",
       "      \n",
       "  <style>\n",
       "    .colab-df-container {\n",
       "      display:flex;\n",
       "      flex-wrap:wrap;\n",
       "      gap: 12px;\n",
       "    }\n",
       "\n",
       "    .colab-df-convert {\n",
       "      background-color: #E8F0FE;\n",
       "      border: none;\n",
       "      border-radius: 50%;\n",
       "      cursor: pointer;\n",
       "      display: none;\n",
       "      fill: #1967D2;\n",
       "      height: 32px;\n",
       "      padding: 0 0 0 0;\n",
       "      width: 32px;\n",
       "    }\n",
       "\n",
       "    .colab-df-convert:hover {\n",
       "      background-color: #E2EBFA;\n",
       "      box-shadow: 0px 1px 2px rgba(60, 64, 67, 0.3), 0px 1px 3px 1px rgba(60, 64, 67, 0.15);\n",
       "      fill: #174EA6;\n",
       "    }\n",
       "\n",
       "    [theme=dark] .colab-df-convert {\n",
       "      background-color: #3B4455;\n",
       "      fill: #D2E3FC;\n",
       "    }\n",
       "\n",
       "    [theme=dark] .colab-df-convert:hover {\n",
       "      background-color: #434B5C;\n",
       "      box-shadow: 0px 1px 3px 1px rgba(0, 0, 0, 0.15);\n",
       "      filter: drop-shadow(0px 1px 2px rgba(0, 0, 0, 0.3));\n",
       "      fill: #FFFFFF;\n",
       "    }\n",
       "  </style>\n",
       "\n",
       "      <script>\n",
       "        const buttonEl =\n",
       "          document.querySelector('#df-e9ca78b9-4ab9-481b-9529-300280edd50d button.colab-df-convert');\n",
       "        buttonEl.style.display =\n",
       "          google.colab.kernel.accessAllowed ? 'block' : 'none';\n",
       "\n",
       "        async function convertToInteractive(key) {\n",
       "          const element = document.querySelector('#df-e9ca78b9-4ab9-481b-9529-300280edd50d');\n",
       "          const dataTable =\n",
       "            await google.colab.kernel.invokeFunction('convertToInteractive',\n",
       "                                                     [key], {});\n",
       "          if (!dataTable) return;\n",
       "\n",
       "          const docLinkHtml = 'Like what you see? Visit the ' +\n",
       "            '<a target=\"_blank\" href=https://colab.research.google.com/notebooks/data_table.ipynb>data table notebook</a>'\n",
       "            + ' to learn more about interactive tables.';\n",
       "          element.innerHTML = '';\n",
       "          dataTable['output_type'] = 'display_data';\n",
       "          await google.colab.output.renderOutput(dataTable, element);\n",
       "          const docLink = document.createElement('div');\n",
       "          docLink.innerHTML = docLinkHtml;\n",
       "          element.appendChild(docLink);\n",
       "        }\n",
       "      </script>\n",
       "    </div>\n",
       "  </div>\n",
       "  "
      ],
      "text/plain": [
       "    Unnamed: 0  quantity               product._id            product.name  \\\n",
       "0            0         1  62c97c629d4ad94a61879615        حلقهاتصالکدc0070   \n",
       "1            1         1  62c97a629d4ad94a618795e4            گلابیکدc0050   \n",
       "2            2         1  626d693235832dfc8b6a3530      پلاکگردنبندکدt0042   \n",
       "3            3         2  62706000b4dfe63761fcbc49           انگشترکدt0105   \n",
       "4            4         1  62c97a0f9d4ad94a618795b3  گلابیبسته10عددیکدc0060   \n",
       "..         ...       ...                       ...                     ...   \n",
       "87          87         1  62c979819d4ad94a61879582              قفلکدc0030   \n",
       "88          88         1  62c97a629d4ad94a618795e4            گلابیکدc0050   \n",
       "89          89         1  62c979819d4ad94a61879582              قفلکدc0030   \n",
       "90          90         1  62c979819d4ad94a61879582              قفلکدc0030   \n",
       "91          91         1  62c979819d4ad94a61879582              قفلکدc0030   \n",
       "\n",
       "    product.price  product.average_rating product.texture  \\\n",
       "0             500                       4              مس   \n",
       "1            1000                       4              مس   \n",
       "2           30000                       4              مس   \n",
       "3           14000                       4              مس   \n",
       "4           10000                       4              مس   \n",
       "..            ...                     ...             ...   \n",
       "87           1000                       4        آبکاریمس   \n",
       "88           1000                       4              مس   \n",
       "89           1000                       4        آبکاریمس   \n",
       "90           1000                       4        آبکاریمس   \n",
       "91           1000                       4        آبکاریمس   \n",
       "\n",
       "       product.usage_of_product  product.weight  product.height  ...  \\\n",
       "0                           NaN               1               0  ...   \n",
       "1       اتصالپلاکگردنبندبهزنجیر               1               0  ...   \n",
       "2           مناسببرایفیروزهکوبی              15               0  ...   \n",
       "3           مناسببرایفیروزهکوبی              15               0  ...   \n",
       "4       اتصالپلاکگردنبندبهزنجیر               3               0  ...   \n",
       "..                          ...             ...             ...  ...   \n",
       "87  مناسببرایدستبند،گردنبندو...               1               0  ...   \n",
       "88      اتصالپلاکگردنبندبهزنجیر               1               0  ...   \n",
       "89  مناسببرایدستبند،گردنبندو...               1               0  ...   \n",
       "90  مناسببرایدستبند،گردنبندو...               1               0  ...   \n",
       "91  مناسببرایدستبند،گردنبندو...               1               0  ...   \n",
       "\n",
       "    product.length  product.type_of_colors_used  product.washable  \\\n",
       "0              0.0                          NaN                 1   \n",
       "1              0.0                          NaN                 1   \n",
       "2              5.0                          NaN                 0   \n",
       "3              2.0                          NaN                 0   \n",
       "4              0.0                          NaN                 1   \n",
       "..             ...                          ...               ...   \n",
       "87             0.0                          NaN                 1   \n",
       "88             0.0                          NaN                 1   \n",
       "89             0.0                          NaN                 1   \n",
       "90             0.0                          NaN                 1   \n",
       "91             0.0                          NaN                 1   \n",
       "\n",
       "    product.can_be_heated          product.category                  user._id  \\\n",
       "0                       1  62c963609d4ad94a61879458  626d0c2e35832dfc8b6a32e6   \n",
       "1                       1  62c963609d4ad94a61879458  626d0c2e35832dfc8b6a32e6   \n",
       "2                       1  626d2f4935832dfc8b6a332a  626d0c2e35832dfc8b6a32e6   \n",
       "3                       1  626d2f8235832dfc8b6a3332  626d0c2e35832dfc8b6a32e6   \n",
       "4                       1  62c963609d4ad94a61879458  626d0c2e35832dfc8b6a32e6   \n",
       "..                    ...                       ...                       ...   \n",
       "87                      1  62c963609d4ad94a61879458  626d0b2435832dfc8b6a32d7   \n",
       "88                      1  62c963609d4ad94a61879458  626d0b2435832dfc8b6a32d7   \n",
       "89                      1  62c963609d4ad94a61879458  626d0b2435832dfc8b6a32d7   \n",
       "90                      1  62c963609d4ad94a61879458  626d0b2435832dfc8b6a32d7   \n",
       "91                      1  62c963609d4ad94a61879458  626d0b2435832dfc8b6a32d7   \n",
       "\n",
       "                        date    user.phone  address.city  address.state  \n",
       "0   2022-07-13T16:17:51.845Z  989032417496           999             28  \n",
       "1   2022-07-13T16:17:51.845Z  989032417496           999             28  \n",
       "2   2022-07-13T16:17:51.845Z  989032417496           999             28  \n",
       "3   2022-07-13T16:17:51.845Z  989032417496           999             28  \n",
       "4   2022-07-13T16:22:46.772Z  989032417496           107              3  \n",
       "..                       ...           ...           ...            ...  \n",
       "87  2022-10-28T23:30:23.739Z  989383684414           301              8  \n",
       "88  2022-10-28T23:30:23.739Z  989383684414           301              8  \n",
       "89  2022-10-28T23:42:13.388Z  989383684414           301              8  \n",
       "90  2022-10-28T23:56:20.070Z  989383684414           301              8  \n",
       "91  2022-10-29T00:04:33.655Z  989383684414           301              8  \n",
       "\n",
       "[92 rows x 21 columns]"
      ]
     },
     "execution_count": 3,
     "metadata": {},
     "output_type": "execute_result"
    }
   ],
   "source": [
    "df_one"
   ]
  },
  {
   "cell_type": "code",
   "execution_count": 5,
   "metadata": {
    "id": "Jfbx_U2AQ-Px"
   },
   "outputs": [],
   "source": [
    "df_two = df_one.groupby(['product._id','user._id'])['product._id'].count().unstack().reset_index().fillna(0).set_index('product._id')"
   ]
  },
  {
   "cell_type": "code",
   "execution_count": 6,
   "metadata": {
    "colab": {
     "base_uri": "https://localhost:8080/",
     "height": 519
    },
    "id": "DhkHwvfuU1E6",
    "outputId": "a0431694-af7e-4365-e451-a10f4c9e875e"
   },
   "outputs": [
    {
     "data": {
      "text/html": [
       "\n",
       "  <div id=\"df-af5575d2-1856-4a44-abdf-64ab9efc3290\">\n",
       "    <div class=\"colab-df-container\">\n",
       "      <div>\n",
       "<style scoped>\n",
       "    .dataframe tbody tr th:only-of-type {\n",
       "        vertical-align: middle;\n",
       "    }\n",
       "\n",
       "    .dataframe tbody tr th {\n",
       "        vertical-align: top;\n",
       "    }\n",
       "\n",
       "    .dataframe thead th {\n",
       "        text-align: right;\n",
       "    }\n",
       "</style>\n",
       "<table border=\"1\" class=\"dataframe\">\n",
       "  <thead>\n",
       "    <tr style=\"text-align: right;\">\n",
       "      <th>user._id</th>\n",
       "      <th>626d0b2435832dfc8b6a32d7</th>\n",
       "      <th>626d0c2e35832dfc8b6a32e6</th>\n",
       "      <th>62cfca83784543ef2c50f939</th>\n",
       "      <th>62cfe57f784543ef2c5100d2</th>\n",
       "      <th>62d0211e784543ef2c51079d</th>\n",
       "      <th>62d13e56784543ef2c511676</th>\n",
       "      <th>62d93875293fef6f3147ce4a</th>\n",
       "      <th>62ddc75ee7bd09ecad35c059</th>\n",
       "      <th>62ff9cced4ca91c74d4f5f8f</th>\n",
       "      <th>63027b756e1784dffcc341dd</th>\n",
       "      <th>6325979180860eb94ddad82a</th>\n",
       "      <th>6333fb7cdc934b1c760fd50c</th>\n",
       "      <th>633c2f05eef7fcbaa777cc3b</th>\n",
       "    </tr>\n",
       "    <tr>\n",
       "      <th>product._id</th>\n",
       "      <th></th>\n",
       "      <th></th>\n",
       "      <th></th>\n",
       "      <th></th>\n",
       "      <th></th>\n",
       "      <th></th>\n",
       "      <th></th>\n",
       "      <th></th>\n",
       "      <th></th>\n",
       "      <th></th>\n",
       "      <th></th>\n",
       "      <th></th>\n",
       "      <th></th>\n",
       "    </tr>\n",
       "  </thead>\n",
       "  <tbody>\n",
       "    <tr>\n",
       "      <th>626d693235832dfc8b6a3530</th>\n",
       "      <td>0.0</td>\n",
       "      <td>1.0</td>\n",
       "      <td>0.0</td>\n",
       "      <td>0.0</td>\n",
       "      <td>0.0</td>\n",
       "      <td>0.0</td>\n",
       "      <td>0.0</td>\n",
       "      <td>0.0</td>\n",
       "      <td>0.0</td>\n",
       "      <td>0.0</td>\n",
       "      <td>0.0</td>\n",
       "      <td>0.0</td>\n",
       "      <td>0.0</td>\n",
       "    </tr>\n",
       "    <tr>\n",
       "      <th>626d6b7c35832dfc8b6a354e</th>\n",
       "      <td>0.0</td>\n",
       "      <td>0.0</td>\n",
       "      <td>0.0</td>\n",
       "      <td>0.0</td>\n",
       "      <td>0.0</td>\n",
       "      <td>0.0</td>\n",
       "      <td>0.0</td>\n",
       "      <td>0.0</td>\n",
       "      <td>0.0</td>\n",
       "      <td>1.0</td>\n",
       "      <td>0.0</td>\n",
       "      <td>0.0</td>\n",
       "      <td>0.0</td>\n",
       "    </tr>\n",
       "    <tr>\n",
       "      <th>626d6cef35832dfc8b6a355a</th>\n",
       "      <td>0.0</td>\n",
       "      <td>0.0</td>\n",
       "      <td>0.0</td>\n",
       "      <td>0.0</td>\n",
       "      <td>0.0</td>\n",
       "      <td>0.0</td>\n",
       "      <td>0.0</td>\n",
       "      <td>1.0</td>\n",
       "      <td>0.0</td>\n",
       "      <td>0.0</td>\n",
       "      <td>0.0</td>\n",
       "      <td>0.0</td>\n",
       "      <td>0.0</td>\n",
       "    </tr>\n",
       "    <tr>\n",
       "      <th>626d6da135832dfc8b6a355e</th>\n",
       "      <td>0.0</td>\n",
       "      <td>0.0</td>\n",
       "      <td>0.0</td>\n",
       "      <td>0.0</td>\n",
       "      <td>0.0</td>\n",
       "      <td>0.0</td>\n",
       "      <td>1.0</td>\n",
       "      <td>0.0</td>\n",
       "      <td>0.0</td>\n",
       "      <td>0.0</td>\n",
       "      <td>0.0</td>\n",
       "      <td>0.0</td>\n",
       "      <td>0.0</td>\n",
       "    </tr>\n",
       "    <tr>\n",
       "      <th>626d744e35832dfc8b6a3566</th>\n",
       "      <td>0.0</td>\n",
       "      <td>0.0</td>\n",
       "      <td>0.0</td>\n",
       "      <td>0.0</td>\n",
       "      <td>0.0</td>\n",
       "      <td>0.0</td>\n",
       "      <td>0.0</td>\n",
       "      <td>0.0</td>\n",
       "      <td>0.0</td>\n",
       "      <td>0.0</td>\n",
       "      <td>0.0</td>\n",
       "      <td>1.0</td>\n",
       "      <td>0.0</td>\n",
       "    </tr>\n",
       "    <tr>\n",
       "      <th>...</th>\n",
       "      <td>...</td>\n",
       "      <td>...</td>\n",
       "      <td>...</td>\n",
       "      <td>...</td>\n",
       "      <td>...</td>\n",
       "      <td>...</td>\n",
       "      <td>...</td>\n",
       "      <td>...</td>\n",
       "      <td>...</td>\n",
       "      <td>...</td>\n",
       "      <td>...</td>\n",
       "      <td>...</td>\n",
       "      <td>...</td>\n",
       "    </tr>\n",
       "    <tr>\n",
       "      <th>62cae65c9d4ad94a6187c220</th>\n",
       "      <td>0.0</td>\n",
       "      <td>0.0</td>\n",
       "      <td>0.0</td>\n",
       "      <td>0.0</td>\n",
       "      <td>0.0</td>\n",
       "      <td>0.0</td>\n",
       "      <td>1.0</td>\n",
       "      <td>0.0</td>\n",
       "      <td>0.0</td>\n",
       "      <td>0.0</td>\n",
       "      <td>0.0</td>\n",
       "      <td>0.0</td>\n",
       "      <td>0.0</td>\n",
       "    </tr>\n",
       "    <tr>\n",
       "      <th>62d28e92784543ef2c511fe2</th>\n",
       "      <td>0.0</td>\n",
       "      <td>0.0</td>\n",
       "      <td>0.0</td>\n",
       "      <td>0.0</td>\n",
       "      <td>0.0</td>\n",
       "      <td>0.0</td>\n",
       "      <td>1.0</td>\n",
       "      <td>0.0</td>\n",
       "      <td>0.0</td>\n",
       "      <td>0.0</td>\n",
       "      <td>0.0</td>\n",
       "      <td>0.0</td>\n",
       "      <td>1.0</td>\n",
       "    </tr>\n",
       "    <tr>\n",
       "      <th>631854dfd4ca91c74d4fc19d</th>\n",
       "      <td>0.0</td>\n",
       "      <td>0.0</td>\n",
       "      <td>0.0</td>\n",
       "      <td>0.0</td>\n",
       "      <td>0.0</td>\n",
       "      <td>0.0</td>\n",
       "      <td>0.0</td>\n",
       "      <td>0.0</td>\n",
       "      <td>0.0</td>\n",
       "      <td>1.0</td>\n",
       "      <td>0.0</td>\n",
       "      <td>0.0</td>\n",
       "      <td>0.0</td>\n",
       "    </tr>\n",
       "    <tr>\n",
       "      <th>63185505d4ca91c74d4fc1af</th>\n",
       "      <td>0.0</td>\n",
       "      <td>0.0</td>\n",
       "      <td>0.0</td>\n",
       "      <td>0.0</td>\n",
       "      <td>0.0</td>\n",
       "      <td>0.0</td>\n",
       "      <td>0.0</td>\n",
       "      <td>0.0</td>\n",
       "      <td>0.0</td>\n",
       "      <td>1.0</td>\n",
       "      <td>0.0</td>\n",
       "      <td>0.0</td>\n",
       "      <td>0.0</td>\n",
       "    </tr>\n",
       "    <tr>\n",
       "      <th>631855156e1784dffcc39734</th>\n",
       "      <td>0.0</td>\n",
       "      <td>0.0</td>\n",
       "      <td>0.0</td>\n",
       "      <td>0.0</td>\n",
       "      <td>0.0</td>\n",
       "      <td>0.0</td>\n",
       "      <td>0.0</td>\n",
       "      <td>0.0</td>\n",
       "      <td>0.0</td>\n",
       "      <td>1.0</td>\n",
       "      <td>0.0</td>\n",
       "      <td>0.0</td>\n",
       "      <td>0.0</td>\n",
       "    </tr>\n",
       "  </tbody>\n",
       "</table>\n",
       "<p>64 rows × 13 columns</p>\n",
       "</div>\n",
       "      <button class=\"colab-df-convert\" onclick=\"convertToInteractive('df-af5575d2-1856-4a44-abdf-64ab9efc3290')\"\n",
       "              title=\"Convert this dataframe to an interactive table.\"\n",
       "              style=\"display:none;\">\n",
       "        \n",
       "  <svg xmlns=\"http://www.w3.org/2000/svg\" height=\"24px\"viewBox=\"0 0 24 24\"\n",
       "       width=\"24px\">\n",
       "    <path d=\"M0 0h24v24H0V0z\" fill=\"none\"/>\n",
       "    <path d=\"M18.56 5.44l.94 2.06.94-2.06 2.06-.94-2.06-.94-.94-2.06-.94 2.06-2.06.94zm-11 1L8.5 8.5l.94-2.06 2.06-.94-2.06-.94L8.5 2.5l-.94 2.06-2.06.94zm10 10l.94 2.06.94-2.06 2.06-.94-2.06-.94-.94-2.06-.94 2.06-2.06.94z\"/><path d=\"M17.41 7.96l-1.37-1.37c-.4-.4-.92-.59-1.43-.59-.52 0-1.04.2-1.43.59L10.3 9.45l-7.72 7.72c-.78.78-.78 2.05 0 2.83L4 21.41c.39.39.9.59 1.41.59.51 0 1.02-.2 1.41-.59l7.78-7.78 2.81-2.81c.8-.78.8-2.07 0-2.86zM5.41 20L4 18.59l7.72-7.72 1.47 1.35L5.41 20z\"/>\n",
       "  </svg>\n",
       "      </button>\n",
       "      \n",
       "  <style>\n",
       "    .colab-df-container {\n",
       "      display:flex;\n",
       "      flex-wrap:wrap;\n",
       "      gap: 12px;\n",
       "    }\n",
       "\n",
       "    .colab-df-convert {\n",
       "      background-color: #E8F0FE;\n",
       "      border: none;\n",
       "      border-radius: 50%;\n",
       "      cursor: pointer;\n",
       "      display: none;\n",
       "      fill: #1967D2;\n",
       "      height: 32px;\n",
       "      padding: 0 0 0 0;\n",
       "      width: 32px;\n",
       "    }\n",
       "\n",
       "    .colab-df-convert:hover {\n",
       "      background-color: #E2EBFA;\n",
       "      box-shadow: 0px 1px 2px rgba(60, 64, 67, 0.3), 0px 1px 3px 1px rgba(60, 64, 67, 0.15);\n",
       "      fill: #174EA6;\n",
       "    }\n",
       "\n",
       "    [theme=dark] .colab-df-convert {\n",
       "      background-color: #3B4455;\n",
       "      fill: #D2E3FC;\n",
       "    }\n",
       "\n",
       "    [theme=dark] .colab-df-convert:hover {\n",
       "      background-color: #434B5C;\n",
       "      box-shadow: 0px 1px 3px 1px rgba(0, 0, 0, 0.15);\n",
       "      filter: drop-shadow(0px 1px 2px rgba(0, 0, 0, 0.3));\n",
       "      fill: #FFFFFF;\n",
       "    }\n",
       "  </style>\n",
       "\n",
       "      <script>\n",
       "        const buttonEl =\n",
       "          document.querySelector('#df-af5575d2-1856-4a44-abdf-64ab9efc3290 button.colab-df-convert');\n",
       "        buttonEl.style.display =\n",
       "          google.colab.kernel.accessAllowed ? 'block' : 'none';\n",
       "\n",
       "        async function convertToInteractive(key) {\n",
       "          const element = document.querySelector('#df-af5575d2-1856-4a44-abdf-64ab9efc3290');\n",
       "          const dataTable =\n",
       "            await google.colab.kernel.invokeFunction('convertToInteractive',\n",
       "                                                     [key], {});\n",
       "          if (!dataTable) return;\n",
       "\n",
       "          const docLinkHtml = 'Like what you see? Visit the ' +\n",
       "            '<a target=\"_blank\" href=https://colab.research.google.com/notebooks/data_table.ipynb>data table notebook</a>'\n",
       "            + ' to learn more about interactive tables.';\n",
       "          element.innerHTML = '';\n",
       "          dataTable['output_type'] = 'display_data';\n",
       "          await google.colab.output.renderOutput(dataTable, element);\n",
       "          const docLink = document.createElement('div');\n",
       "          docLink.innerHTML = docLinkHtml;\n",
       "          element.appendChild(docLink);\n",
       "        }\n",
       "      </script>\n",
       "    </div>\n",
       "  </div>\n",
       "  "
      ],
      "text/plain": [
       "user._id                  626d0b2435832dfc8b6a32d7  626d0c2e35832dfc8b6a32e6  \\\n",
       "product._id                                                                    \n",
       "626d693235832dfc8b6a3530                       0.0                       1.0   \n",
       "626d6b7c35832dfc8b6a354e                       0.0                       0.0   \n",
       "626d6cef35832dfc8b6a355a                       0.0                       0.0   \n",
       "626d6da135832dfc8b6a355e                       0.0                       0.0   \n",
       "626d744e35832dfc8b6a3566                       0.0                       0.0   \n",
       "...                                            ...                       ...   \n",
       "62cae65c9d4ad94a6187c220                       0.0                       0.0   \n",
       "62d28e92784543ef2c511fe2                       0.0                       0.0   \n",
       "631854dfd4ca91c74d4fc19d                       0.0                       0.0   \n",
       "63185505d4ca91c74d4fc1af                       0.0                       0.0   \n",
       "631855156e1784dffcc39734                       0.0                       0.0   \n",
       "\n",
       "user._id                  62cfca83784543ef2c50f939  62cfe57f784543ef2c5100d2  \\\n",
       "product._id                                                                    \n",
       "626d693235832dfc8b6a3530                       0.0                       0.0   \n",
       "626d6b7c35832dfc8b6a354e                       0.0                       0.0   \n",
       "626d6cef35832dfc8b6a355a                       0.0                       0.0   \n",
       "626d6da135832dfc8b6a355e                       0.0                       0.0   \n",
       "626d744e35832dfc8b6a3566                       0.0                       0.0   \n",
       "...                                            ...                       ...   \n",
       "62cae65c9d4ad94a6187c220                       0.0                       0.0   \n",
       "62d28e92784543ef2c511fe2                       0.0                       0.0   \n",
       "631854dfd4ca91c74d4fc19d                       0.0                       0.0   \n",
       "63185505d4ca91c74d4fc1af                       0.0                       0.0   \n",
       "631855156e1784dffcc39734                       0.0                       0.0   \n",
       "\n",
       "user._id                  62d0211e784543ef2c51079d  62d13e56784543ef2c511676  \\\n",
       "product._id                                                                    \n",
       "626d693235832dfc8b6a3530                       0.0                       0.0   \n",
       "626d6b7c35832dfc8b6a354e                       0.0                       0.0   \n",
       "626d6cef35832dfc8b6a355a                       0.0                       0.0   \n",
       "626d6da135832dfc8b6a355e                       0.0                       0.0   \n",
       "626d744e35832dfc8b6a3566                       0.0                       0.0   \n",
       "...                                            ...                       ...   \n",
       "62cae65c9d4ad94a6187c220                       0.0                       0.0   \n",
       "62d28e92784543ef2c511fe2                       0.0                       0.0   \n",
       "631854dfd4ca91c74d4fc19d                       0.0                       0.0   \n",
       "63185505d4ca91c74d4fc1af                       0.0                       0.0   \n",
       "631855156e1784dffcc39734                       0.0                       0.0   \n",
       "\n",
       "user._id                  62d93875293fef6f3147ce4a  62ddc75ee7bd09ecad35c059  \\\n",
       "product._id                                                                    \n",
       "626d693235832dfc8b6a3530                       0.0                       0.0   \n",
       "626d6b7c35832dfc8b6a354e                       0.0                       0.0   \n",
       "626d6cef35832dfc8b6a355a                       0.0                       1.0   \n",
       "626d6da135832dfc8b6a355e                       1.0                       0.0   \n",
       "626d744e35832dfc8b6a3566                       0.0                       0.0   \n",
       "...                                            ...                       ...   \n",
       "62cae65c9d4ad94a6187c220                       1.0                       0.0   \n",
       "62d28e92784543ef2c511fe2                       1.0                       0.0   \n",
       "631854dfd4ca91c74d4fc19d                       0.0                       0.0   \n",
       "63185505d4ca91c74d4fc1af                       0.0                       0.0   \n",
       "631855156e1784dffcc39734                       0.0                       0.0   \n",
       "\n",
       "user._id                  62ff9cced4ca91c74d4f5f8f  63027b756e1784dffcc341dd  \\\n",
       "product._id                                                                    \n",
       "626d693235832dfc8b6a3530                       0.0                       0.0   \n",
       "626d6b7c35832dfc8b6a354e                       0.0                       1.0   \n",
       "626d6cef35832dfc8b6a355a                       0.0                       0.0   \n",
       "626d6da135832dfc8b6a355e                       0.0                       0.0   \n",
       "626d744e35832dfc8b6a3566                       0.0                       0.0   \n",
       "...                                            ...                       ...   \n",
       "62cae65c9d4ad94a6187c220                       0.0                       0.0   \n",
       "62d28e92784543ef2c511fe2                       0.0                       0.0   \n",
       "631854dfd4ca91c74d4fc19d                       0.0                       1.0   \n",
       "63185505d4ca91c74d4fc1af                       0.0                       1.0   \n",
       "631855156e1784dffcc39734                       0.0                       1.0   \n",
       "\n",
       "user._id                  6325979180860eb94ddad82a  6333fb7cdc934b1c760fd50c  \\\n",
       "product._id                                                                    \n",
       "626d693235832dfc8b6a3530                       0.0                       0.0   \n",
       "626d6b7c35832dfc8b6a354e                       0.0                       0.0   \n",
       "626d6cef35832dfc8b6a355a                       0.0                       0.0   \n",
       "626d6da135832dfc8b6a355e                       0.0                       0.0   \n",
       "626d744e35832dfc8b6a3566                       0.0                       1.0   \n",
       "...                                            ...                       ...   \n",
       "62cae65c9d4ad94a6187c220                       0.0                       0.0   \n",
       "62d28e92784543ef2c511fe2                       0.0                       0.0   \n",
       "631854dfd4ca91c74d4fc19d                       0.0                       0.0   \n",
       "63185505d4ca91c74d4fc1af                       0.0                       0.0   \n",
       "631855156e1784dffcc39734                       0.0                       0.0   \n",
       "\n",
       "user._id                  633c2f05eef7fcbaa777cc3b  \n",
       "product._id                                         \n",
       "626d693235832dfc8b6a3530                       0.0  \n",
       "626d6b7c35832dfc8b6a354e                       0.0  \n",
       "626d6cef35832dfc8b6a355a                       0.0  \n",
       "626d6da135832dfc8b6a355e                       0.0  \n",
       "626d744e35832dfc8b6a3566                       0.0  \n",
       "...                                            ...  \n",
       "62cae65c9d4ad94a6187c220                       0.0  \n",
       "62d28e92784543ef2c511fe2                       1.0  \n",
       "631854dfd4ca91c74d4fc19d                       0.0  \n",
       "63185505d4ca91c74d4fc1af                       0.0  \n",
       "631855156e1784dffcc39734                       0.0  \n",
       "\n",
       "[64 rows x 13 columns]"
      ]
     },
     "execution_count": 6,
     "metadata": {},
     "output_type": "execute_result"
    }
   ],
   "source": [
    "df_two"
   ]
  },
  {
   "cell_type": "code",
   "execution_count": 7,
   "metadata": {
    "colab": {
     "base_uri": "https://localhost:8080/"
    },
    "id": "nX7Z9XqnVCla",
    "outputId": "89b97c5e-dc57-40e1-c6fd-5712fd2166e1"
   },
   "outputs": [
    {
     "data": {
      "text/plain": [
       "user._id\n",
       "626d0b2435832dfc8b6a32d7    4.0\n",
       "626d0c2e35832dfc8b6a32e6    1.0\n",
       "62cfca83784543ef2c50f939    1.0\n",
       "62cfe57f784543ef2c5100d2    1.0\n",
       "62d0211e784543ef2c51079d    1.0\n",
       "62d13e56784543ef2c511676    1.0\n",
       "62d93875293fef6f3147ce4a    1.0\n",
       "62ddc75ee7bd09ecad35c059    1.0\n",
       "62ff9cced4ca91c74d4f5f8f    1.0\n",
       "63027b756e1784dffcc341dd    3.0\n",
       "6325979180860eb94ddad82a    1.0\n",
       "6333fb7cdc934b1c760fd50c    1.0\n",
       "633c2f05eef7fcbaa777cc3b    1.0\n",
       "dtype: float64"
      ]
     },
     "execution_count": 7,
     "metadata": {},
     "output_type": "execute_result"
    }
   ],
   "source": [
    "df_two.max()"
   ]
  },
  {
   "cell_type": "code",
   "execution_count": 10,
   "metadata": {
    "colab": {
     "base_uri": "https://localhost:8080/"
    },
    "id": "NHNQYdk9VcbB",
    "outputId": "89c3c420-ba51-4c87-d27b-38fc32700bb2"
   },
   "outputs": [
    {
     "data": {
      "text/plain": [
       "user._id\n",
       "626d0b2435832dfc8b6a32d7    0.0\n",
       "626d0c2e35832dfc8b6a32e6    0.0\n",
       "62cfca83784543ef2c50f939    0.0\n",
       "62cfe57f784543ef2c5100d2    0.0\n",
       "62d0211e784543ef2c51079d    0.0\n",
       "62d13e56784543ef2c511676    0.0\n",
       "62d93875293fef6f3147ce4a    0.0\n",
       "62ddc75ee7bd09ecad35c059    0.0\n",
       "62ff9cced4ca91c74d4f5f8f    0.0\n",
       "63027b756e1784dffcc341dd    0.0\n",
       "6325979180860eb94ddad82a    0.0\n",
       "6333fb7cdc934b1c760fd50c    0.0\n",
       "633c2f05eef7fcbaa777cc3b    0.0\n",
       "dtype: float64"
      ]
     },
     "execution_count": 10,
     "metadata": {},
     "output_type": "execute_result"
    }
   ],
   "source": [
    "df_two.min()"
   ]
  },
  {
   "cell_type": "code",
   "execution_count": 8,
   "metadata": {
    "colab": {
     "base_uri": "https://localhost:8080/"
    },
    "id": "T_LKqRL7s5ZF",
    "outputId": "840bf9c0-27e5-41c6-b9cd-cf19c5ecdad1"
   },
   "outputs": [
    {
     "data": {
      "text/plain": [
       "0.0    62\n",
       "4.0     1\n",
       "1.0     1\n",
       "Name: 626d0b2435832dfc8b6a32d7, dtype: int64"
      ]
     },
     "execution_count": 8,
     "metadata": {},
     "output_type": "execute_result"
    }
   ],
   "source": [
    "df_two['626d0b2435832dfc8b6a32d7'].value_counts()"
   ]
  },
  {
   "cell_type": "code",
   "execution_count": 9,
   "metadata": {
    "colab": {
     "base_uri": "https://localhost:8080/"
    },
    "id": "K92luAmgti1z",
    "outputId": "2e133107-b3d4-4c60-dd26-b93732cd51cb"
   },
   "outputs": [
    {
     "data": {
      "text/plain": [
       "1.0"
      ]
     },
     "execution_count": 9,
     "metadata": {},
     "output_type": "execute_result"
    }
   ],
   "source": [
    "df_two.iloc[0].sum()"
   ]
  },
  {
   "cell_type": "code",
   "execution_count": null,
   "metadata": {
    "id": "4xk8Ts5_tqQs"
   },
   "outputs": [],
   "source": []
  },
  {
   "cell_type": "code",
   "execution_count": 10,
   "metadata": {
    "id": "U-95u7LyVxRp"
   },
   "outputs": [],
   "source": [
    "def rating_df(df):\n",
    "    for i in range(len(df.index)):\n",
    "        row = df.iloc[i]\n",
    "        sum_row = row.sum()\n",
    "        if sum_row == 0:\n",
    "            continue\n",
    "        for j in range(len(df.columns)):\n",
    "            if df.iloc[i,j] == 0:\n",
    "                continue\n",
    "            else:\n",
    "                df.iloc[i,j] = df.iloc[i,j]/sum_row\n",
    "        return df\n"
   ]
  },
  {
   "cell_type": "code",
   "execution_count": 11,
   "metadata": {
    "id": "Bx0-U3qGxlx0"
   },
   "outputs": [],
   "source": [
    "df_three = rating_df(df_two)"
   ]
  },
  {
   "cell_type": "code",
   "execution_count": null,
   "metadata": {
    "id": "riGc6wHmx0XU"
   },
   "outputs": [],
   "source": []
  },
  {
   "cell_type": "code",
   "execution_count": 12,
   "metadata": {
    "colab": {
     "base_uri": "https://localhost:8080/"
    },
    "id": "8OPsL1Z4WKmR",
    "outputId": "fc727995-ac41-45d2-8059-8d54dac27592"
   },
   "outputs": [
    {
     "data": {
      "text/plain": [
       "user._id\n",
       "626d0b2435832dfc8b6a32d7    1.00\n",
       "626d0c2e35832dfc8b6a32e6    1.00\n",
       "62cfca83784543ef2c50f939    0.50\n",
       "62cfe57f784543ef2c5100d2    1.00\n",
       "62d0211e784543ef2c51079d    1.00\n",
       "62d13e56784543ef2c511676    0.50\n",
       "62d93875293fef6f3147ce4a    1.00\n",
       "62ddc75ee7bd09ecad35c059    1.00\n",
       "62ff9cced4ca91c74d4f5f8f    1.00\n",
       "63027b756e1784dffcc341dd    1.00\n",
       "6325979180860eb94ddad82a    0.25\n",
       "6333fb7cdc934b1c760fd50c    1.00\n",
       "633c2f05eef7fcbaa777cc3b    0.50\n",
       "dtype: float64"
      ]
     },
     "execution_count": 12,
     "metadata": {},
     "output_type": "execute_result"
    }
   ],
   "source": [
    "df_three.max()"
   ]
  },
  {
   "cell_type": "code",
   "execution_count": 13,
   "metadata": {
    "colab": {
     "base_uri": "https://localhost:8080/"
    },
    "id": "AkP0g1GuWNzZ",
    "outputId": "f8a9c5c2-1a75-4981-826d-cacdf27ada8c"
   },
   "outputs": [
    {
     "data": {
      "text/plain": [
       "user._id\n",
       "626d0b2435832dfc8b6a32d7    0.0\n",
       "626d0c2e35832dfc8b6a32e6    0.0\n",
       "62cfca83784543ef2c50f939    0.0\n",
       "62cfe57f784543ef2c5100d2    0.0\n",
       "62d0211e784543ef2c51079d    0.0\n",
       "62d13e56784543ef2c511676    0.0\n",
       "62d93875293fef6f3147ce4a    0.0\n",
       "62ddc75ee7bd09ecad35c059    0.0\n",
       "62ff9cced4ca91c74d4f5f8f    0.0\n",
       "63027b756e1784dffcc341dd    0.0\n",
       "6325979180860eb94ddad82a    0.0\n",
       "6333fb7cdc934b1c760fd50c    0.0\n",
       "633c2f05eef7fcbaa777cc3b    0.0\n",
       "dtype: float64"
      ]
     },
     "execution_count": 13,
     "metadata": {},
     "output_type": "execute_result"
    }
   ],
   "source": [
    "df_three.min()"
   ]
  },
  {
   "cell_type": "code",
   "execution_count": 81,
   "metadata": {
    "id": "EArs8ZBbx9M8"
   },
   "outputs": [],
   "source": [
    "def item_similarity(item1,item2,dataset):\n",
    "    item1_ratings = [dataset.loc[item1]]\n",
    "    item2_ratings = [dataset.loc[item2]]\n",
    "    cs = cosine_similarity(item1_ratings,item2_ratings)\n",
    "    return cs"
   ]
  },
  {
   "cell_type": "code",
   "execution_count": 61,
   "metadata": {
    "colab": {
     "base_uri": "https://localhost:8080/"
    },
    "id": "70FpNcgxSkKH",
    "outputId": "b1bf97a7-c121-4582-a3d3-74e01c20099f"
   },
   "outputs": [
    {
     "data": {
      "text/plain": [
       "Index(['626d693235832dfc8b6a3530', '626d6b7c35832dfc8b6a354e',\n",
       "       '626d6cef35832dfc8b6a355a', '626d6da135832dfc8b6a355e',\n",
       "       '626d744e35832dfc8b6a3566', '626d74d635832dfc8b6a3575',\n",
       "       '626d74fe35832dfc8b6a3577', '626d755735832dfc8b6a357b',\n",
       "       '626d7ea535832dfc8b6a3589', '626d7fc635832dfc8b6a35ad',\n",
       "       '626d814435832dfc8b6a35bd', '62703f81b4dfe63761fcb69b',\n",
       "       '62703fb0b4dfe63761fcb69d', '627040e1b4dfe63761fcb6a9',\n",
       "       '6270411eb4dfe63761fcb6ad', '627041dfb4dfe63761fcb6b7',\n",
       "       '62705cd6b4dfe63761fcbb33', '62705d57b4dfe63761fcbc09',\n",
       "       '62706000b4dfe63761fcbc49', '6270607eb4dfe63761fcbcc3',\n",
       "       '627060a7b4dfe63761fcbcc5', '6270627ab4dfe63761fcbd20',\n",
       "       '62706372b4dfe63761fcbd28', '62a25d21c8dabc94893d50f4',\n",
       "       '62a2656ac8dabc94893d5525', '62a351b0c8dabc94893d68d4',\n",
       "       '62a35349c8dabc94893d694c', '62c9792c9d4ad94a6187956a',\n",
       "       '62c979819d4ad94a61879582', '62c97a0f9d4ad94a618795b3',\n",
       "       '62c97a629d4ad94a618795e4', '62c97bde9d4ad94a618795fd',\n",
       "       '62c97c629d4ad94a61879615', '62c97d009d4ad94a6187962d',\n",
       "       '62c97ea39d4ad94a61879677', '62c97fd69d4ad94a618796d6',\n",
       "       '62c983a69d4ad94a6187970d', '62c984249d4ad94a6187973b',\n",
       "       '62c984cb9d4ad94a61879753', '62c985db9d4ad94a6187976b',\n",
       "       '62c989449d4ad94a61879874', '62c989eb9d4ad94a618798be',\n",
       "       '62c98dcc9d4ad94a618799cf', '62c98e599d4ad94a618799e7',\n",
       "       '62c990949d4ad94a61879a31', '62c997e59d4ad94a61879b59',\n",
       "       '62c99c379d4ad94a61879c35', '62c99cb59d4ad94a61879c58',\n",
       "       '62c9a6a89d4ad94a61879f95', '62cacfdb9d4ad94a6187bf32',\n",
       "       '62cad0c99d4ad94a6187bf88', '62cad1789d4ad94a6187bf9c',\n",
       "       '62cad41a9d4ad94a6187c04c', '62cad9fb9d4ad94a6187c0f5',\n",
       "       '62cae0f59d4ad94a6187c11e', '62cae19e9d4ad94a6187c14a',\n",
       "       '62cae2f49d4ad94a6187c186', '62cae4759d4ad94a6187c1c8',\n",
       "       '62cae5449d4ad94a6187c1f3', '62cae65c9d4ad94a6187c220',\n",
       "       '62d28e92784543ef2c511fe2', '631854dfd4ca91c74d4fc19d',\n",
       "       '63185505d4ca91c74d4fc1af', '631855156e1784dffcc39734'],\n",
       "      dtype='object', name='product._id')"
      ]
     },
     "execution_count": 61,
     "metadata": {},
     "output_type": "execute_result"
    }
   ],
   "source": [
    "df_three.index"
   ]
  },
  {
   "cell_type": "code",
   "execution_count": 65,
   "metadata": {
    "colab": {
     "base_uri": "https://localhost:8080/"
    },
    "id": "8k6ie7g_S6st",
    "outputId": "28b8293f-63f6-4317-94de-1fec123c46cf"
   },
   "outputs": [
    {
     "data": {
      "text/plain": [
       "1.0"
      ]
     },
     "execution_count": 65,
     "metadata": {},
     "output_type": "execute_result"
    }
   ],
   "source": [
    "df_three.iloc[1].sum()"
   ]
  },
  {
   "cell_type": "code",
   "execution_count": 82,
   "metadata": {
    "colab": {
     "base_uri": "https://localhost:8080/"
    },
    "id": "4mdrwGprSXn5",
    "outputId": "81a4b656-09f5-4d8a-fa5d-ade95ab32557"
   },
   "outputs": [
    {
     "data": {
      "text/plain": [
       "array([[0.]])"
      ]
     },
     "execution_count": 82,
     "metadata": {},
     "output_type": "execute_result"
    }
   ],
   "source": [
    "item_similarity('626d693235832dfc8b6a3530','626d6b7c35832dfc8b6a354e',df_three)"
   ]
  },
  {
   "cell_type": "code",
   "execution_count": 23,
   "metadata": {
    "colab": {
     "base_uri": "https://localhost:8080/"
    },
    "id": "DYdrIDww1HL0",
    "outputId": "4739a02b-d2da-4f25-d966-b2821f4a6d91"
   },
   "outputs": [
    {
     "data": {
      "text/plain": [
       "['626d0b2435832dfc8b6a32d7',\n",
       " '626d0c2e35832dfc8b6a32e6',\n",
       " '62cfca83784543ef2c50f939',\n",
       " '62cfe57f784543ef2c5100d2',\n",
       " '62d0211e784543ef2c51079d',\n",
       " '62d13e56784543ef2c511676',\n",
       " '62d93875293fef6f3147ce4a',\n",
       " '62ddc75ee7bd09ecad35c059',\n",
       " '62ff9cced4ca91c74d4f5f8f',\n",
       " '63027b756e1784dffcc341dd',\n",
       " '6325979180860eb94ddad82a',\n",
       " '6333fb7cdc934b1c760fd50c',\n",
       " '633c2f05eef7fcbaa777cc3b']"
      ]
     },
     "execution_count": 23,
     "metadata": {},
     "output_type": "execute_result"
    }
   ],
   "source": [
    "list(df_three.columns)"
   ]
  },
  {
   "cell_type": "code",
   "execution_count": 26,
   "metadata": {
    "id": "DnBeyc3o1Rzs"
   },
   "outputs": [],
   "source": [
    "def unique_items(dataset):\n",
    "    unique_items_list = []\n",
    "    for person in dataset.keys():\n",
    "        for items in dataset[person]:\n",
    "            unique_items_list.append(items)\n",
    "    s=set(unique_items_list)\n",
    "    unique_items_list=list(s)\n",
    "    return unique_items_list"
   ]
  },
  {
   "cell_type": "code",
   "execution_count": 22,
   "metadata": {
    "colab": {
     "base_uri": "https://localhost:8080/"
    },
    "id": "wQ7-BTW81Xsh",
    "outputId": "ec51f3d4-f250-43e6-caa5-5c508b7228ba"
   },
   "outputs": [
    {
     "data": {
      "text/plain": [
       "[0.0, 1.0, 0.2, 0.5, 0.25, 0.3333333333333333, 0.6, 0.6666666666666666]"
      ]
     },
     "execution_count": 22,
     "metadata": {},
     "output_type": "execute_result"
    }
   ],
   "source": [
    "unique_items(df_three)"
   ]
  },
  {
   "cell_type": "code",
   "execution_count": 24,
   "metadata": {
    "id": "akvhKCmpzVJp"
   },
   "outputs": [],
   "source": [
    "#custom function to check most similar items \n",
    "\n",
    "def most_similar_items(target_item,df):\n",
    "    un_lst=list(df_three.columns)\n",
    "    scores = [(item_similarity(target_item,other_item,df),target_item+\" --> \"+other_item) for other_item in un_lst if other_item!=target_item]\n",
    "    scores.sort(reverse=True)\n",
    "    return scores"
   ]
  },
  {
   "cell_type": "code",
   "execution_count": 25,
   "metadata": {
    "colab": {
     "base_uri": "https://localhost:8080/"
    },
    "id": "M7xq0mnUzwns",
    "outputId": "bd6614f3-fccc-4b33-e864-e35625128e48"
   },
   "outputs": [
    {
     "name": "stdout",
     "output_type": "stream",
     "text": [
      "[(0, '626d693235832dfc8b6a3530 --> 633c2f05eef7fcbaa777cc3b'), (0, '626d693235832dfc8b6a3530 --> 6333fb7cdc934b1c760fd50c'), (0, '626d693235832dfc8b6a3530 --> 6325979180860eb94ddad82a'), (0, '626d693235832dfc8b6a3530 --> 63027b756e1784dffcc341dd'), (0, '626d693235832dfc8b6a3530 --> 62ff9cced4ca91c74d4f5f8f'), (0, '626d693235832dfc8b6a3530 --> 62ddc75ee7bd09ecad35c059'), (0, '626d693235832dfc8b6a3530 --> 62d93875293fef6f3147ce4a'), (0, '626d693235832dfc8b6a3530 --> 62d13e56784543ef2c511676'), (0, '626d693235832dfc8b6a3530 --> 62d0211e784543ef2c51079d'), (0, '626d693235832dfc8b6a3530 --> 62cfe57f784543ef2c5100d2'), (0, '626d693235832dfc8b6a3530 --> 62cfca83784543ef2c50f939'), (0, '626d693235832dfc8b6a3530 --> 626d0c2e35832dfc8b6a32e6'), (0, '626d693235832dfc8b6a3530 --> 626d0b2435832dfc8b6a32d7')]\n"
     ]
    }
   ],
   "source": [
    "print(most_similar_items('626d693235832dfc8b6a3530',df_three))"
   ]
  },
  {
   "cell_type": "code",
   "execution_count": 57,
   "metadata": {
    "id": "iDB1itHV1Dup"
   },
   "outputs": [],
   "source": [
    "#custom function to filter the seen movies and unseen movies of the target user\n",
    "\n",
    "def target_movies_to_users(target_person,dataset):\n",
    "    target_person_movie_lst = []\n",
    "    unique_list =list(dataset.index)\n",
    "    for movies in dataset[target_person].index:\n",
    "        if dataset.loc[movies,target_person] != 0:\n",
    "            target_person_movie_lst.append(movies)\n",
    "\n",
    "    s=set(unique_list)\n",
    "    recommended_movies=list(s.difference(set(target_person_movie_lst)))\n",
    "    a = len(recommended_movies)\n",
    "    if a == 0:\n",
    "        return 0\n",
    "    return recommended_movies,target_person_movie_lst"
   ]
  },
  {
   "cell_type": "code",
   "execution_count": 59,
   "metadata": {
    "colab": {
     "base_uri": "https://localhost:8080/"
    },
    "id": "K8DY17wz-xcQ",
    "outputId": "e108eabd-a41d-4ee8-9b3b-36c5a796dec2"
   },
   "outputs": [
    {
     "data": {
      "text/plain": [
       "['62c979819d4ad94a61879582', '62c97a629d4ad94a618795e4']"
      ]
     },
     "execution_count": 59,
     "metadata": {},
     "output_type": "execute_result"
    }
   ],
   "source": [
    "unseen_movies,seen_movies=target_movies_to_users('626d0b2435832dfc8b6a32d7',df_three)\n",
    "\n",
    "seen_movies"
   ]
  },
  {
   "cell_type": "code",
   "execution_count": 92,
   "metadata": {
    "colab": {
     "base_uri": "https://localhost:8080/"
    },
    "id": "R9DMU2npiYbd",
    "outputId": "0a63fe76-4317-4ae6-d78e-d24eb4e58804"
   },
   "outputs": [
    {
     "data": {
      "text/plain": [
       "product._id\n",
       "626d693235832dfc8b6a3530    0.0\n",
       "626d6b7c35832dfc8b6a354e    0.0\n",
       "626d6cef35832dfc8b6a355a    0.0\n",
       "626d6da135832dfc8b6a355e    0.0\n",
       "626d744e35832dfc8b6a3566    0.0\n",
       "                           ... \n",
       "62cae65c9d4ad94a6187c220    0.0\n",
       "62d28e92784543ef2c511fe2    0.0\n",
       "631854dfd4ca91c74d4fc19d    0.0\n",
       "63185505d4ca91c74d4fc1af    0.0\n",
       "631855156e1784dffcc39734    0.0\n",
       "Name: 626d0b2435832dfc8b6a32d7, Length: 64, dtype: float64"
      ]
     },
     "execution_count": 92,
     "metadata": {},
     "output_type": "execute_result"
    }
   ],
   "source": [
    "df_three['626d0b2435832dfc8b6a32d7']"
   ]
  },
  {
   "cell_type": "code",
   "execution_count": 100,
   "metadata": {
    "id": "A8IrhMaggc2b"
   },
   "outputs": [],
   "source": [
    "seen_ratings = [[movies.index,movies] for movies in df_three['626d0b2435832dfc8b6a32d7'].items()]"
   ]
  },
  {
   "cell_type": "code",
   "execution_count": 101,
   "metadata": {
    "colab": {
     "base_uri": "https://localhost:8080/"
    },
    "id": "LDcjtJXwkHzf",
    "outputId": "ff8a3f08-c27f-40d4-a7cb-afe4d950f6e2"
   },
   "outputs": [
    {
     "data": {
      "text/plain": [
       "[[<function tuple.index(value, start=0, stop=9223372036854775807, /)>,\n",
       "  ('626d693235832dfc8b6a3530', 0.0)],\n",
       " [<function tuple.index(value, start=0, stop=9223372036854775807, /)>,\n",
       "  ('626d6b7c35832dfc8b6a354e', 0.0)],\n",
       " [<function tuple.index(value, start=0, stop=9223372036854775807, /)>,\n",
       "  ('626d6cef35832dfc8b6a355a', 0.0)],\n",
       " [<function tuple.index(value, start=0, stop=9223372036854775807, /)>,\n",
       "  ('626d6da135832dfc8b6a355e', 0.0)],\n",
       " [<function tuple.index(value, start=0, stop=9223372036854775807, /)>,\n",
       "  ('626d744e35832dfc8b6a3566', 0.0)],\n",
       " [<function tuple.index(value, start=0, stop=9223372036854775807, /)>,\n",
       "  ('626d74d635832dfc8b6a3575', 0.0)],\n",
       " [<function tuple.index(value, start=0, stop=9223372036854775807, /)>,\n",
       "  ('626d74fe35832dfc8b6a3577', 0.0)],\n",
       " [<function tuple.index(value, start=0, stop=9223372036854775807, /)>,\n",
       "  ('626d755735832dfc8b6a357b', 0.0)],\n",
       " [<function tuple.index(value, start=0, stop=9223372036854775807, /)>,\n",
       "  ('626d7ea535832dfc8b6a3589', 0.0)],\n",
       " [<function tuple.index(value, start=0, stop=9223372036854775807, /)>,\n",
       "  ('626d7fc635832dfc8b6a35ad', 0.0)],\n",
       " [<function tuple.index(value, start=0, stop=9223372036854775807, /)>,\n",
       "  ('626d814435832dfc8b6a35bd', 0.0)],\n",
       " [<function tuple.index(value, start=0, stop=9223372036854775807, /)>,\n",
       "  ('62703f81b4dfe63761fcb69b', 0.0)],\n",
       " [<function tuple.index(value, start=0, stop=9223372036854775807, /)>,\n",
       "  ('62703fb0b4dfe63761fcb69d', 0.0)],\n",
       " [<function tuple.index(value, start=0, stop=9223372036854775807, /)>,\n",
       "  ('627040e1b4dfe63761fcb6a9', 0.0)],\n",
       " [<function tuple.index(value, start=0, stop=9223372036854775807, /)>,\n",
       "  ('6270411eb4dfe63761fcb6ad', 0.0)],\n",
       " [<function tuple.index(value, start=0, stop=9223372036854775807, /)>,\n",
       "  ('627041dfb4dfe63761fcb6b7', 0.0)],\n",
       " [<function tuple.index(value, start=0, stop=9223372036854775807, /)>,\n",
       "  ('62705cd6b4dfe63761fcbb33', 0.0)],\n",
       " [<function tuple.index(value, start=0, stop=9223372036854775807, /)>,\n",
       "  ('62705d57b4dfe63761fcbc09', 0.0)],\n",
       " [<function tuple.index(value, start=0, stop=9223372036854775807, /)>,\n",
       "  ('62706000b4dfe63761fcbc49', 0.0)],\n",
       " [<function tuple.index(value, start=0, stop=9223372036854775807, /)>,\n",
       "  ('6270607eb4dfe63761fcbcc3', 0.0)],\n",
       " [<function tuple.index(value, start=0, stop=9223372036854775807, /)>,\n",
       "  ('627060a7b4dfe63761fcbcc5', 0.0)],\n",
       " [<function tuple.index(value, start=0, stop=9223372036854775807, /)>,\n",
       "  ('6270627ab4dfe63761fcbd20', 0.0)],\n",
       " [<function tuple.index(value, start=0, stop=9223372036854775807, /)>,\n",
       "  ('62706372b4dfe63761fcbd28', 0.0)],\n",
       " [<function tuple.index(value, start=0, stop=9223372036854775807, /)>,\n",
       "  ('62a25d21c8dabc94893d50f4', 0.0)],\n",
       " [<function tuple.index(value, start=0, stop=9223372036854775807, /)>,\n",
       "  ('62a2656ac8dabc94893d5525', 0.0)],\n",
       " [<function tuple.index(value, start=0, stop=9223372036854775807, /)>,\n",
       "  ('62a351b0c8dabc94893d68d4', 0.0)],\n",
       " [<function tuple.index(value, start=0, stop=9223372036854775807, /)>,\n",
       "  ('62a35349c8dabc94893d694c', 0.0)],\n",
       " [<function tuple.index(value, start=0, stop=9223372036854775807, /)>,\n",
       "  ('62c9792c9d4ad94a6187956a', 0.0)],\n",
       " [<function tuple.index(value, start=0, stop=9223372036854775807, /)>,\n",
       "  ('62c979819d4ad94a61879582', 1.0)],\n",
       " [<function tuple.index(value, start=0, stop=9223372036854775807, /)>,\n",
       "  ('62c97a0f9d4ad94a618795b3', 0.0)],\n",
       " [<function tuple.index(value, start=0, stop=9223372036854775807, /)>,\n",
       "  ('62c97a629d4ad94a618795e4', 0.5)],\n",
       " [<function tuple.index(value, start=0, stop=9223372036854775807, /)>,\n",
       "  ('62c97bde9d4ad94a618795fd', 0.0)],\n",
       " [<function tuple.index(value, start=0, stop=9223372036854775807, /)>,\n",
       "  ('62c97c629d4ad94a61879615', 0.0)],\n",
       " [<function tuple.index(value, start=0, stop=9223372036854775807, /)>,\n",
       "  ('62c97d009d4ad94a6187962d', 0.0)],\n",
       " [<function tuple.index(value, start=0, stop=9223372036854775807, /)>,\n",
       "  ('62c97ea39d4ad94a61879677', 0.0)],\n",
       " [<function tuple.index(value, start=0, stop=9223372036854775807, /)>,\n",
       "  ('62c97fd69d4ad94a618796d6', 0.0)],\n",
       " [<function tuple.index(value, start=0, stop=9223372036854775807, /)>,\n",
       "  ('62c983a69d4ad94a6187970d', 0.0)],\n",
       " [<function tuple.index(value, start=0, stop=9223372036854775807, /)>,\n",
       "  ('62c984249d4ad94a6187973b', 0.0)],\n",
       " [<function tuple.index(value, start=0, stop=9223372036854775807, /)>,\n",
       "  ('62c984cb9d4ad94a61879753', 0.0)],\n",
       " [<function tuple.index(value, start=0, stop=9223372036854775807, /)>,\n",
       "  ('62c985db9d4ad94a6187976b', 0.0)],\n",
       " [<function tuple.index(value, start=0, stop=9223372036854775807, /)>,\n",
       "  ('62c989449d4ad94a61879874', 0.0)],\n",
       " [<function tuple.index(value, start=0, stop=9223372036854775807, /)>,\n",
       "  ('62c989eb9d4ad94a618798be', 0.0)],\n",
       " [<function tuple.index(value, start=0, stop=9223372036854775807, /)>,\n",
       "  ('62c98dcc9d4ad94a618799cf', 0.0)],\n",
       " [<function tuple.index(value, start=0, stop=9223372036854775807, /)>,\n",
       "  ('62c98e599d4ad94a618799e7', 0.0)],\n",
       " [<function tuple.index(value, start=0, stop=9223372036854775807, /)>,\n",
       "  ('62c990949d4ad94a61879a31', 0.0)],\n",
       " [<function tuple.index(value, start=0, stop=9223372036854775807, /)>,\n",
       "  ('62c997e59d4ad94a61879b59', 0.0)],\n",
       " [<function tuple.index(value, start=0, stop=9223372036854775807, /)>,\n",
       "  ('62c99c379d4ad94a61879c35', 0.0)],\n",
       " [<function tuple.index(value, start=0, stop=9223372036854775807, /)>,\n",
       "  ('62c99cb59d4ad94a61879c58', 0.0)],\n",
       " [<function tuple.index(value, start=0, stop=9223372036854775807, /)>,\n",
       "  ('62c9a6a89d4ad94a61879f95', 0.0)],\n",
       " [<function tuple.index(value, start=0, stop=9223372036854775807, /)>,\n",
       "  ('62cacfdb9d4ad94a6187bf32', 0.0)],\n",
       " [<function tuple.index(value, start=0, stop=9223372036854775807, /)>,\n",
       "  ('62cad0c99d4ad94a6187bf88', 0.0)],\n",
       " [<function tuple.index(value, start=0, stop=9223372036854775807, /)>,\n",
       "  ('62cad1789d4ad94a6187bf9c', 0.0)],\n",
       " [<function tuple.index(value, start=0, stop=9223372036854775807, /)>,\n",
       "  ('62cad41a9d4ad94a6187c04c', 0.0)],\n",
       " [<function tuple.index(value, start=0, stop=9223372036854775807, /)>,\n",
       "  ('62cad9fb9d4ad94a6187c0f5', 0.0)],\n",
       " [<function tuple.index(value, start=0, stop=9223372036854775807, /)>,\n",
       "  ('62cae0f59d4ad94a6187c11e', 0.0)],\n",
       " [<function tuple.index(value, start=0, stop=9223372036854775807, /)>,\n",
       "  ('62cae19e9d4ad94a6187c14a', 0.0)],\n",
       " [<function tuple.index(value, start=0, stop=9223372036854775807, /)>,\n",
       "  ('62cae2f49d4ad94a6187c186', 0.0)],\n",
       " [<function tuple.index(value, start=0, stop=9223372036854775807, /)>,\n",
       "  ('62cae4759d4ad94a6187c1c8', 0.0)],\n",
       " [<function tuple.index(value, start=0, stop=9223372036854775807, /)>,\n",
       "  ('62cae5449d4ad94a6187c1f3', 0.0)],\n",
       " [<function tuple.index(value, start=0, stop=9223372036854775807, /)>,\n",
       "  ('62cae65c9d4ad94a6187c220', 0.0)],\n",
       " [<function tuple.index(value, start=0, stop=9223372036854775807, /)>,\n",
       "  ('62d28e92784543ef2c511fe2', 0.0)],\n",
       " [<function tuple.index(value, start=0, stop=9223372036854775807, /)>,\n",
       "  ('631854dfd4ca91c74d4fc19d', 0.0)],\n",
       " [<function tuple.index(value, start=0, stop=9223372036854775807, /)>,\n",
       "  ('63185505d4ca91c74d4fc1af', 0.0)],\n",
       " [<function tuple.index(value, start=0, stop=9223372036854775807, /)>,\n",
       "  ('631855156e1784dffcc39734', 0.0)]]"
      ]
     },
     "execution_count": 101,
     "metadata": {},
     "output_type": "execute_result"
    }
   ],
   "source": [
    "seen_ratings"
   ]
  },
  {
   "cell_type": "code",
   "execution_count": 146,
   "metadata": {
    "id": "a1ySrwSC_itm"
   },
   "outputs": [],
   "source": [
    "def recommendation_phase(target_person,dataset):\n",
    "    if target_movies_to_users(target_person=target_person,dataset=dataset) == 0:\n",
    "        print(target_person, \"has seen all the movies\")\n",
    "        return -1\n",
    "    not_seen_movies,seen_movies=target_movies_to_users(target_person=target_person,dataset=dataset)\n",
    "    seen_ratings = [[movies.index,movies] for movies in dataset[target_person].items()]\n",
    "    print(not_seen_movies)\n",
    "    weighted_avg,weighted_sim = 0,0\n",
    "    rankings =[]\n",
    "    for i in not_seen_movies:\n",
    "        for _,movie in seen_ratings:\n",
    "            #item_sim = 0\n",
    "            #print(rate)\n",
    "            item_sim=item_similarity(str(i),str(movie[0]),dataset)\n",
    "            weighted_avg +=(item_sim*movie[1])\n",
    "            weighted_sim +=item_sim\n",
    "        weighted_rank=weighted_avg/weighted_sim\n",
    "        rankings.append([weighted_rank,i])\n",
    "\n",
    "    rankings.sort(reverse=True)\n",
    "    return rankings\n",
    "\n"
   ]
  },
  {
   "cell_type": "code",
   "execution_count": 33,
   "metadata": {
    "colab": {
     "base_uri": "https://localhost:8080/"
    },
    "id": "grLe2BdOABbj",
    "outputId": "c59644ae-2204-48f2-faec-ffdd090a0782"
   },
   "outputs": [
    {
     "data": {
      "text/plain": [
       "Index(['626d0b2435832dfc8b6a32d7', '626d0c2e35832dfc8b6a32e6',\n",
       "       '62cfca83784543ef2c50f939', '62cfe57f784543ef2c5100d2',\n",
       "       '62d0211e784543ef2c51079d', '62d13e56784543ef2c511676',\n",
       "       '62d93875293fef6f3147ce4a', '62ddc75ee7bd09ecad35c059',\n",
       "       '62ff9cced4ca91c74d4f5f8f', '63027b756e1784dffcc341dd',\n",
       "       '6325979180860eb94ddad82a', '6333fb7cdc934b1c760fd50c',\n",
       "       '633c2f05eef7fcbaa777cc3b'],\n",
       "      dtype='object', name='user._id')"
      ]
     },
     "execution_count": 33,
     "metadata": {},
     "output_type": "execute_result"
    }
   ],
   "source": [
    "df_three.columns"
   ]
  },
  {
   "cell_type": "code",
   "execution_count": 32,
   "metadata": {
    "colab": {
     "base_uri": "https://localhost:8080/"
    },
    "id": "IkUiT4Fu_7sc",
    "outputId": "c9220d72-d17b-45af-b8b9-c90ca1556a84"
   },
   "outputs": [
    {
     "data": {
      "text/plain": [
       "Index(['626d0b2435832dfc8b6a32d7', '626d0c2e35832dfc8b6a32e6',\n",
       "       '62cfca83784543ef2c50f939', '62cfe57f784543ef2c5100d2',\n",
       "       '62d0211e784543ef2c51079d', '62d13e56784543ef2c511676',\n",
       "       '62d93875293fef6f3147ce4a', '62ddc75ee7bd09ecad35c059',\n",
       "       '62ff9cced4ca91c74d4f5f8f', '63027b756e1784dffcc341dd',\n",
       "       '6325979180860eb94ddad82a', '6333fb7cdc934b1c760fd50c',\n",
       "       '633c2f05eef7fcbaa777cc3b'],\n",
       "      dtype='object', name='user._id')"
      ]
     },
     "execution_count": 32,
     "metadata": {},
     "output_type": "execute_result"
    }
   ],
   "source": [
    "df_three.keys()"
   ]
  },
  {
   "cell_type": "code",
   "execution_count": 37,
   "metadata": {
    "colab": {
     "base_uri": "https://localhost:8080/"
    },
    "id": "ZKt7uYNAAcWM",
    "outputId": "7a8c2258-41a8-417d-da5f-214d311f1869"
   },
   "outputs": [
    {
     "name": "stdout",
     "output_type": "stream",
     "text": [
      "Enter the target person\n",
      "626d0b2435832dfc8b6a32d7\n",
      "626d0b2435832dfc8b6a32d7\n"
     ]
    }
   ],
   "source": [
    "print(\"Enter the target person\")\n",
    "tp = input().title().lower()\n",
    "print(tp)"
   ]
  },
  {
   "cell_type": "code",
   "execution_count": 148,
   "metadata": {
    "colab": {
     "base_uri": "https://localhost:8080/"
    },
    "id": "Q_P8jy4v_k00",
    "outputId": "83d0c287-f2c7-40ad-ff38-1c04bc9f15c6"
   },
   "outputs": [
    {
     "name": "stdout",
     "output_type": "stream",
     "text": [
      "Enter the target person\n",
      "626d0b2435832dfc8b6a32d7\n",
      "['627060a7b4dfe63761fcbcc5', '62706000b4dfe63761fcbc49', '62705cd6b4dfe63761fcbb33', '62c98e599d4ad94a618799e7', '62c99cb59d4ad94a61879c58', '62703f81b4dfe63761fcb69b', '6270607eb4dfe63761fcbcc3', '626d755735832dfc8b6a357b', '62c9a6a89d4ad94a61879f95', '631855156e1784dffcc39734', '626d6da135832dfc8b6a355e', '626d693235832dfc8b6a3530', '62a35349c8dabc94893d694c', '62c97d009d4ad94a6187962d', '62cae65c9d4ad94a6187c220', '62705d57b4dfe63761fcbc09', '62c989eb9d4ad94a618798be', '62c97bde9d4ad94a618795fd', '62703fb0b4dfe63761fcb69d', '62c97fd69d4ad94a618796d6', '62c983a69d4ad94a6187970d', '62cae0f59d4ad94a6187c11e', '62a25d21c8dabc94893d50f4', '62c98dcc9d4ad94a618799cf', '62c9792c9d4ad94a6187956a', '626d6b7c35832dfc8b6a354e', '62c97a0f9d4ad94a618795b3', '62cae2f49d4ad94a6187c186', '627040e1b4dfe63761fcb6a9', '62c984249d4ad94a6187973b', '62c97ea39d4ad94a61879677', '62a351b0c8dabc94893d68d4', '626d74fe35832dfc8b6a3577', '626d814435832dfc8b6a35bd', '626d6cef35832dfc8b6a355a', '62cae19e9d4ad94a6187c14a', '62c997e59d4ad94a61879b59', '626d744e35832dfc8b6a3566', '62c984cb9d4ad94a61879753', '62cae4759d4ad94a6187c1c8', '626d7fc635832dfc8b6a35ad', '62a2656ac8dabc94893d5525', '62d28e92784543ef2c511fe2', '62c985db9d4ad94a6187976b', '63185505d4ca91c74d4fc1af', '6270411eb4dfe63761fcb6ad', '62cae5449d4ad94a6187c1f3', '62706372b4dfe63761fcbd28', '626d7ea535832dfc8b6a3589', '62c99c379d4ad94a61879c35', '62cad1789d4ad94a6187bf9c', '62cad0c99d4ad94a6187bf88', '6270627ab4dfe63761fcbd20', '62cacfdb9d4ad94a6187bf32', '62cad41a9d4ad94a6187c04c', '627041dfb4dfe63761fcb6b7', '62cad9fb9d4ad94a6187c0f5', '626d74d635832dfc8b6a3575', '62c990949d4ad94a61879a31', '62c97c629d4ad94a61879615', '631854dfd4ca91c74d4fc19d', '62c989449d4ad94a61879874']\n",
      "[[array([[0.01006731]]), '62706000b4dfe63761fcbc49'], [array([[0.00553953]]), '62705cd6b4dfe63761fcbb33'], [array([[0.00524162]]), '62c98e599d4ad94a618799e7'], [array([[0.00513509]]), '62c97d009d4ad94a6187962d'], [array([[0.00501352]]), '62cae65c9d4ad94a6187c220'], [array([[0.00487931]]), '62c99cb59d4ad94a61879c58'], [array([[0.00456384]]), '62703f81b4dfe63761fcb69b'], [array([[0.00441455]]), '62705d57b4dfe63761fcbc09'], [array([[0.00400145]]), '626d693235832dfc8b6a3530'], [array([[0.00394428]]), '62c989eb9d4ad94a618798be'], [array([[0.00393373]]), '62c97a0f9d4ad94a618795b3'], [array([[0.00386861]]), '62cae2f49d4ad94a6187c186'], [array([[0.00384252]]), '62c97bde9d4ad94a618795fd'], [array([[0.00362662]]), '627040e1b4dfe63761fcb6a9'], [array([[0.00353311]]), '62a35349c8dabc94893d694c'], [array([[0.00351888]]), '62703fb0b4dfe63761fcb69d'], [array([[0.00341312]]), '62c984249d4ad94a6187973b'], [array([[0.00340878]]), '62c97fd69d4ad94a618796d6'], [array([[0.00337848]]), '62c9792c9d4ad94a6187956a'], [array([[0.00334631]]), '62c97ea39d4ad94a61879677'], [array([[0.00332997]]), '6270607eb4dfe63761fcbcc3'], [array([[0.00319578]]), '62a351b0c8dabc94893d68d4'], [array([[0.00318823]]), '62c983a69d4ad94a6187970d'], [array([[0.00314572]]), '626d6b7c35832dfc8b6a354e'], [array([[0.00312071]]), '62cae0f59d4ad94a6187c11e'], [array([[0.00303334]]), '62a25d21c8dabc94893d50f4'], [array([[0.00302883]]), '626d74fe35832dfc8b6a3577'], [array([[0.00287845]]), '626d814435832dfc8b6a35bd'], [array([[0.00284343]]), '626d6cef35832dfc8b6a355a'], [array([[0.00280322]]), '62c98dcc9d4ad94a618799cf'], [array([[0.0027105]]), '62cae19e9d4ad94a6187c14a'], [array([[0.00268147]]), '62c997e59d4ad94a61879b59'], [array([[0.00265306]]), '626d744e35832dfc8b6a3566'], [array([[0.00264586]]), '62c984cb9d4ad94a61879753'], [array([[0.00262129]]), '626d755735832dfc8b6a357b'], [array([[0.00261592]]), '62cae4759d4ad94a6187c1c8'], [array([[0.00258852]]), '62c9a6a89d4ad94a61879f95'], [array([[0.00250299]]), '626d7fc635832dfc8b6a35ad'], [array([[0.00247822]]), '62a2656ac8dabc94893d5525'], [array([[0.00246339]]), '62d28e92784543ef2c511fe2'], [array([[0.00236264]]), '62c985db9d4ad94a6187976b'], [array([[0.00227013]]), '63185505d4ca91c74d4fc1af'], [array([[0.00218459]]), '6270411eb4dfe63761fcb6ad'], [array([[0.00213899]]), '631855156e1784dffcc39734'], [array([[0.00210527]]), '62cae5449d4ad94a6187c1f3'], [array([[0.00207608]]), '626d6da135832dfc8b6a355e'], [array([[0.0020315]]), '62706372b4dfe63761fcbd28'], [array([[0.00201111]]), '62c97c629d4ad94a61879615'], [array([[0.00196272]]), '626d7ea535832dfc8b6a3589'], [array([[0.00195517]]), '631854dfd4ca91c74d4fc19d'], [array([[0.00195254]]), '62c99c379d4ad94a61879c35'], [array([[0.00190971]]), '62c989449d4ad94a61879874'], [array([[0.00188892]]), '62cad1789d4ad94a6187bf9c'], [array([[0.00183602]]), '62cad0c99d4ad94a6187bf88'], [array([[0.00182171]]), '6270627ab4dfe63761fcbd20'], [array([[0.00180746]]), '62cacfdb9d4ad94a6187bf32'], [array([[0.00175282]]), '62cad41a9d4ad94a6187c04c'], [array([[0.00173977]]), '627041dfb4dfe63761fcb6b7'], [array([[0.00172677]]), '62cad9fb9d4ad94a6187c0f5'], [array([[0.00167683]]), '626d74d635832dfc8b6a3575'], [array([[0.00166939]]), '62c990949d4ad94a61879a31'], [array([[0.]]), '627060a7b4dfe63761fcbcc5']]\n",
      "Recommendation Using Item based Collaborative Filtering:  \n",
      "62706000b4dfe63761fcbc49  --->  [[0.01006731]]\n",
      "62705cd6b4dfe63761fcbb33  --->  [[0.00553953]]\n",
      "62c98e599d4ad94a618799e7  --->  [[0.00524162]]\n",
      "62c97d009d4ad94a6187962d  --->  [[0.00513509]]\n",
      "62cae65c9d4ad94a6187c220  --->  [[0.00501352]]\n",
      "62c99cb59d4ad94a61879c58  --->  [[0.00487931]]\n",
      "62703f81b4dfe63761fcb69b  --->  [[0.00456384]]\n",
      "62705d57b4dfe63761fcbc09  --->  [[0.00441455]]\n",
      "626d693235832dfc8b6a3530  --->  [[0.00400145]]\n",
      "62c989eb9d4ad94a618798be  --->  [[0.00394428]]\n",
      "62c97a0f9d4ad94a618795b3  --->  [[0.00393373]]\n",
      "62cae2f49d4ad94a6187c186  --->  [[0.00386861]]\n",
      "62c97bde9d4ad94a618795fd  --->  [[0.00384252]]\n",
      "627040e1b4dfe63761fcb6a9  --->  [[0.00362662]]\n",
      "62a35349c8dabc94893d694c  --->  [[0.00353311]]\n",
      "62703fb0b4dfe63761fcb69d  --->  [[0.00351888]]\n",
      "62c984249d4ad94a6187973b  --->  [[0.00341312]]\n",
      "62c97fd69d4ad94a618796d6  --->  [[0.00340878]]\n",
      "62c9792c9d4ad94a6187956a  --->  [[0.00337848]]\n",
      "62c97ea39d4ad94a61879677  --->  [[0.00334631]]\n",
      "6270607eb4dfe63761fcbcc3  --->  [[0.00332997]]\n",
      "62a351b0c8dabc94893d68d4  --->  [[0.00319578]]\n",
      "62c983a69d4ad94a6187970d  --->  [[0.00318823]]\n",
      "626d6b7c35832dfc8b6a354e  --->  [[0.00314572]]\n",
      "62cae0f59d4ad94a6187c11e  --->  [[0.00312071]]\n",
      "62a25d21c8dabc94893d50f4  --->  [[0.00303334]]\n",
      "626d74fe35832dfc8b6a3577  --->  [[0.00302883]]\n",
      "626d814435832dfc8b6a35bd  --->  [[0.00287845]]\n",
      "626d6cef35832dfc8b6a355a  --->  [[0.00284343]]\n",
      "62c98dcc9d4ad94a618799cf  --->  [[0.00280322]]\n",
      "62cae19e9d4ad94a6187c14a  --->  [[0.0027105]]\n",
      "62c997e59d4ad94a61879b59  --->  [[0.00268147]]\n",
      "626d744e35832dfc8b6a3566  --->  [[0.00265306]]\n",
      "62c984cb9d4ad94a61879753  --->  [[0.00264586]]\n",
      "626d755735832dfc8b6a357b  --->  [[0.00262129]]\n",
      "62cae4759d4ad94a6187c1c8  --->  [[0.00261592]]\n",
      "62c9a6a89d4ad94a61879f95  --->  [[0.00258852]]\n",
      "626d7fc635832dfc8b6a35ad  --->  [[0.00250299]]\n",
      "62a2656ac8dabc94893d5525  --->  [[0.00247822]]\n",
      "62d28e92784543ef2c511fe2  --->  [[0.00246339]]\n",
      "62c985db9d4ad94a6187976b  --->  [[0.00236264]]\n",
      "63185505d4ca91c74d4fc1af  --->  [[0.00227013]]\n",
      "6270411eb4dfe63761fcb6ad  --->  [[0.00218459]]\n",
      "631855156e1784dffcc39734  --->  [[0.00213899]]\n",
      "62cae5449d4ad94a6187c1f3  --->  [[0.00210527]]\n",
      "626d6da135832dfc8b6a355e  --->  [[0.00207608]]\n",
      "62706372b4dfe63761fcbd28  --->  [[0.0020315]]\n",
      "62c97c629d4ad94a61879615  --->  [[0.00201111]]\n",
      "626d7ea535832dfc8b6a3589  --->  [[0.00196272]]\n",
      "631854dfd4ca91c74d4fc19d  --->  [[0.00195517]]\n",
      "62c99c379d4ad94a61879c35  --->  [[0.00195254]]\n",
      "62c989449d4ad94a61879874  --->  [[0.00190971]]\n",
      "62cad1789d4ad94a6187bf9c  --->  [[0.00188892]]\n",
      "62cad0c99d4ad94a6187bf88  --->  [[0.00183602]]\n",
      "6270627ab4dfe63761fcbd20  --->  [[0.00182171]]\n",
      "62cacfdb9d4ad94a6187bf32  --->  [[0.00180746]]\n",
      "62cad41a9d4ad94a6187c04c  --->  [[0.00175282]]\n",
      "627041dfb4dfe63761fcb6b7  --->  [[0.00173977]]\n",
      "62cad9fb9d4ad94a6187c0f5  --->  [[0.00172677]]\n",
      "626d74d635832dfc8b6a3575  --->  [[0.00167683]]\n",
      "62c990949d4ad94a61879a31  --->  [[0.00166939]]\n",
      "627060a7b4dfe63761fcbcc5  --->  [[0.]]\n"
     ]
    }
   ],
   "source": [
    "print(\"Enter the target person\")\n",
    "tp = input().title().lower()\n",
    "if tp in df_three.keys():\n",
    "    a=recommendation_phase(tp,df_three)\n",
    "    print(a)\n",
    "    if a != -1:\n",
    "      print(\"Recommendation Using Item based Collaborative Filtering:  \")\n",
    "      for w,m in a:\n",
    "        print(m,\" ---> \",w)\n",
    "else:\n",
    "    print(\"Person not found in the dataset..please try again\")"
   ]
  }
 ],
 "metadata": {
  "colab": {
   "provenance": []
  },
  "kernelspec": {
   "display_name": "Python 3 (ipykernel)",
   "language": "python",
   "name": "python3"
  },
  "language_info": {
   "codemirror_mode": {
    "name": "ipython",
    "version": 3
   },
   "file_extension": ".py",
   "mimetype": "text/x-python",
   "name": "python",
   "nbconvert_exporter": "python",
   "pygments_lexer": "ipython3",
   "version": "3.10.11"
  }
 },
 "nbformat": 4,
 "nbformat_minor": 1
}
