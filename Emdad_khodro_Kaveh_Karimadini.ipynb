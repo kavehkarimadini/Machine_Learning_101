{
 "cells": [
  {
   "cell_type": "code",
   "execution_count": 1,
   "metadata": {},
   "outputs": [],
   "source": [
    "import numpy as np\n",
    "import pandas as pd\n",
    "import matplotlib.pyplot as plt\n",
    "import seaborn as sns\n",
    "from pandasgui import show\n",
    "import sweetviz as sv"
   ]
  },
  {
   "cell_type": "markdown",
   "metadata": {},
   "source": [
    "# در تمام سوال ها هزینه ایاب ذهاب جایگزین پاداش شده است"
   ]
  },
  {
   "cell_type": "code",
   "execution_count": 6,
   "metadata": {},
   "outputs": [],
   "source": [
    "q=pd.read_excel(\"C:/Users/Exam.xlsx\")"
   ]
  },
  {
   "cell_type": "code",
   "execution_count": 7,
   "metadata": {},
   "outputs": [
    {
     "data": {
      "text/html": [
       "<div>\n",
       "<style scoped>\n",
       "    .dataframe tbody tr th:only-of-type {\n",
       "        vertical-align: middle;\n",
       "    }\n",
       "\n",
       "    .dataframe tbody tr th {\n",
       "        vertical-align: top;\n",
       "    }\n",
       "\n",
       "    .dataframe thead th {\n",
       "        text-align: right;\n",
       "    }\n",
       "</style>\n",
       "<table border=\"1\" class=\"dataframe\">\n",
       "  <thead>\n",
       "    <tr style=\"text-align: right;\">\n",
       "      <th></th>\n",
       "      <th>EMDADID</th>\n",
       "      <th>ESHTERAKID</th>\n",
       "      <th>NOEKHEDMAT</th>\n",
       "      <th>NOEEMDAD</th>\n",
       "      <th>SHAHR</th>\n",
       "      <th>ZAMANSHORO</th>\n",
       "      <th>NOEESHTERAK</th>\n",
       "      <th>NOEKHODRO</th>\n",
       "      <th>HAZINEHAYABZAHAB</th>\n",
       "      <th>JAMEMABLAGHOJRAT</th>\n",
       "      <th>JAMEMABLAGHQATE</th>\n",
       "    </tr>\n",
       "  </thead>\n",
       "  <tbody>\n",
       "    <tr>\n",
       "      <th>0</th>\n",
       "      <td>27239300</td>\n",
       "      <td>9105094497</td>\n",
       "      <td>امداد سيار</td>\n",
       "      <td>باليني</td>\n",
       "      <td>پل فسا</td>\n",
       "      <td>1399/01/18 23:30:40</td>\n",
       "      <td>آزاد</td>\n",
       "      <td>پژو 206 اس دي V9</td>\n",
       "      <td>397367</td>\n",
       "      <td>421820</td>\n",
       "      <td>4499998</td>\n",
       "    </tr>\n",
       "    <tr>\n",
       "      <th>1</th>\n",
       "      <td>27764875</td>\n",
       "      <td>9105094497</td>\n",
       "      <td>امداد سيار</td>\n",
       "      <td>باليني</td>\n",
       "      <td>تهران</td>\n",
       "      <td>1399/05/20 21:34:12</td>\n",
       "      <td>آزاد</td>\n",
       "      <td>پژو 206 اس دي V9</td>\n",
       "      <td>240000</td>\n",
       "      <td>241152</td>\n",
       "      <td>0</td>\n",
       "    </tr>\n",
       "    <tr>\n",
       "      <th>2</th>\n",
       "      <td>27948550</td>\n",
       "      <td>9105094562</td>\n",
       "      <td>طلايي 3 ستاره</td>\n",
       "      <td>باليني</td>\n",
       "      <td>تهران</td>\n",
       "      <td>1399/06/28 19:44:11</td>\n",
       "      <td>آزاد</td>\n",
       "      <td>سمند LX</td>\n",
       "      <td>240000</td>\n",
       "      <td>2736038</td>\n",
       "      <td>5843993</td>\n",
       "    </tr>\n",
       "    <tr>\n",
       "      <th>3</th>\n",
       "      <td>27957805</td>\n",
       "      <td>9105094562</td>\n",
       "      <td>طلايي 3 ستاره</td>\n",
       "      <td>باليني</td>\n",
       "      <td>تهران</td>\n",
       "      <td>1399/06/30 15:03:14</td>\n",
       "      <td>آزاد</td>\n",
       "      <td>سمند LX</td>\n",
       "      <td>240000</td>\n",
       "      <td>0</td>\n",
       "      <td>0</td>\n",
       "    </tr>\n",
       "    <tr>\n",
       "      <th>4</th>\n",
       "      <td>27957905</td>\n",
       "      <td>9105094562</td>\n",
       "      <td>طلايي 3 ستاره</td>\n",
       "      <td>حمل</td>\n",
       "      <td>تهران</td>\n",
       "      <td>1399/06/30 15:23:07</td>\n",
       "      <td>آزاد</td>\n",
       "      <td>سمند LX</td>\n",
       "      <td>871150</td>\n",
       "      <td>0</td>\n",
       "      <td>0</td>\n",
       "    </tr>\n",
       "    <tr>\n",
       "      <th>...</th>\n",
       "      <td>...</td>\n",
       "      <td>...</td>\n",
       "      <td>...</td>\n",
       "      <td>...</td>\n",
       "      <td>...</td>\n",
       "      <td>...</td>\n",
       "      <td>...</td>\n",
       "      <td>...</td>\n",
       "      <td>...</td>\n",
       "      <td>...</td>\n",
       "      <td>...</td>\n",
       "    </tr>\n",
       "    <tr>\n",
       "      <th>171</th>\n",
       "      <td>27954544</td>\n",
       "      <td>9705065745</td>\n",
       "      <td>امداد سيار</td>\n",
       "      <td>باليني</td>\n",
       "      <td>اهواز</td>\n",
       "      <td>1399/06/29 22:38:08</td>\n",
       "      <td>آزاد</td>\n",
       "      <td>سورن ELX با موتورEF7 بنزيني</td>\n",
       "      <td>296854</td>\n",
       "      <td>314000</td>\n",
       "      <td>0</td>\n",
       "    </tr>\n",
       "    <tr>\n",
       "      <th>172</th>\n",
       "      <td>28077232</td>\n",
       "      <td>9705516476</td>\n",
       "      <td>امداد سيار</td>\n",
       "      <td>باليني</td>\n",
       "      <td>سنندج</td>\n",
       "      <td>1399/07/27 11:15:41</td>\n",
       "      <td>قراردادي</td>\n",
       "      <td>پژو پارس</td>\n",
       "      <td>230077</td>\n",
       "      <td>511192</td>\n",
       "      <td>2849998</td>\n",
       "    </tr>\n",
       "    <tr>\n",
       "      <th>173</th>\n",
       "      <td>28199624</td>\n",
       "      <td>9705516476</td>\n",
       "      <td>امداد سيار</td>\n",
       "      <td>باليني</td>\n",
       "      <td>سنندج</td>\n",
       "      <td>1399/08/27 17:43:13</td>\n",
       "      <td>قراردادي</td>\n",
       "      <td>پژو پارس</td>\n",
       "      <td>279008</td>\n",
       "      <td>360158</td>\n",
       "      <td>699998</td>\n",
       "    </tr>\n",
       "    <tr>\n",
       "      <th>174</th>\n",
       "      <td>28200057</td>\n",
       "      <td>9705516476</td>\n",
       "      <td>امداد سيار</td>\n",
       "      <td>باليني</td>\n",
       "      <td>سنندج</td>\n",
       "      <td>1399/08/27 20:23:33</td>\n",
       "      <td>قراردادي</td>\n",
       "      <td>پژو پارس</td>\n",
       "      <td>230008</td>\n",
       "      <td>302068</td>\n",
       "      <td>0</td>\n",
       "    </tr>\n",
       "    <tr>\n",
       "      <th>175</th>\n",
       "      <td>28215391</td>\n",
       "      <td>9705516476</td>\n",
       "      <td>امداد سيار</td>\n",
       "      <td>باليني</td>\n",
       "      <td>سنندج</td>\n",
       "      <td>1399/09/01 19:38:33</td>\n",
       "      <td>قراردادي</td>\n",
       "      <td>پژو پارس</td>\n",
       "      <td>230008</td>\n",
       "      <td>476338</td>\n",
       "      <td>0</td>\n",
       "    </tr>\n",
       "  </tbody>\n",
       "</table>\n",
       "<p>176 rows × 11 columns</p>\n",
       "</div>"
      ],
      "text/plain": [
       "      EMDADID  ESHTERAKID     NOEKHEDMAT NOEEMDAD   SHAHR  \\\n",
       "0    27239300  9105094497     امداد سيار   باليني  پل فسا   \n",
       "1    27764875  9105094497     امداد سيار   باليني   تهران   \n",
       "2    27948550  9105094562  طلايي 3 ستاره   باليني   تهران   \n",
       "3    27957805  9105094562  طلايي 3 ستاره   باليني   تهران   \n",
       "4    27957905  9105094562  طلايي 3 ستاره      حمل   تهران   \n",
       "..        ...         ...            ...      ...     ...   \n",
       "171  27954544  9705065745     امداد سيار   باليني   اهواز   \n",
       "172  28077232  9705516476     امداد سيار   باليني   سنندج   \n",
       "173  28199624  9705516476     امداد سيار   باليني   سنندج   \n",
       "174  28200057  9705516476     امداد سيار   باليني   سنندج   \n",
       "175  28215391  9705516476     امداد سيار   باليني   سنندج   \n",
       "\n",
       "              ZAMANSHORO NOEESHTERAK                    NOEKHODRO  \\\n",
       "0    1399/01/18 23:30:40        آزاد             پژو 206 اس دي V9   \n",
       "1    1399/05/20 21:34:12        آزاد             پژو 206 اس دي V9   \n",
       "2    1399/06/28 19:44:11        آزاد                      سمند LX   \n",
       "3    1399/06/30 15:03:14        آزاد                      سمند LX   \n",
       "4    1399/06/30 15:23:07        آزاد                      سمند LX   \n",
       "..                   ...         ...                          ...   \n",
       "171  1399/06/29 22:38:08        آزاد  سورن ELX با موتورEF7 بنزيني   \n",
       "172  1399/07/27 11:15:41    قراردادي                     پژو پارس   \n",
       "173  1399/08/27 17:43:13    قراردادي                     پژو پارس   \n",
       "174  1399/08/27 20:23:33    قراردادي                     پژو پارس   \n",
       "175  1399/09/01 19:38:33    قراردادي                     پژو پارس   \n",
       "\n",
       "     HAZINEHAYABZAHAB  JAMEMABLAGHOJRAT  JAMEMABLAGHQATE  \n",
       "0              397367            421820          4499998  \n",
       "1              240000            241152                0  \n",
       "2              240000           2736038          5843993  \n",
       "3              240000                 0                0  \n",
       "4              871150                 0                0  \n",
       "..                ...               ...              ...  \n",
       "171            296854            314000                0  \n",
       "172            230077            511192          2849998  \n",
       "173            279008            360158           699998  \n",
       "174            230008            302068                0  \n",
       "175            230008            476338                0  \n",
       "\n",
       "[176 rows x 11 columns]"
      ]
     },
     "execution_count": 7,
     "metadata": {},
     "output_type": "execute_result"
    }
   ],
   "source": [
    "q"
   ]
  },
  {
   "cell_type": "markdown",
   "metadata": {},
   "source": [
    "# soale 1 va 2"
   ]
  },
  {
   "cell_type": "code",
   "execution_count": 4,
   "metadata": {},
   "outputs": [
    {
     "data": {
      "text/html": [
       "<div>\n",
       "<style scoped>\n",
       "    .dataframe tbody tr th:only-of-type {\n",
       "        vertical-align: middle;\n",
       "    }\n",
       "\n",
       "    .dataframe tbody tr th {\n",
       "        vertical-align: top;\n",
       "    }\n",
       "\n",
       "    .dataframe thead th {\n",
       "        text-align: right;\n",
       "    }\n",
       "</style>\n",
       "<table border=\"1\" class=\"dataframe\">\n",
       "  <thead>\n",
       "    <tr style=\"text-align: right;\">\n",
       "      <th></th>\n",
       "      <th>NOEEMDAD</th>\n",
       "    </tr>\n",
       "    <tr>\n",
       "      <th>NOEEMDAD</th>\n",
       "      <th></th>\n",
       "    </tr>\n",
       "  </thead>\n",
       "  <tbody>\n",
       "    <tr>\n",
       "      <th>باليني</th>\n",
       "      <td>144</td>\n",
       "    </tr>\n",
       "    <tr>\n",
       "      <th>حمل</th>\n",
       "      <td>12</td>\n",
       "    </tr>\n",
       "    <tr>\n",
       "      <th>خدمات ويژه - تعميرات و خسارت</th>\n",
       "      <td>8</td>\n",
       "    </tr>\n",
       "    <tr>\n",
       "      <th>سرويس دوره اي</th>\n",
       "      <td>12</td>\n",
       "    </tr>\n",
       "  </tbody>\n",
       "</table>\n",
       "</div>"
      ],
      "text/plain": [
       "                              NOEEMDAD\n",
       "NOEEMDAD                              \n",
       "باليني                             144\n",
       "حمل                                 12\n",
       "خدمات ويژه - تعميرات و خسارت         8\n",
       "سرويس دوره اي                       12"
      ]
     },
     "execution_count": 4,
     "metadata": {},
     "output_type": "execute_result"
    }
   ],
   "source": [
    "q.groupby(\"NOEEMDAD\").agg({\"NOEEMDAD\":np.count_nonzero})"
   ]
  },
  {
   "cell_type": "markdown",
   "metadata": {},
   "source": [
    "# soale 3"
   ]
  },
  {
   "cell_type": "code",
   "execution_count": 5,
   "metadata": {},
   "outputs": [
    {
     "data": {
      "text/html": [
       "<div>\n",
       "<style scoped>\n",
       "    .dataframe tbody tr th:only-of-type {\n",
       "        vertical-align: middle;\n",
       "    }\n",
       "\n",
       "    .dataframe tbody tr th {\n",
       "        vertical-align: top;\n",
       "    }\n",
       "\n",
       "    .dataframe thead th {\n",
       "        text-align: right;\n",
       "    }\n",
       "</style>\n",
       "<table border=\"1\" class=\"dataframe\">\n",
       "  <thead>\n",
       "    <tr style=\"text-align: right;\">\n",
       "      <th></th>\n",
       "      <th>JAMEMABLAGHOJRAT</th>\n",
       "    </tr>\n",
       "    <tr>\n",
       "      <th>NOEKHEDMAT</th>\n",
       "      <th></th>\n",
       "    </tr>\n",
       "  </thead>\n",
       "  <tbody>\n",
       "    <tr>\n",
       "      <th>امداد سيار</th>\n",
       "      <td>1571884</td>\n",
       "    </tr>\n",
       "    <tr>\n",
       "      <th>طلايي 1 ستاره</th>\n",
       "      <td>302068</td>\n",
       "    </tr>\n",
       "    <tr>\n",
       "      <th>طلايي 2 ستاره</th>\n",
       "      <td>2500774</td>\n",
       "    </tr>\n",
       "    <tr>\n",
       "      <th>طلايي 3 ستاره</th>\n",
       "      <td>2736038</td>\n",
       "    </tr>\n",
       "  </tbody>\n",
       "</table>\n",
       "</div>"
      ],
      "text/plain": [
       "               JAMEMABLAGHOJRAT\n",
       "NOEKHEDMAT                     \n",
       "امداد سيار              1571884\n",
       "طلايي 1 ستاره            302068\n",
       "طلايي 2 ستاره           2500774\n",
       "طلايي 3 ستاره           2736038"
      ]
     },
     "execution_count": 5,
     "metadata": {},
     "output_type": "execute_result"
    }
   ],
   "source": [
    "q.groupby(\"NOEKHEDMAT\").agg({\"JAMEMABLAGHOJRAT\":np.max})"
   ]
  },
  {
   "cell_type": "markdown",
   "metadata": {},
   "source": [
    "# soale 4"
   ]
  },
  {
   "cell_type": "code",
   "execution_count": 6,
   "metadata": {},
   "outputs": [
    {
     "data": {
      "text/html": [
       "<div>\n",
       "<style scoped>\n",
       "    .dataframe tbody tr th:only-of-type {\n",
       "        vertical-align: middle;\n",
       "    }\n",
       "\n",
       "    .dataframe tbody tr th {\n",
       "        vertical-align: top;\n",
       "    }\n",
       "\n",
       "    .dataframe thead th {\n",
       "        text-align: right;\n",
       "    }\n",
       "</style>\n",
       "<table border=\"1\" class=\"dataframe\">\n",
       "  <thead>\n",
       "    <tr style=\"text-align: right;\">\n",
       "      <th></th>\n",
       "      <th>HAZINEHAYABZAHAB</th>\n",
       "    </tr>\n",
       "    <tr>\n",
       "      <th>NOEEMDAD</th>\n",
       "      <th></th>\n",
       "    </tr>\n",
       "  </thead>\n",
       "  <tbody>\n",
       "    <tr>\n",
       "      <th>باليني</th>\n",
       "      <td>2.655495e+05</td>\n",
       "    </tr>\n",
       "    <tr>\n",
       "      <th>حمل</th>\n",
       "      <td>1.405440e+06</td>\n",
       "    </tr>\n",
       "    <tr>\n",
       "      <th>خدمات ويژه - تعميرات و خسارت</th>\n",
       "      <td>1.350000e+05</td>\n",
       "    </tr>\n",
       "    <tr>\n",
       "      <th>سرويس دوره اي</th>\n",
       "      <td>9.000000e+04</td>\n",
       "    </tr>\n",
       "  </tbody>\n",
       "</table>\n",
       "</div>"
      ],
      "text/plain": [
       "                              HAZINEHAYABZAHAB\n",
       "NOEEMDAD                                      \n",
       "باليني                            2.655495e+05\n",
       "حمل                               1.405440e+06\n",
       "خدمات ويژه - تعميرات و خسارت      1.350000e+05\n",
       "سرويس دوره اي                     9.000000e+04"
      ]
     },
     "execution_count": 6,
     "metadata": {},
     "output_type": "execute_result"
    }
   ],
   "source": [
    "q.groupby(\"NOEEMDAD\").agg({\"HAZINEHAYABZAHAB\":np.mean})"
   ]
  },
  {
   "cell_type": "markdown",
   "metadata": {},
   "source": [
    "# soale 5"
   ]
  },
  {
   "cell_type": "code",
   "execution_count": 22,
   "metadata": {
    "scrolled": true
   },
   "outputs": [
    {
     "data": {
      "text/html": [
       "<div>\n",
       "<style scoped>\n",
       "    .dataframe tbody tr th:only-of-type {\n",
       "        vertical-align: middle;\n",
       "    }\n",
       "\n",
       "    .dataframe tbody tr th {\n",
       "        vertical-align: top;\n",
       "    }\n",
       "\n",
       "    .dataframe thead tr th {\n",
       "        text-align: left;\n",
       "    }\n",
       "\n",
       "    .dataframe thead tr:last-of-type th {\n",
       "        text-align: right;\n",
       "    }\n",
       "</style>\n",
       "<table border=\"1\" class=\"dataframe\">\n",
       "  <thead>\n",
       "    <tr>\n",
       "      <th></th>\n",
       "      <th colspan=\"14\" halign=\"left\">NOEKHODRO</th>\n",
       "    </tr>\n",
       "    <tr>\n",
       "      <th>NOEKHODRO</th>\n",
       "      <th>رانا با موتور TU5</th>\n",
       "      <th>سمند LX</th>\n",
       "      <th>سمند LX-EF7 دوگانه سوز</th>\n",
       "      <th>سورن ELX با موتورEF7 بنزيني</th>\n",
       "      <th>پژو 206  معمولي تيپ 2</th>\n",
       "      <th>پژو 206 اس دي V9</th>\n",
       "      <th>پژو 206 تيپ 5</th>\n",
       "      <th>پژو 207i هاچ بک اتوماتيك</th>\n",
       "      <th>پژو 405 انژكتوري TU5</th>\n",
       "      <th>پژو 405- GLX</th>\n",
       "      <th>پژو پارس</th>\n",
       "      <th>پژو پارس ELX با موتور XUM</th>\n",
       "      <th>پژو پارس با موتور TU5</th>\n",
       "      <th>پژو پارس معمولي دوگانه سوز</th>\n",
       "    </tr>\n",
       "    <tr>\n",
       "      <th>NOEEMDAD</th>\n",
       "      <th></th>\n",
       "      <th></th>\n",
       "      <th></th>\n",
       "      <th></th>\n",
       "      <th></th>\n",
       "      <th></th>\n",
       "      <th></th>\n",
       "      <th></th>\n",
       "      <th></th>\n",
       "      <th></th>\n",
       "      <th></th>\n",
       "      <th></th>\n",
       "      <th></th>\n",
       "      <th></th>\n",
       "    </tr>\n",
       "  </thead>\n",
       "  <tbody>\n",
       "    <tr>\n",
       "      <th>باليني</th>\n",
       "      <td>13.0</td>\n",
       "      <td>7.0</td>\n",
       "      <td>8.0</td>\n",
       "      <td>13.0</td>\n",
       "      <td>4.0</td>\n",
       "      <td>3.0</td>\n",
       "      <td>8.0</td>\n",
       "      <td>9.0</td>\n",
       "      <td>17.0</td>\n",
       "      <td>24.0</td>\n",
       "      <td>16.0</td>\n",
       "      <td>3.0</td>\n",
       "      <td>8.0</td>\n",
       "      <td>11.0</td>\n",
       "    </tr>\n",
       "    <tr>\n",
       "      <th>حمل</th>\n",
       "      <td>1.0</td>\n",
       "      <td>2.0</td>\n",
       "      <td>0.0</td>\n",
       "      <td>0.0</td>\n",
       "      <td>0.0</td>\n",
       "      <td>0.0</td>\n",
       "      <td>2.0</td>\n",
       "      <td>0.0</td>\n",
       "      <td>0.0</td>\n",
       "      <td>3.0</td>\n",
       "      <td>0.0</td>\n",
       "      <td>2.0</td>\n",
       "      <td>0.0</td>\n",
       "      <td>2.0</td>\n",
       "    </tr>\n",
       "    <tr>\n",
       "      <th>خدمات ويژه - تعميرات و خسارت</th>\n",
       "      <td>3.0</td>\n",
       "      <td>3.0</td>\n",
       "      <td>0.0</td>\n",
       "      <td>0.0</td>\n",
       "      <td>0.0</td>\n",
       "      <td>0.0</td>\n",
       "      <td>0.0</td>\n",
       "      <td>0.0</td>\n",
       "      <td>0.0</td>\n",
       "      <td>0.0</td>\n",
       "      <td>2.0</td>\n",
       "      <td>0.0</td>\n",
       "      <td>0.0</td>\n",
       "      <td>0.0</td>\n",
       "    </tr>\n",
       "    <tr>\n",
       "      <th>سرويس دوره اي</th>\n",
       "      <td>2.0</td>\n",
       "      <td>3.0</td>\n",
       "      <td>2.0</td>\n",
       "      <td>0.0</td>\n",
       "      <td>0.0</td>\n",
       "      <td>0.0</td>\n",
       "      <td>0.0</td>\n",
       "      <td>0.0</td>\n",
       "      <td>0.0</td>\n",
       "      <td>0.0</td>\n",
       "      <td>2.0</td>\n",
       "      <td>0.0</td>\n",
       "      <td>0.0</td>\n",
       "      <td>3.0</td>\n",
       "    </tr>\n",
       "  </tbody>\n",
       "</table>\n",
       "</div>"
      ],
      "text/plain": [
       "                                     NOEKHODRO                                 \\\n",
       "NOEKHODRO                    رانا با موتور TU5 سمند LX سمند LX-EF7 دوگانه سوز   \n",
       "NOEEMDAD                                                                        \n",
       "باليني                                    13.0     7.0                    8.0   \n",
       "حمل                                        1.0     2.0                    0.0   \n",
       "خدمات ويژه - تعميرات و خسارت               3.0     3.0                    0.0   \n",
       "سرويس دوره اي                              2.0     3.0                    2.0   \n",
       "\n",
       "                                                          \\\n",
       "NOEKHODRO                    سورن ELX با موتورEF7 بنزيني   \n",
       "NOEEMDAD                                                   \n",
       "باليني                                              13.0   \n",
       "حمل                                                  0.0   \n",
       "خدمات ويژه - تعميرات و خسارت                         0.0   \n",
       "سرويس دوره اي                                        0.0   \n",
       "\n",
       "                                                                     \\\n",
       "NOEKHODRO                    پژو 206  معمولي تيپ 2 پژو 206 اس دي V9   \n",
       "NOEEMDAD                                                              \n",
       "باليني                                         4.0              3.0   \n",
       "حمل                                            0.0              0.0   \n",
       "خدمات ويژه - تعميرات و خسارت                   0.0              0.0   \n",
       "سرويس دوره اي                                  0.0              0.0   \n",
       "\n",
       "                                                                     \\\n",
       "NOEKHODRO                    پژو 206 تيپ 5 پژو 207i هاچ بک اتوماتيك   \n",
       "NOEEMDAD                                                              \n",
       "باليني                                 8.0                      9.0   \n",
       "حمل                                    2.0                      0.0   \n",
       "خدمات ويژه - تعميرات و خسارت           0.0                      0.0   \n",
       "سرويس دوره اي                          0.0                      0.0   \n",
       "\n",
       "                                                                         \\\n",
       "NOEKHODRO                    پژو 405 انژكتوري TU5 پژو 405- GLX پژو پارس   \n",
       "NOEEMDAD                                                                  \n",
       "باليني                                       17.0         24.0     16.0   \n",
       "حمل                                           0.0          3.0      0.0   \n",
       "خدمات ويژه - تعميرات و خسارت                  0.0          0.0      2.0   \n",
       "سرويس دوره اي                                 0.0          0.0      2.0   \n",
       "\n",
       "                                                                              \\\n",
       "NOEKHODRO                    پژو پارس ELX با موتور XUM پژو پارس با موتور TU5   \n",
       "NOEEMDAD                                                                       \n",
       "باليني                                             3.0                   8.0   \n",
       "حمل                                                2.0                   0.0   \n",
       "خدمات ويژه - تعميرات و خسارت                       0.0                   0.0   \n",
       "سرويس دوره اي                                      0.0                   0.0   \n",
       "\n",
       "                                                         \n",
       "NOEKHODRO                    پژو پارس معمولي دوگانه سوز  \n",
       "NOEEMDAD                                                 \n",
       "باليني                                             11.0  \n",
       "حمل                                                 2.0  \n",
       "خدمات ويژه - تعميرات و خسارت                        0.0  \n",
       "سرويس دوره اي                                       3.0  "
      ]
     },
     "execution_count": 22,
     "metadata": {},
     "output_type": "execute_result"
    }
   ],
   "source": [
    "q1=q.pivot_table(index=\"NOEEMDAD\",columns=\"NOEKHODRO\",aggfunc={\"NOEKHODRO\":np.size})\n",
    "q1.fillna(0)"
   ]
  },
  {
   "cell_type": "markdown",
   "metadata": {},
   "source": [
    "# soale 6"
   ]
  },
  {
   "cell_type": "code",
   "execution_count": 8,
   "metadata": {},
   "outputs": [
    {
     "data": {
      "text/html": [
       "<div>\n",
       "<style scoped>\n",
       "    .dataframe tbody tr th:only-of-type {\n",
       "        vertical-align: middle;\n",
       "    }\n",
       "\n",
       "    .dataframe tbody tr th {\n",
       "        vertical-align: top;\n",
       "    }\n",
       "\n",
       "    .dataframe thead tr th {\n",
       "        text-align: left;\n",
       "    }\n",
       "\n",
       "    .dataframe thead tr:last-of-type th {\n",
       "        text-align: right;\n",
       "    }\n",
       "</style>\n",
       "<table border=\"1\" class=\"dataframe\">\n",
       "  <thead>\n",
       "    <tr>\n",
       "      <th></th>\n",
       "      <th>HAZINEHAYABZAHAB</th>\n",
       "    </tr>\n",
       "    <tr>\n",
       "      <th>NOEESHTERAK</th>\n",
       "      <th>قراردادي</th>\n",
       "    </tr>\n",
       "    <tr>\n",
       "      <th>HAZINEHAYABZAHAB</th>\n",
       "      <th></th>\n",
       "    </tr>\n",
       "  </thead>\n",
       "  <tbody>\n",
       "    <tr>\n",
       "      <th>253008</th>\n",
       "      <td>17</td>\n",
       "    </tr>\n",
       "    <tr>\n",
       "      <th>260000</th>\n",
       "      <td>1</td>\n",
       "    </tr>\n",
       "    <tr>\n",
       "      <th>261000</th>\n",
       "      <td>1</td>\n",
       "    </tr>\n",
       "    <tr>\n",
       "      <th>269867</th>\n",
       "      <td>2</td>\n",
       "    </tr>\n",
       "    <tr>\n",
       "      <th>270000</th>\n",
       "      <td>2</td>\n",
       "    </tr>\n",
       "    <tr>\n",
       "      <th>270390</th>\n",
       "      <td>4</td>\n",
       "    </tr>\n",
       "    <tr>\n",
       "      <th>274000</th>\n",
       "      <td>1</td>\n",
       "    </tr>\n",
       "    <tr>\n",
       "      <th>276009</th>\n",
       "      <td>1</td>\n",
       "    </tr>\n",
       "    <tr>\n",
       "      <th>279008</th>\n",
       "      <td>1</td>\n",
       "    </tr>\n",
       "    <tr>\n",
       "      <th>286008</th>\n",
       "      <td>1</td>\n",
       "    </tr>\n",
       "    <tr>\n",
       "      <th>296854</th>\n",
       "      <td>1</td>\n",
       "    </tr>\n",
       "    <tr>\n",
       "      <th>297429</th>\n",
       "      <td>2</td>\n",
       "    </tr>\n",
       "    <tr>\n",
       "      <th>300000</th>\n",
       "      <td>2</td>\n",
       "    </tr>\n",
       "    <tr>\n",
       "      <th>480000</th>\n",
       "      <td>1</td>\n",
       "    </tr>\n",
       "    <tr>\n",
       "      <th>548000</th>\n",
       "      <td>1</td>\n",
       "    </tr>\n",
       "    <tr>\n",
       "      <th>723725</th>\n",
       "      <td>1</td>\n",
       "    </tr>\n",
       "    <tr>\n",
       "      <th>804139</th>\n",
       "      <td>1</td>\n",
       "    </tr>\n",
       "    <tr>\n",
       "      <th>834423</th>\n",
       "      <td>1</td>\n",
       "    </tr>\n",
       "    <tr>\n",
       "      <th>884553</th>\n",
       "      <td>2</td>\n",
       "    </tr>\n",
       "    <tr>\n",
       "      <th>893748</th>\n",
       "      <td>1</td>\n",
       "    </tr>\n",
       "    <tr>\n",
       "      <th>956162</th>\n",
       "      <td>1</td>\n",
       "    </tr>\n",
       "    <tr>\n",
       "      <th>1091190</th>\n",
       "      <td>1</td>\n",
       "    </tr>\n",
       "    <tr>\n",
       "      <th>4770936</th>\n",
       "      <td>1</td>\n",
       "    </tr>\n",
       "  </tbody>\n",
       "</table>\n",
       "</div>"
      ],
      "text/plain": [
       "                 HAZINEHAYABZAHAB\n",
       "NOEESHTERAK              قراردادي\n",
       "HAZINEHAYABZAHAB                 \n",
       "253008                         17\n",
       "260000                          1\n",
       "261000                          1\n",
       "269867                          2\n",
       "270000                          2\n",
       "270390                          4\n",
       "274000                          1\n",
       "276009                          1\n",
       "279008                          1\n",
       "286008                          1\n",
       "296854                          1\n",
       "297429                          2\n",
       "300000                          2\n",
       "480000                          1\n",
       "548000                          1\n",
       "723725                          1\n",
       "804139                          1\n",
       "834423                          1\n",
       "884553                          2\n",
       "893748                          1\n",
       "956162                          1\n",
       "1091190                         1\n",
       "4770936                         1"
      ]
     },
     "execution_count": 8,
     "metadata": {},
     "output_type": "execute_result"
    }
   ],
   "source": [
    "s=q[(q[\"NOEESHTERAK\"]==\"قراردادي\")]\n",
    "s1=s[(s[\"HAZINEHAYABZAHAB\"]>250000)]\n",
    "s2=s1.pivot_table(index=\"HAZINEHAYABZAHAB\",columns=\"NOEESHTERAK\",aggfunc={\"HAZINEHAYABZAHAB\":np.size})\n",
    "s2"
   ]
  },
  {
   "cell_type": "markdown",
   "metadata": {},
   "source": [
    "# soale 7"
   ]
  },
  {
   "cell_type": "code",
   "execution_count": 8,
   "metadata": {},
   "outputs": [
    {
     "data": {
      "text/html": [
       "<div>\n",
       "<style scoped>\n",
       "    .dataframe tbody tr th:only-of-type {\n",
       "        vertical-align: middle;\n",
       "    }\n",
       "\n",
       "    .dataframe tbody tr th {\n",
       "        vertical-align: top;\n",
       "    }\n",
       "\n",
       "    .dataframe thead th {\n",
       "        text-align: right;\n",
       "    }\n",
       "</style>\n",
       "<table border=\"1\" class=\"dataframe\">\n",
       "  <thead>\n",
       "    <tr style=\"text-align: right;\">\n",
       "      <th></th>\n",
       "      <th>EMDADID</th>\n",
       "      <th>ESHTERAKID</th>\n",
       "      <th>NOEKHEDMAT</th>\n",
       "      <th>NOEEMDAD</th>\n",
       "      <th>SHAHR</th>\n",
       "      <th>ZAMANSHORO</th>\n",
       "      <th>NOEESHTERAK</th>\n",
       "      <th>NOEKHODRO</th>\n",
       "      <th>HAZINEHAYABZAHAB</th>\n",
       "      <th>JAMEMABLAGHOJRAT</th>\n",
       "      <th>JAMEMABLAGHQATE</th>\n",
       "    </tr>\n",
       "  </thead>\n",
       "  <tbody>\n",
       "    <tr>\n",
       "      <th>0</th>\n",
       "      <td>27239300</td>\n",
       "      <td>9105094497</td>\n",
       "      <td>امداد سيار</td>\n",
       "      <td>باليني</td>\n",
       "      <td>پل فسا</td>\n",
       "      <td>1399/01/18 23:30:40</td>\n",
       "      <td>آزاد</td>\n",
       "      <td>پژو 206 اس دي V9</td>\n",
       "      <td>397367</td>\n",
       "      <td>421820</td>\n",
       "      <td>4499998</td>\n",
       "    </tr>\n",
       "    <tr>\n",
       "      <th>1</th>\n",
       "      <td>27764875</td>\n",
       "      <td>9105094497</td>\n",
       "      <td>امداد سيار</td>\n",
       "      <td>باليني</td>\n",
       "      <td>تهران</td>\n",
       "      <td>1399/05/20 21:34:12</td>\n",
       "      <td>آزاد</td>\n",
       "      <td>پژو 206 اس دي V9</td>\n",
       "      <td>240000</td>\n",
       "      <td>241152</td>\n",
       "      <td>0</td>\n",
       "    </tr>\n",
       "    <tr>\n",
       "      <th>5</th>\n",
       "      <td>28017721</td>\n",
       "      <td>9105094497</td>\n",
       "      <td>امداد سيار</td>\n",
       "      <td>باليني</td>\n",
       "      <td>گرگان</td>\n",
       "      <td>1399/07/12 20:51:02</td>\n",
       "      <td>آزاد</td>\n",
       "      <td>پژو 206 اس دي V9</td>\n",
       "      <td>240000</td>\n",
       "      <td>633024</td>\n",
       "      <td>0</td>\n",
       "    </tr>\n",
       "    <tr>\n",
       "      <th>6</th>\n",
       "      <td>27527623</td>\n",
       "      <td>9605001210</td>\n",
       "      <td>امداد سيار</td>\n",
       "      <td>باليني</td>\n",
       "      <td>تهران</td>\n",
       "      <td>1399/04/01 07:29:14</td>\n",
       "      <td>قراردادي</td>\n",
       "      <td>پژو 206 تيپ 5</td>\n",
       "      <td>240000</td>\n",
       "      <td>0</td>\n",
       "      <td>0</td>\n",
       "    </tr>\n",
       "    <tr>\n",
       "      <th>9</th>\n",
       "      <td>27648557</td>\n",
       "      <td>9605001249</td>\n",
       "      <td>امداد سيار</td>\n",
       "      <td>باليني</td>\n",
       "      <td>بروجرد</td>\n",
       "      <td>1399/04/27 17:55:25</td>\n",
       "      <td>آزاد</td>\n",
       "      <td>پژو 206  معمولي تيپ 2</td>\n",
       "      <td>270390</td>\n",
       "      <td>251200</td>\n",
       "      <td>0</td>\n",
       "    </tr>\n",
       "    <tr>\n",
       "      <th>...</th>\n",
       "      <td>...</td>\n",
       "      <td>...</td>\n",
       "      <td>...</td>\n",
       "      <td>...</td>\n",
       "      <td>...</td>\n",
       "      <td>...</td>\n",
       "      <td>...</td>\n",
       "      <td>...</td>\n",
       "      <td>...</td>\n",
       "      <td>...</td>\n",
       "      <td>...</td>\n",
       "    </tr>\n",
       "    <tr>\n",
       "      <th>171</th>\n",
       "      <td>27954544</td>\n",
       "      <td>9705065745</td>\n",
       "      <td>امداد سيار</td>\n",
       "      <td>باليني</td>\n",
       "      <td>اهواز</td>\n",
       "      <td>1399/06/29 22:38:08</td>\n",
       "      <td>آزاد</td>\n",
       "      <td>سورن ELX با موتورEF7 بنزيني</td>\n",
       "      <td>296854</td>\n",
       "      <td>314000</td>\n",
       "      <td>0</td>\n",
       "    </tr>\n",
       "    <tr>\n",
       "      <th>172</th>\n",
       "      <td>28077232</td>\n",
       "      <td>9705516476</td>\n",
       "      <td>امداد سيار</td>\n",
       "      <td>باليني</td>\n",
       "      <td>سنندج</td>\n",
       "      <td>1399/07/27 11:15:41</td>\n",
       "      <td>قراردادي</td>\n",
       "      <td>پژو پارس</td>\n",
       "      <td>230077</td>\n",
       "      <td>511192</td>\n",
       "      <td>2849998</td>\n",
       "    </tr>\n",
       "    <tr>\n",
       "      <th>173</th>\n",
       "      <td>28199624</td>\n",
       "      <td>9705516476</td>\n",
       "      <td>امداد سيار</td>\n",
       "      <td>باليني</td>\n",
       "      <td>سنندج</td>\n",
       "      <td>1399/08/27 17:43:13</td>\n",
       "      <td>قراردادي</td>\n",
       "      <td>پژو پارس</td>\n",
       "      <td>279008</td>\n",
       "      <td>360158</td>\n",
       "      <td>699998</td>\n",
       "    </tr>\n",
       "    <tr>\n",
       "      <th>174</th>\n",
       "      <td>28200057</td>\n",
       "      <td>9705516476</td>\n",
       "      <td>امداد سيار</td>\n",
       "      <td>باليني</td>\n",
       "      <td>سنندج</td>\n",
       "      <td>1399/08/27 20:23:33</td>\n",
       "      <td>قراردادي</td>\n",
       "      <td>پژو پارس</td>\n",
       "      <td>230008</td>\n",
       "      <td>302068</td>\n",
       "      <td>0</td>\n",
       "    </tr>\n",
       "    <tr>\n",
       "      <th>175</th>\n",
       "      <td>28215391</td>\n",
       "      <td>9705516476</td>\n",
       "      <td>امداد سيار</td>\n",
       "      <td>باليني</td>\n",
       "      <td>سنندج</td>\n",
       "      <td>1399/09/01 19:38:33</td>\n",
       "      <td>قراردادي</td>\n",
       "      <td>پژو پارس</td>\n",
       "      <td>230008</td>\n",
       "      <td>476338</td>\n",
       "      <td>0</td>\n",
       "    </tr>\n",
       "  </tbody>\n",
       "</table>\n",
       "<p>83 rows × 11 columns</p>\n",
       "</div>"
      ],
      "text/plain": [
       "      EMDADID  ESHTERAKID  NOEKHEDMAT NOEEMDAD   SHAHR           ZAMANSHORO  \\\n",
       "0    27239300  9105094497  امداد سيار   باليني  پل فسا  1399/01/18 23:30:40   \n",
       "1    27764875  9105094497  امداد سيار   باليني   تهران  1399/05/20 21:34:12   \n",
       "5    28017721  9105094497  امداد سيار   باليني   گرگان  1399/07/12 20:51:02   \n",
       "6    27527623  9605001210  امداد سيار   باليني   تهران  1399/04/01 07:29:14   \n",
       "9    27648557  9605001249  امداد سيار   باليني  بروجرد  1399/04/27 17:55:25   \n",
       "..        ...         ...         ...      ...     ...                  ...   \n",
       "171  27954544  9705065745  امداد سيار   باليني   اهواز  1399/06/29 22:38:08   \n",
       "172  28077232  9705516476  امداد سيار   باليني   سنندج  1399/07/27 11:15:41   \n",
       "173  28199624  9705516476  امداد سيار   باليني   سنندج  1399/08/27 17:43:13   \n",
       "174  28200057  9705516476  امداد سيار   باليني   سنندج  1399/08/27 20:23:33   \n",
       "175  28215391  9705516476  امداد سيار   باليني   سنندج  1399/09/01 19:38:33   \n",
       "\n",
       "    NOEESHTERAK                    NOEKHODRO  HAZINEHAYABZAHAB  \\\n",
       "0          آزاد             پژو 206 اس دي V9            397367   \n",
       "1          آزاد             پژو 206 اس دي V9            240000   \n",
       "5          آزاد             پژو 206 اس دي V9            240000   \n",
       "6      قراردادي                پژو 206 تيپ 5            240000   \n",
       "9          آزاد        پژو 206  معمولي تيپ 2            270390   \n",
       "..          ...                          ...               ...   \n",
       "171        آزاد  سورن ELX با موتورEF7 بنزيني            296854   \n",
       "172    قراردادي                     پژو پارس            230077   \n",
       "173    قراردادي                     پژو پارس            279008   \n",
       "174    قراردادي                     پژو پارس            230008   \n",
       "175    قراردادي                     پژو پارس            230008   \n",
       "\n",
       "     JAMEMABLAGHOJRAT  JAMEMABLAGHQATE  \n",
       "0              421820          4499998  \n",
       "1              241152                0  \n",
       "5              633024                0  \n",
       "6                   0                0  \n",
       "9              251200                0  \n",
       "..                ...              ...  \n",
       "171            314000                0  \n",
       "172            511192          2849998  \n",
       "173            360158           699998  \n",
       "174            302068                0  \n",
       "175            476338                0  \n",
       "\n",
       "[83 rows x 11 columns]"
      ]
     },
     "execution_count": 8,
     "metadata": {},
     "output_type": "execute_result"
    }
   ],
   "source": [
    "q2=q[(q[\"NOEKHEDMAT\"]==\"امداد سيار\")&(q[\"HAZINEHAYABZAHAB\"]<500000)]\n",
    "q2"
   ]
  },
  {
   "cell_type": "code",
   "execution_count": 9,
   "metadata": {},
   "outputs": [],
   "source": [
    "q2.to_excel(\"C:/Users/Rayaneh_valiasr/Desktop/New folder/kamari.xlsx\")"
   ]
  },
  {
   "cell_type": "markdown",
   "metadata": {},
   "source": [
    "# soale 8"
   ]
  },
  {
   "cell_type": "code",
   "execution_count": 10,
   "metadata": {},
   "outputs": [
    {
     "data": {
      "text/html": [
       "<div>\n",
       "<style scoped>\n",
       "    .dataframe tbody tr th:only-of-type {\n",
       "        vertical-align: middle;\n",
       "    }\n",
       "\n",
       "    .dataframe tbody tr th {\n",
       "        vertical-align: top;\n",
       "    }\n",
       "\n",
       "    .dataframe thead th {\n",
       "        text-align: right;\n",
       "    }\n",
       "</style>\n",
       "<table border=\"1\" class=\"dataframe\">\n",
       "  <thead>\n",
       "    <tr style=\"text-align: right;\">\n",
       "      <th></th>\n",
       "      <th>EMDADID</th>\n",
       "      <th>ESHTERAKID</th>\n",
       "      <th>NOEKHEDMAT</th>\n",
       "      <th>NOEEMDAD</th>\n",
       "      <th>SHAHR</th>\n",
       "      <th>ZAMANSHORO</th>\n",
       "      <th>NOEESHTERAK</th>\n",
       "      <th>NOEKHODRO</th>\n",
       "      <th>HAZINEHAYABZAHAB</th>\n",
       "      <th>JAMEMABLAGHOJRAT</th>\n",
       "      <th>JAMEMABLAGHQATE</th>\n",
       "    </tr>\n",
       "  </thead>\n",
       "  <tbody>\n",
       "    <tr>\n",
       "      <th>90</th>\n",
       "      <td>27461331</td>\n",
       "      <td>9805311644</td>\n",
       "      <td>طلايي 3 ستاره</td>\n",
       "      <td>سرويس دوره اي</td>\n",
       "      <td>مشهد</td>\n",
       "      <td>1399/03/17 12:09:45</td>\n",
       "      <td>قراردادي</td>\n",
       "      <td>پژو پارس معمولي دوگانه سوز</td>\n",
       "      <td>0</td>\n",
       "      <td>1446441</td>\n",
       "      <td>1444994</td>\n",
       "    </tr>\n",
       "    <tr>\n",
       "      <th>101</th>\n",
       "      <td>27922384</td>\n",
       "      <td>9805311644</td>\n",
       "      <td>طلايي 3 ستاره</td>\n",
       "      <td>سرويس دوره اي</td>\n",
       "      <td>مشهد</td>\n",
       "      <td>1399/06/22 13:29:17</td>\n",
       "      <td>قراردادي</td>\n",
       "      <td>پژو پارس معمولي دوگانه سوز</td>\n",
       "      <td>0</td>\n",
       "      <td>1881080</td>\n",
       "      <td>2507266</td>\n",
       "    </tr>\n",
       "  </tbody>\n",
       "</table>\n",
       "</div>"
      ],
      "text/plain": [
       "      EMDADID  ESHTERAKID     NOEKHEDMAT       NOEEMDAD SHAHR  \\\n",
       "90   27461331  9805311644  طلايي 3 ستاره  سرويس دوره اي  مشهد   \n",
       "101  27922384  9805311644  طلايي 3 ستاره  سرويس دوره اي  مشهد   \n",
       "\n",
       "              ZAMANSHORO NOEESHTERAK                   NOEKHODRO  \\\n",
       "90   1399/03/17 12:09:45    قراردادي  پژو پارس معمولي دوگانه سوز   \n",
       "101  1399/06/22 13:29:17    قراردادي  پژو پارس معمولي دوگانه سوز   \n",
       "\n",
       "     HAZINEHAYABZAHAB  JAMEMABLAGHOJRAT  JAMEMABLAGHQATE  \n",
       "90                  0           1446441          1444994  \n",
       "101                 0           1881080          2507266  "
      ]
     },
     "execution_count": 10,
     "metadata": {},
     "output_type": "execute_result"
    }
   ],
   "source": [
    "q3=q[(q[\"SHAHR\"]==\"مشهد\")&(q[\"HAZINEHAYABZAHAB\"]==0)]\n",
    "q3"
   ]
  },
  {
   "cell_type": "markdown",
   "metadata": {},
   "source": [
    "# soale 9"
   ]
  },
  {
   "cell_type": "code",
   "execution_count": 11,
   "metadata": {},
   "outputs": [
    {
     "data": {
      "text/html": [
       "<div>\n",
       "<style scoped>\n",
       "    .dataframe tbody tr th:only-of-type {\n",
       "        vertical-align: middle;\n",
       "    }\n",
       "\n",
       "    .dataframe tbody tr th {\n",
       "        vertical-align: top;\n",
       "    }\n",
       "\n",
       "    .dataframe thead th {\n",
       "        text-align: right;\n",
       "    }\n",
       "</style>\n",
       "<table border=\"1\" class=\"dataframe\">\n",
       "  <thead>\n",
       "    <tr style=\"text-align: right;\">\n",
       "      <th></th>\n",
       "      <th>NOEKHEDMAT</th>\n",
       "    </tr>\n",
       "    <tr>\n",
       "      <th>NOEKHEDMAT</th>\n",
       "      <th></th>\n",
       "    </tr>\n",
       "  </thead>\n",
       "  <tbody>\n",
       "    <tr>\n",
       "      <th>امداد سيار</th>\n",
       "      <td>13</td>\n",
       "    </tr>\n",
       "    <tr>\n",
       "      <th>طلايي 3 ستاره</th>\n",
       "      <td>7</td>\n",
       "    </tr>\n",
       "  </tbody>\n",
       "</table>\n",
       "</div>"
      ],
      "text/plain": [
       "               NOEKHEDMAT\n",
       "NOEKHEDMAT               \n",
       "امداد سيار             13\n",
       "طلايي 3 ستاره           7"
      ]
     },
     "execution_count": 11,
     "metadata": {},
     "output_type": "execute_result"
    }
   ],
   "source": [
    "q4=q[(q[\"NOEKHODRO\"]==\"پژو پارس\")]\n",
    "q4.groupby(\"NOEKHEDMAT\").agg({\"NOEKHEDMAT\":np.count_nonzero})"
   ]
  },
  {
   "cell_type": "markdown",
   "metadata": {},
   "source": [
    "# soale 10"
   ]
  },
  {
   "cell_type": "code",
   "execution_count": 21,
   "metadata": {
    "scrolled": true
   },
   "outputs": [
    {
     "data": {
      "text/plain": [
       "1215351"
      ]
     },
     "execution_count": 21,
     "metadata": {},
     "output_type": "execute_result"
    }
   ],
   "source": [
    "q5=q[(q[\"NOEKHODRO\"]==\"رانا با موتور TU5\")]\n",
    "def Max(data):\n",
    "    Max=max(data)\n",
    "    return Max\n",
    "Max(q5[\"HAZINEHAYABZAHAB\"])"
   ]
  },
  {
   "cell_type": "markdown",
   "metadata": {},
   "source": [
    "# soale 11 va 14"
   ]
  },
  {
   "cell_type": "code",
   "execution_count": 29,
   "metadata": {},
   "outputs": [],
   "source": [
    "# raveshe 1"
   ]
  },
  {
   "cell_type": "code",
   "execution_count": 23,
   "metadata": {},
   "outputs": [
    {
     "data": {
      "text/plain": [
       "0      0.160817\n",
       "1     -0.190667\n",
       "2     -0.190667\n",
       "3     -0.190667\n",
       "4      1.219026\n",
       "         ...   \n",
       "171   -0.063682\n",
       "172   -0.212831\n",
       "173   -0.103542\n",
       "174   -0.212985\n",
       "175   -0.212985\n",
       "Name: HAZINEHAYABZAHAB, Length: 176, dtype: float64"
      ]
     },
     "execution_count": 23,
     "metadata": {},
     "output_type": "execute_result"
    }
   ],
   "source": [
    "# HAZINEHAYABZAHAB\n",
    "w=(q[\"HAZINEHAYABZAHAB\"]-q[\"HAZINEHAYABZAHAB\"].mean())/(q[\"HAZINEHAYABZAHAB\"].std())\n",
    "w"
   ]
  },
  {
   "cell_type": "code",
   "execution_count": 24,
   "metadata": {},
   "outputs": [
    {
     "data": {
      "image/png": "[encoded data removed]",
      "text/plain": [
       "<Figure size 720x720 with 2 Axes>"
      ]
     },
     "metadata": {
      "needs_background": "light"
     },
     "output_type": "display_data"
    }
   ],
   "source": [
    "fig,axs=plt.subplots(nrows=2,figsize=(10,10))\n",
    "w2=sns.distplot(w,ax=axs[0])\n",
    "w3=sns.boxplot(q[\"HAZINEHAYABZAHAB\"],ax=axs[1])"
   ]
  },
  {
   "cell_type": "code",
   "execution_count": 25,
   "metadata": {},
   "outputs": [
    {
     "data": {
      "text/plain": [
       "0      0.161991\n",
       "1     -0.232661\n",
       "2      5.217187\n",
       "3     -0.759435\n",
       "4     -0.759435\n",
       "         ...   \n",
       "171   -0.073531\n",
       "172    0.357216\n",
       "173    0.027297\n",
       "174   -0.099596\n",
       "175    0.281081\n",
       "Name: JAMEMABLAGHOJRAT, Length: 176, dtype: float64"
      ]
     },
     "execution_count": 25,
     "metadata": {},
     "output_type": "execute_result"
    }
   ],
   "source": [
    "# JAMEMABLAGHOJRAT\n",
    "e=(q[\"JAMEMABLAGHOJRAT\"]-q[\"JAMEMABLAGHOJRAT\"].mean())/(q[\"JAMEMABLAGHOJRAT\"].std())\n",
    "e"
   ]
  },
  {
   "cell_type": "code",
   "execution_count": 26,
   "metadata": {
    "collapsed": true
   },
   "outputs": [
    {
     "data": {
      "image/png": "[encoded data removed]",
      "text/plain": [
       "<Figure size 720x720 with 2 Axes>"
      ]
     },
     "metadata": {
      "needs_background": "light"
     },
     "output_type": "display_data"
    }
   ],
   "source": [
    "fig,axs=plt.subplots(nrows=2,figsize=(10,10))\n",
    "e2=sns.distplot(e,ax=axs[0])\n",
    "e3=sns.boxplot(q[\"JAMEMABLAGHOJRAT\"],ax=axs[1])"
   ]
  },
  {
   "cell_type": "code",
   "execution_count": 27,
   "metadata": {},
   "outputs": [
    {
     "data": {
      "text/plain": [
       "0      1.848990\n",
       "1     -0.461979\n",
       "2      2.539197\n",
       "3     -0.461979\n",
       "4     -0.461979\n",
       "         ...   \n",
       "171   -0.461979\n",
       "172    1.001634\n",
       "173   -0.102496\n",
       "174   -0.461979\n",
       "175   -0.461979\n",
       "Name: JAMEMABLAGHQATE, Length: 176, dtype: float64"
      ]
     },
     "execution_count": 27,
     "metadata": {},
     "output_type": "execute_result"
    }
   ],
   "source": [
    "# JAMEMABLAGHQATE\n",
    "r=(q[\"JAMEMABLAGHQATE\"]-q[\"JAMEMABLAGHQATE\"].mean())/(q[\"JAMEMABLAGHQATE\"].std())\n",
    "r"
   ]
  },
  {
   "cell_type": "code",
   "execution_count": 28,
   "metadata": {},
   "outputs": [
    {
     "data": {
      "image/png": "[encoded data removed]",
      "text/plain": [
       "<Figure size 720x720 with 2 Axes>"
      ]
     },
     "metadata": {
      "needs_background": "light"
     },
     "output_type": "display_data"
    }
   ],
   "source": [
    "fig,axs=plt.subplots(nrows=2,figsize=(10,10))\n",
    "r2=sns.distplot(r,ax=axs[0])\n",
    "r3=sns.boxplot(q[\"JAMEMABLAGHQATE\"],ax=axs[1])"
   ]
  },
  {
   "cell_type": "code",
   "execution_count": 30,
   "metadata": {},
   "outputs": [],
   "source": [
    "# raveshe 2"
   ]
  },
  {
   "cell_type": "code",
   "execution_count": 32,
   "metadata": {},
   "outputs": [],
   "source": [
    "from pandasgui import show\n",
    "gui=show(q)"
   ]
  },
  {
   "cell_type": "markdown",
   "metadata": {},
   "source": [
    "# soale 12"
   ]
  },
  {
   "cell_type": "code",
   "execution_count": 35,
   "metadata": {
    "collapsed": true
   },
   "outputs": [
    {
     "data": {
      "text/plain": [
       "<matplotlib.axes._subplots.AxesSubplot at 0x1965e4d8>"
      ]
     },
     "execution_count": 35,
     "metadata": {},
     "output_type": "execute_result"
    },
    {
     "data": {
      "image/png": "[encoded data removed]",
      "text/plain": [
       "<Figure size 432x288 with 1 Axes>"
      ]
     },
     "metadata": {
      "needs_background": "light"
     },
     "output_type": "display_data"
    }
   ],
   "source": [
    "sns.boxplot(x=\"ESHTERAKID\",data=q)\n",
    "sns.swarmplot(x=\"ESHTERAKID\",data=q,color=\".3\")"
   ]
  },
  {
   "cell_type": "markdown",
   "metadata": {},
   "source": [
    "# soale 13"
   ]
  },
  {
   "cell_type": "code",
   "execution_count": 5,
   "metadata": {},
   "outputs": [
    {
     "data": {
      "text/html": [
       "<div>\n",
       "<style scoped>\n",
       "    .dataframe tbody tr th:only-of-type {\n",
       "        vertical-align: middle;\n",
       "    }\n",
       "\n",
       "    .dataframe tbody tr th {\n",
       "        vertical-align: top;\n",
       "    }\n",
       "\n",
       "    .dataframe thead th {\n",
       "        text-align: right;\n",
       "    }\n",
       "</style>\n",
       "<table border=\"1\" class=\"dataframe\">\n",
       "  <thead>\n",
       "    <tr style=\"text-align: right;\">\n",
       "      <th></th>\n",
       "      <th>EMDADID</th>\n",
       "      <th>ESHTERAKID</th>\n",
       "      <th>NOEKHEDMAT</th>\n",
       "      <th>NOEEMDAD</th>\n",
       "      <th>SHAHR</th>\n",
       "      <th>ZAMANSHORO</th>\n",
       "      <th>NOEESHTERAK</th>\n",
       "      <th>NOEKHODRO</th>\n",
       "      <th>HAZINEHAYABZAHAB</th>\n",
       "      <th>JAMEMABLAGHOJRAT</th>\n",
       "      <th>JAMEMABLAGHQATE</th>\n",
       "    </tr>\n",
       "  </thead>\n",
       "  <tbody>\n",
       "    <tr>\n",
       "      <th>63</th>\n",
       "      <td>28015602</td>\n",
       "      <td>9805381147</td>\n",
       "      <td>طلايي 1 ستاره</td>\n",
       "      <td>باليني</td>\n",
       "      <td>قم</td>\n",
       "      <td>1399/07/12 12:38:58</td>\n",
       "      <td>آزاد</td>\n",
       "      <td>پژو 405 انژكتوري TU5</td>\n",
       "      <td>0</td>\n",
       "      <td>185888</td>\n",
       "      <td>0</td>\n",
       "    </tr>\n",
       "    <tr>\n",
       "      <th>65</th>\n",
       "      <td>28018430</td>\n",
       "      <td>9805381147</td>\n",
       "      <td>طلايي 1 ستاره</td>\n",
       "      <td>باليني</td>\n",
       "      <td>مرزن آباد</td>\n",
       "      <td>1399/07/13 08:13:58</td>\n",
       "      <td>آزاد</td>\n",
       "      <td>پژو 405 انژكتوري TU5</td>\n",
       "      <td>207007</td>\n",
       "      <td>185888</td>\n",
       "      <td>0</td>\n",
       "    </tr>\n",
       "  </tbody>\n",
       "</table>\n",
       "</div>"
      ],
      "text/plain": [
       "     EMDADID  ESHTERAKID     NOEKHEDMAT NOEEMDAD      SHAHR  \\\n",
       "63  28015602  9805381147  طلايي 1 ستاره   باليني         قم   \n",
       "65  28018430  9805381147  طلايي 1 ستاره   باليني  مرزن آباد   \n",
       "\n",
       "             ZAMANSHORO NOEESHTERAK             NOEKHODRO  HAZINEHAYABZAHAB  \\\n",
       "63  1399/07/12 12:38:58        آزاد  پژو 405 انژكتوري TU5                 0   \n",
       "65  1399/07/13 08:13:58        آزاد  پژو 405 انژكتوري TU5            207007   \n",
       "\n",
       "    JAMEMABLAGHOJRAT  JAMEMABLAGHQATE  \n",
       "63            185888                0  \n",
       "65            185888                0  "
      ]
     },
     "execution_count": 5,
     "metadata": {},
     "output_type": "execute_result"
    }
   ],
   "source": [
    "u=q[(q[\"NOEKHEDMAT\"]==\"طلايي 1 ستاره\")]\n",
    "o=u[\"HAZINEHAYABZAHAB\"].quantile(0.25)\n",
    "u[(u[\"HAZINEHAYABZAHAB\"]<int(o))]"
   ]
  },
  {
   "cell_type": "markdown",
   "metadata": {},
   "source": [
    "# soale 15"
   ]
  },
  {
   "cell_type": "code",
   "execution_count": 37,
   "metadata": {},
   "outputs": [
    {
     "data": {
      "text/plain": [
       "<seaborn.axisgrid.PairGrid at 0x17da1940>"
      ]
     },
     "execution_count": 37,
     "metadata": {},
     "output_type": "execute_result"
    },
    {
     "data": {
      "text/plain": [
       "<Figure size 4800x2400 with 0 Axes>"
      ]
     },
     "metadata": {},
     "output_type": "display_data"
    },
    {
     "data": {
      "image/png": "[encoded data removed]",
      "text/plain": [
       "<Figure size 900x900 with 30 Axes>"
      ]
     },
     "metadata": {
      "needs_background": "light"
     },
     "output_type": "display_data"
    }
   ],
   "source": [
    "plt.figure(figsize=(20,10),dpi=240)\n",
    "sns.pairplot(q)"
   ]
  },
  {
   "cell_type": "markdown",
   "metadata": {},
   "source": [
    "# soale 16"
   ]
  },
  {
   "cell_type": "code",
   "execution_count": 20,
   "metadata": {},
   "outputs": [
    {
     "data": {
      "text/plain": [
       "<matplotlib.axes._subplots.AxesSubplot at 0xa3ec040>"
      ]
     },
     "execution_count": 20,
     "metadata": {},
     "output_type": "execute_result"
    },
    {
     "data": {
      "image/png": "[encoded data removed]",
      "text/plain": [
       "<Figure size 2400x1200 with 2 Axes>"
      ]
     },
     "metadata": {
      "needs_background": "light"
     },
     "output_type": "display_data"
    }
   ],
   "source": [
    "# با توجه به اینکه ستون های امداد و اشتراک عدد های ثابت بوده و هیچگونه هم بستگی را ایجاد نمی کنند از جدول حذف می شوند\n",
    "m=q.drop([\"EMDADID\",\"ESHTERAKID\"],axis=1)\n",
    "m1=m.corr()\n",
    "plt.figure(figsize=(10,5),dpi=240)\n",
    "sns.heatmap(m1,annot=True,linewidths=1,linecolor=\"blue\")"
   ]
  },
  {
   "cell_type": "code",
   "execution_count": null,
   "metadata": {},
   "outputs": [],
   "source": []
  }
 ],
 "metadata": {
  "kernelspec": {
   "display_name": "Python 3 (ipykernel)",
   "language": "python",
   "name": "python3"
  },
  "language_info": {
   "codemirror_mode": {
    "name": "ipython",
    "version": 3
   },
   "file_extension": ".py",
   "mimetype": "text/x-python",
   "name": "python",
   "nbconvert_exporter": "python",
   "pygments_lexer": "ipython3",
   "version": "3.10.11"
  }
 },
 "nbformat": 4,
 "nbformat_minor": 4
}
