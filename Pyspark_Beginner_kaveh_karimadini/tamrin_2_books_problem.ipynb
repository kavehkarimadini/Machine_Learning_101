{
 "cells": [
  {
   "cell_type": "code",
   "execution_count": 1,
   "metadata": {
    "colab": {
     "base_uri": "https://localhost:8080/"
    },
    "id": "x-z1nP1eBoS_",
    "outputId": "117ca4a4-90e3-4c51-edcf-ea1059f66844"
   },
   "outputs": [
    {
     "name": "stdout",
     "output_type": "stream",
     "text": [
      "Looking in indexes: https://pypi.org/simple, https://us-python.pkg.dev/colab-wheels/public/simple/\n",
      "Collecting pyspark\n",
      "  Downloading pyspark-3.3.0.tar.gz (281.3 MB)\n",
      "\u001b[K     |████████████████████████████████| 281.3 MB 45 kB/s \n",
      "\u001b[?25hCollecting py4j==0.10.9.5\n",
      "  Downloading py4j-0.10.9.5-py2.py3-none-any.whl (199 kB)\n",
      "\u001b[K     |████████████████████████████████| 199 kB 54.3 MB/s \n",
      "\u001b[?25hBuilding wheels for collected packages: pyspark\n",
      "  Building wheel for pyspark (setup.py) ... \u001b[?25l\u001b[?25hdone\n",
      "  Created wheel for pyspark: filename=pyspark-3.3.0-py2.py3-none-any.whl size=281764026 sha256=3f5c4fe77bc759bbc92a4d65def6211a2e06d3c4d1a1aceccbe9946eb7bcb6f9\n",
      "  Stored in directory: /root/.cache/pip/wheels/7a/8e/1b/f73a52650d2e5f337708d9f6a1750d451a7349a867f928b885\n",
      "Successfully built pyspark\n",
      "Installing collected packages: py4j, pyspark\n",
      "Successfully installed py4j-0.10.9.5 pyspark-3.3.0\n"
     ]
    }
   ],
   "source": [
    "pip install pyspark"
   ]
  },
  {
   "cell_type": "code",
   "execution_count": 2,
   "metadata": {
    "id": "RgK9jTBACUcK"
   },
   "outputs": [],
   "source": [
    "from pyspark import SparkContext"
   ]
  },
  {
   "cell_type": "code",
   "execution_count": 3,
   "metadata": {
    "id": "NNGuguU1E-3P"
   },
   "outputs": [],
   "source": [
    "sc = SparkContext('local', 'Books Problem')"
   ]
  },
  {
   "cell_type": "code",
   "execution_count": 6,
   "metadata": {
    "id": "7DPB0QxJFINB"
   },
   "outputs": [],
   "source": [
    "user_rdd = sc.textFile(r'/content/data/Users.csv')"
   ]
  },
  {
   "cell_type": "code",
   "execution_count": 7,
   "metadata": {
    "id": "A8I1piEzFNxJ"
   },
   "outputs": [],
   "source": [
    "rating_rdd = sc.textFile(r'/content/data/Book-Ratings.csv')"
   ]
  },
  {
   "cell_type": "code",
   "execution_count": 8,
   "metadata": {
    "id": "QPDYCbKGFS4Z"
   },
   "outputs": [],
   "source": [
    "pair_userid_username_rdd = user_rdd.map(lambda line : (line.split(';')[0],line.split(';')[1]))"
   ]
  },
  {
   "cell_type": "code",
   "execution_count": 11,
   "metadata": {
    "id": "_nLA060NGuap"
   },
   "outputs": [],
   "source": [
    "pair_rating_rdd = rating_rdd.map(lambda line: (line.split(';')[0], (line.split(';')[1],line.split(';')[2])  ))"
   ]
  },
  {
   "cell_type": "code",
   "execution_count": 12,
   "metadata": {
    "id": "MgfBCZPTGzFw"
   },
   "outputs": [],
   "source": [
    "rating_join_user_rdd = pair_rating_rdd.join(pair_userid_username_rdd)"
   ]
  },
  {
   "cell_type": "code",
   "execution_count": 13,
   "metadata": {
    "colab": {
     "base_uri": "https://localhost:8080/"
    },
    "id": "zsQ-n7JgHrIp",
    "outputId": "99f880a5-1306-4964-edb2-6c0bf6f671eb"
   },
   "outputs": [
    {
     "data": {
      "text/plain": [
       "[('\"276725\"', (('\"034545104X\"', '\"0\"'), '\"qP0KgArgnkK\"')),\n",
       " ('\"276727\"', (('\"0446520802\"', '\"0\"'), '\"AWJdCVnDLd8\"')),\n",
       " ('\"276729\"', (('\"052165615X\"', '\"3\"'), '\"8RRnyqqWTcr\"')),\n",
       " ('\"276729\"', (('\"0521795028\"', '\"6\"'), '\"8RRnyqqWTcr\"')),\n",
       " ('\"276736\"', (('\"3257224281\"', '\"8\"'), '\"4udWNF5VnOd\"')),\n",
       " ('\"276745\"', (('\"342310538\"', '\"10\"'), '\"jLRV9LYfEUZ\"')),\n",
       " ('\"276747\"', (('\"0060517794\"', '\"9\"'), '\"Eg2O6NDkj3d\"')),\n",
       " ('\"276747\"', (('\"0451192001\"', '\"0\"'), '\"Eg2O6NDkj3d\"')),\n",
       " ('\"276747\"', (('\"0609801279\"', '\"0\"'), '\"Eg2O6NDkj3d\"')),\n",
       " ('\"276747\"', (('\"0671537458\"', '\"9\"'), '\"Eg2O6NDkj3d\"')),\n",
       " ('\"276747\"', (('\"0679776818\"', '\"8\"'), '\"Eg2O6NDkj3d\"')),\n",
       " ('\"276747\"', (('\"0943066433\"', '\"7\"'), '\"Eg2O6NDkj3d\"')),\n",
       " ('\"276747\"', (('\"1570231028\"', '\"0\"'), '\"Eg2O6NDkj3d\"')),\n",
       " ('\"276747\"', (('\"1885408226\"', '\"7\"'), '\"Eg2O6NDkj3d\"')),\n",
       " ('\"276760\"', (('\"8440682697\"', '\"10\"'), '\"YKVXRUY4BGq\"')),\n",
       " ('\"276765\"', (('\"9029716894\"', '\"0\"'), '\"vtdQ8QFIzc3\"')),\n",
       " ('\"276768\"', (('\"9057868059\"', '\"4\"'), '\"edvecgDI6w2\"')),\n",
       " ('\"276780\"', (('\"8434811634\"', '\"0\"'), '\"AePJ72knzAo\"')),\n",
       " ('\"276780\"', (('\"8484330478\"', '\"7\"'), '\"AePJ72knzAo\"')),\n",
       " ('\"276780\"', (('\"8484332039\"', '\"7\"'), '\"AePJ72knzAo\"'))]"
      ]
     },
     "execution_count": 13,
     "metadata": {},
     "output_type": "execute_result"
    }
   ],
   "source": [
    "rating_join_user_rdd.take(20)"
   ]
  },
  {
   "cell_type": "code",
   "execution_count": 14,
   "metadata": {
    "id": "pt__QB4QHu0J"
   },
   "outputs": [],
   "source": [
    "books_rdd = sc.textFile(r'/content/data/Books.csv')"
   ]
  },
  {
   "cell_type": "code",
   "execution_count": 15,
   "metadata": {
    "colab": {
     "base_uri": "https://localhost:8080/"
    },
    "id": "OrXLm35RIhlc",
    "outputId": "ac91c5f0-5c88-4a14-fb2a-b23b66e873f5"
   },
   "outputs": [
    {
     "data": {
      "text/plain": [
       "['\"ISBN\";\"BookTitle\";\"BookAuthor\";\"YearOfPublication\";\"Publisher\";\"ImageURLS\";\"ImageURLM\";\"ImageURLL\"',\n",
       " '\"0195153448\";\"Classical Mythology\";\"Mark P. O. Morford\";\"2002\";\"Oxford University Press\";\"http://images.amazon.com/images/P/0195153448.01.THUMBZZZ.jpg\";\"http://images.amazon.com/images/P/0195153448.01.MZZZZZZZ.jpg\";\"http://images.amazon.com/images/P/0195153448.01.LZZZZZZZ.jpg\"',\n",
       " '\"0002005018\";\"Clara Callan\";\"Richard Bruce Wright\";\"2001\";\"HarperFlamingo Canada\";\"http://images.amazon.com/images/P/0002005018.01.THUMBZZZ.jpg\";\"http://images.amazon.com/images/P/0002005018.01.MZZZZZZZ.jpg\";\"http://images.amazon.com/images/P/0002005018.01.LZZZZZZZ.jpg\"',\n",
       " '\"0060973129\";\"Decision in Normandy\";\"Carlo D\\'Este\";\"1991\";\"HarperPerennial\";\"http://images.amazon.com/images/P/0060973129.01.THUMBZZZ.jpg\";\"http://images.amazon.com/images/P/0060973129.01.MZZZZZZZ.jpg\";\"http://images.amazon.com/images/P/0060973129.01.LZZZZZZZ.jpg\"',\n",
       " '\"0374157065\";\"Flu: The Story of the Great Influenza Pandemic of 1918 and the Search for the Virus That Caused It\";\"Gina Bari Kolata\";\"1999\";\"Farrar Straus Giroux\";\"http://images.amazon.com/images/P/0374157065.01.THUMBZZZ.jpg\";\"http://images.amazon.com/images/P/0374157065.01.MZZZZZZZ.jpg\";\"http://images.amazon.com/images/P/0374157065.01.LZZZZZZZ.jpg\"',\n",
       " '\"0393045218\";\"The Mummies of Urumchi\";\"E. J. W. Barber\";\"1999\";\"W. W. Norton &amp; Company\";\"http://images.amazon.com/images/P/0393045218.01.THUMBZZZ.jpg\";\"http://images.amazon.com/images/P/0393045218.01.MZZZZZZZ.jpg\";\"http://images.amazon.com/images/P/0393045218.01.LZZZZZZZ.jpg\"',\n",
       " '\"0399135782\";\"The Kitchen God\\'s Wife\";\"Amy Tan\";\"1991\";\"Putnam Pub Group\";\"http://images.amazon.com/images/P/0399135782.01.THUMBZZZ.jpg\";\"http://images.amazon.com/images/P/0399135782.01.MZZZZZZZ.jpg\";\"http://images.amazon.com/images/P/0399135782.01.LZZZZZZZ.jpg\"',\n",
       " '\"0425176428\";\"What If?: The World\\'s Foremost Military Historians Imagine What Might Have Been\";\"Robert Cowley\";\"2000\";\"Berkley Publishing Group\";\"http://images.amazon.com/images/P/0425176428.01.THUMBZZZ.jpg\";\"http://images.amazon.com/images/P/0425176428.01.MZZZZZZZ.jpg\";\"http://images.amazon.com/images/P/0425176428.01.LZZZZZZZ.jpg\"',\n",
       " '\"0671870432\";\"PLEADING GUILTY\";\"Scott Turow\";\"1993\";\"Audioworks\";\"http://images.amazon.com/images/P/0671870432.01.THUMBZZZ.jpg\";\"http://images.amazon.com/images/P/0671870432.01.MZZZZZZZ.jpg\";\"http://images.amazon.com/images/P/0671870432.01.LZZZZZZZ.jpg\"',\n",
       " '\"0679425608\";\"Under the Black Flag: The Romance and the Reality of Life Among the Pirates\";\"David Cordingly\";\"1996\";\"Random House\";\"http://images.amazon.com/images/P/0679425608.01.THUMBZZZ.jpg\";\"http://images.amazon.com/images/P/0679425608.01.MZZZZZZZ.jpg\";\"http://images.amazon.com/images/P/0679425608.01.LZZZZZZZ.jpg\"']"
      ]
     },
     "execution_count": 15,
     "metadata": {},
     "output_type": "execute_result"
    }
   ],
   "source": [
    "books_rdd.take(10)"
   ]
  },
  {
   "cell_type": "code",
   "execution_count": 16,
   "metadata": {
    "id": "H8jGdQrUInBw"
   },
   "outputs": [],
   "source": [
    "pair_books_rdd = books_rdd.map(lambda line : (line.split(';')[0],line.split(';')[1]))"
   ]
  },
  {
   "cell_type": "code",
   "execution_count": 17,
   "metadata": {
    "colab": {
     "base_uri": "https://localhost:8080/"
    },
    "id": "vEifira0JIjo",
    "outputId": "03a8a816-7ed7-4246-ff97-720b8543c5b9"
   },
   "outputs": [
    {
     "data": {
      "text/plain": [
       "[('\"ISBN\"', '\"BookTitle\"'),\n",
       " ('\"0195153448\"', '\"Classical Mythology\"'),\n",
       " ('\"0002005018\"', '\"Clara Callan\"'),\n",
       " ('\"0060973129\"', '\"Decision in Normandy\"'),\n",
       " ('\"0374157065\"',\n",
       "  '\"Flu: The Story of the Great Influenza Pandemic of 1918 and the Search for the Virus That Caused It\"')]"
      ]
     },
     "execution_count": 17,
     "metadata": {},
     "output_type": "execute_result"
    }
   ],
   "source": [
    "pair_books_rdd.take(5)"
   ]
  },
  {
   "cell_type": "code",
   "execution_count": 58,
   "metadata": {
    "id": "JSXpxd91JOWP"
   },
   "outputs": [],
   "source": [
    "def join_tuple_string(strings_tuple) -> str:\n",
    "  z= strings_tuple[1]\n",
    "  b,c = z[0]\n",
    "  a= []\n",
    "  a.append(b)\n",
    "  a.append(c)\n",
    "  a.append(z[1])\n",
    "  return a\n",
    "\n",
    "# joining all the tuples\n",
    "#result = map(join_tuple_string, string_tuples)\n",
    "rating_join_user_rdd_1 = rating_join_user_rdd.map(lambda y: join_tuple_string(y))"
   ]
  },
  {
   "cell_type": "code",
   "execution_count": 59,
   "metadata": {
    "colab": {
     "base_uri": "https://localhost:8080/"
    },
    "id": "wPi63KWtLoeI",
    "outputId": "0ee2ff93-003a-46b7-fbad-db0d10400556"
   },
   "outputs": [
    {
     "data": {
      "text/plain": [
       "[['\"034545104X\"', '\"0\"', '\"qP0KgArgnkK\"'],\n",
       " ['\"0446520802\"', '\"0\"', '\"AWJdCVnDLd8\"'],\n",
       " ['\"052165615X\"', '\"3\"', '\"8RRnyqqWTcr\"'],\n",
       " ['\"0521795028\"', '\"6\"', '\"8RRnyqqWTcr\"'],\n",
       " ['\"3257224281\"', '\"8\"', '\"4udWNF5VnOd\"']]"
      ]
     },
     "execution_count": 59,
     "metadata": {},
     "output_type": "execute_result"
    }
   ],
   "source": [
    "rating_join_user_rdd_1.take(5)"
   ]
  },
  {
   "cell_type": "code",
   "execution_count": 60,
   "metadata": {
    "id": "EVIaqvbmPUXI"
   },
   "outputs": [],
   "source": [
    "paired_rating_join_user_rdd_1 = rating_join_user_rdd_1.map(lambda x : (x[0],(x[1],x[2])) )"
   ]
  },
  {
   "cell_type": "code",
   "execution_count": 61,
   "metadata": {
    "colab": {
     "base_uri": "https://localhost:8080/"
    },
    "id": "M04wbvm1yt_P",
    "outputId": "763bc184-8ca1-4f3b-9f2a-f72112714a6c"
   },
   "outputs": [
    {
     "data": {
      "text/plain": [
       "[('\"034545104X\"', ('\"0\"', '\"qP0KgArgnkK\"')),\n",
       " ('\"0446520802\"', ('\"0\"', '\"AWJdCVnDLd8\"')),\n",
       " ('\"052165615X\"', ('\"3\"', '\"8RRnyqqWTcr\"')),\n",
       " ('\"0521795028\"', ('\"6\"', '\"8RRnyqqWTcr\"')),\n",
       " ('\"3257224281\"', ('\"8\"', '\"4udWNF5VnOd\"'))]"
      ]
     },
     "execution_count": 61,
     "metadata": {},
     "output_type": "execute_result"
    }
   ],
   "source": [
    "paired_rating_join_user_rdd_1.take(5)"
   ]
  },
  {
   "cell_type": "code",
   "execution_count": 62,
   "metadata": {
    "id": "QRFeE4Cpy1NB"
   },
   "outputs": [],
   "source": [
    "books_join_final_rdd = paired_rating_join_user_rdd_1.join(pair_books_rdd)"
   ]
  },
  {
   "cell_type": "code",
   "execution_count": 63,
   "metadata": {
    "colab": {
     "base_uri": "https://localhost:8080/"
    },
    "id": "hAokgo12zbi3",
    "outputId": "8425a613-f219-4b47-8d5a-662faeff4de2"
   },
   "outputs": [
    {
     "data": {
      "text/plain": [
       "[('\"052165615X\"', (('\"3\"', '\"8RRnyqqWTcr\"'), '\"Help!: Level 1\"')),\n",
       " ('\"0451192001\"',\n",
       "  (('\"0\"', '\"Eg2O6NDkj3d\"'), '\"How Stella Got Her Groove Back\"')),\n",
       " ('\"0451192001\"',\n",
       "  (('\"0\"', '\"7b0FzybdICa\"'), '\"How Stella Got Her Groove Back\"')),\n",
       " ('\"0451192001\"',\n",
       "  (('\"0\"', '\"FmcXe8pi705\"'), '\"How Stella Got Her Groove Back\"')),\n",
       " ('\"0451192001\"',\n",
       "  (('\"10\"', '\"25JwMynrQbq\"'), '\"How Stella Got Her Groove Back\"'))]"
      ]
     },
     "execution_count": 63,
     "metadata": {},
     "output_type": "execute_result"
    }
   ],
   "source": [
    "books_join_final_rdd.take(5)"
   ]
  },
  {
   "cell_type": "code",
   "execution_count": 87,
   "metadata": {
    "colab": {
     "base_uri": "https://localhost:8080/"
    },
    "id": "RipMpAR0Scd4",
    "outputId": "c0871aff-35f3-4a95-8db7-3a720a9cb441"
   },
   "outputs": [
    {
     "data": {
      "text/plain": [
       "['\"userid\";\"isbn\";\"rate\"',\n",
       " '\"276725\";\"034545104X\";\"0\"',\n",
       " '\"276726\";\"0155061224\";\"5\"',\n",
       " '\"276727\";\"0446520802\";\"0\"']"
      ]
     },
     "execution_count": 87,
     "metadata": {},
     "output_type": "execute_result"
    }
   ],
   "source": [
    "rating_rdd.take(4)"
   ]
  },
  {
   "cell_type": "code",
   "execution_count": 90,
   "metadata": {
    "id": "a1itcOdF12nW"
   },
   "outputs": [],
   "source": [
    "isbn_rating = rating_rdd.map(lambda line : (line.split(';')[1],line.split(';')[2]))"
   ]
  },
  {
   "cell_type": "code",
   "execution_count": 97,
   "metadata": {
    "id": "DQZxMUPC_Zkc"
   },
   "outputs": [],
   "source": [
    "header = isbn_rating.first()\n",
    "data = isbn_rating.filter(lambda row: row != header)"
   ]
  },
  {
   "cell_type": "code",
   "execution_count": 119,
   "metadata": {
    "id": "1I8KgV1IEFDc"
   },
   "outputs": [],
   "source": [
    "data_1 = data.map(lambda x: (x[0],int(x[1].replace('\"',''))))"
   ]
  },
  {
   "cell_type": "code",
   "execution_count": 120,
   "metadata": {
    "colab": {
     "base_uri": "https://localhost:8080/"
    },
    "id": "CJBMZt_EHOFZ",
    "outputId": "3105ff40-1d45-4a45-f23b-73cd8995cadc"
   },
   "outputs": [
    {
     "data": {
      "text/plain": [
       "[('\"034545104X\"', 0), ('\"0155061224\"', 5), ('\"0446520802\"', 0)]"
      ]
     },
     "execution_count": 120,
     "metadata": {},
     "output_type": "execute_result"
    }
   ],
   "source": [
    "data_1.take(3)"
   ]
  },
  {
   "cell_type": "code",
   "execution_count": null,
   "metadata": {
    "id": "OG8nYoYoHSTu"
   },
   "outputs": [],
   "source": []
  },
  {
   "cell_type": "code",
   "execution_count": 121,
   "metadata": {
    "id": "bcp4SWKi20D2"
   },
   "outputs": [],
   "source": [
    "\n",
    "import operator\n",
    "countsByKey = sc.broadcast(isbn_rating.countByKey()) # SAMPLE OUTPUT of countsByKey.value: {u'2013-09-09': 215, u'2013-09-08': 69, ... snip ...}\n",
    "rbk_isbn_rating_1 = data_1.reduceByKey(operator.add) # Calculate the numerators (i.e. the SUMs).\n",
    "rbk_isbn_rating = rbk_isbn_rating_1.map(lambda x: (x[0], x[1]/countsByKey.value[x[0]]))"
   ]
  },
  {
   "cell_type": "code",
   "execution_count": 123,
   "metadata": {
    "colab": {
     "base_uri": "https://localhost:8080/"
    },
    "id": "Rje25QYJ7q94",
    "outputId": "5c5f8eb9-e023-4a89-8cf7-d1fc186729cc"
   },
   "outputs": [
    {
     "data": {
      "text/plain": [
       "[('\"034545104X\"', 2.933333333333333),\n",
       " ('\"0155061224\"', 2.5),\n",
       " ('\"0446520802\"', 4.060344827586207),\n",
       " ('\"052165615X\"', 3.0)]"
      ]
     },
     "execution_count": 123,
     "metadata": {},
     "output_type": "execute_result"
    }
   ],
   "source": [
    "rbk_isbn_rating.take(4)"
   ]
  },
  {
   "cell_type": "code",
   "execution_count": 124,
   "metadata": {
    "id": "lHj_g9Eh7vNG"
   },
   "outputs": [],
   "source": [
    "final = books_join_final_rdd.join(rbk_isbn_rating)"
   ]
  },
  {
   "cell_type": "code",
   "execution_count": 125,
   "metadata": {
    "colab": {
     "base_uri": "https://localhost:8080/"
    },
    "id": "O0CcHIdsOiQq",
    "outputId": "16290024-0db4-4d98-9cba-73e0e2eb06e0"
   },
   "outputs": [
    {
     "data": {
      "text/plain": [
       "[('\"1885408226\"',\n",
       "  ((('\"7\"', '\"Eg2O6NDkj3d\"'), '\"The Golden Rule of Schmoozing\"'), 7.0)),\n",
       " ('\"1562827898\"',\n",
       "  ((('\"7\"', '\"SAcnrBgy3BS\"'),\n",
       "    '\"Storm Surge: A Quin St. James and Mike McCleary Mystery\"'),\n",
       "   8.5)),\n",
       " ('\"1562827898\"',\n",
       "  ((('\"10\"', '\"Ykbn6wVzno4\"'),\n",
       "    '\"Storm Surge: A Quin St. James and Mike McCleary Mystery\"'),\n",
       "   8.5)),\n",
       " ('\"0786812508\"',\n",
       "  ((('\"9\"', '\"sGeqpyjHxAS\"'), '\"The Sandy Bottom Orchestra\"'),\n",
       "   3.2857142857142856)),\n",
       " ('\"0786812508\"',\n",
       "  ((('\"0\"', '\"OfaekS5a60d\"'), '\"The Sandy Bottom Orchestra\"'),\n",
       "   3.2857142857142856)),\n",
       " ('\"0786812508\"',\n",
       "  ((('\"0\"', '\"9vuQJKxNVTo\"'), '\"The Sandy Bottom Orchestra\"'),\n",
       "   3.2857142857142856)),\n",
       " ('\"0786812508\"',\n",
       "  ((('\"0\"', '\"SZqfwRjLEHJ\"'), '\"The Sandy Bottom Orchestra\"'),\n",
       "   3.2857142857142856)),\n",
       " ('\"0786812508\"',\n",
       "  ((('\"9\"', '\"GhEcivfcUaa\"'), '\"The Sandy Bottom Orchestra\"'),\n",
       "   3.2857142857142856)),\n",
       " ('\"0786812508\"',\n",
       "  ((('\"5\"', '\"1PEB9DKWIF9\"'), '\"The Sandy Bottom Orchestra\"'),\n",
       "   3.2857142857142856)),\n",
       " ('\"0786812508\"',\n",
       "  ((('\"0\"', '\"AKmSKAmP6ic\"'), '\"The Sandy Bottom Orchestra\"'),\n",
       "   3.2857142857142856)),\n",
       " ('\"0316781266\"',\n",
       "  ((('\"0\"', '\"QkSswOOzuhk\"'), '\"The Last Time They Met : A Novel\"'),\n",
       "   2.757425742574257)),\n",
       " ('\"0316781266\"',\n",
       "  ((('\"0\"', '\"VVxlq58dXfb\"'), '\"The Last Time They Met : A Novel\"'),\n",
       "   2.757425742574257)),\n",
       " ('\"0316781266\"',\n",
       "  ((('\"8\"', '\"nh2gPsXJ2Wo\"'), '\"The Last Time They Met : A Novel\"'),\n",
       "   2.757425742574257)),\n",
       " ('\"0316781266\"',\n",
       "  ((('\"0\"', '\"yK2U6NVMzBu\"'), '\"The Last Time They Met : A Novel\"'),\n",
       "   2.757425742574257)),\n",
       " ('\"0316781266\"',\n",
       "  ((('\"0\"', '\"ePRgfr69Mwt\"'), '\"The Last Time They Met : A Novel\"'),\n",
       "   2.757425742574257)),\n",
       " ('\"0316781266\"',\n",
       "  ((('\"0\"', '\"v4j1D9gq2e9\"'), '\"The Last Time They Met : A Novel\"'),\n",
       "   2.757425742574257)),\n",
       " ('\"0316781266\"',\n",
       "  ((('\"8\"', '\"096yoPkamHO\"'), '\"The Last Time They Met : A Novel\"'),\n",
       "   2.757425742574257)),\n",
       " ('\"0316781266\"',\n",
       "  ((('\"0\"', '\"BjNaFG9BnMR\"'), '\"The Last Time They Met : A Novel\"'),\n",
       "   2.757425742574257)),\n",
       " ('\"0316781266\"',\n",
       "  ((('\"8\"', '\"Zpd63WkmrNe\"'), '\"The Last Time They Met : A Novel\"'),\n",
       "   2.757425742574257)),\n",
       " ('\"0316781266\"',\n",
       "  ((('\"5\"', '\"Im9HRJwaMAr\"'), '\"The Last Time They Met : A Novel\"'),\n",
       "   2.757425742574257))]"
      ]
     },
     "execution_count": 125,
     "metadata": {},
     "output_type": "execute_result"
    }
   ],
   "source": [
    "final.take(20)"
   ]
  }
 ],
 "metadata": {
  "colab": {
   "name": "tamrin-2_books_problem.ipynb",
   "provenance": []
  },
  "kernelspec": {
   "display_name": "Python 3 (ipykernel)",
   "language": "python",
   "name": "python3"
  },
  "language_info": {
   "codemirror_mode": {
    "name": "ipython",
    "version": 3
   },
   "file_extension": ".py",
   "mimetype": "text/x-python",
   "name": "python",
   "nbconvert_exporter": "python",
   "pygments_lexer": "ipython3",
   "version": "3.10.11"
  }
 },
 "nbformat": 4,
 "nbformat_minor": 1
}
