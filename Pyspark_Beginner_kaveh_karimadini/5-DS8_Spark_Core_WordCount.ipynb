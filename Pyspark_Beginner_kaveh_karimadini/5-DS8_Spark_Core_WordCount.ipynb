{
 "cells": [
  {
   "cell_type": "code",
   "execution_count": 1,
   "metadata": {
    "colab": {
     "base_uri": "https://localhost:8080/"
    },
    "id": "MmgWHvoSv3qF",
    "outputId": "e8eea438-870c-406f-863c-ce33b2e2af94"
   },
   "outputs": [
    {
     "name": "stdout",
     "output_type": "stream",
     "text": [
      "Collecting pyspark\n",
      "  Downloading pyspark-3.2.1.tar.gz (281.4 MB)\n",
      "\u001b[K     |████████████████████████████████| 281.4 MB 35 kB/s \n",
      "\u001b[?25hCollecting py4j==0.10.9.3\n",
      "  Downloading py4j-0.10.9.3-py2.py3-none-any.whl (198 kB)\n",
      "\u001b[K     |████████████████████████████████| 198 kB 39.1 MB/s \n",
      "\u001b[?25hBuilding wheels for collected packages: pyspark\n",
      "  Building wheel for pyspark (setup.py) ... \u001b[?25l\u001b[?25hdone\n",
      "  Created wheel for pyspark: filename=pyspark-3.2.1-py2.py3-none-any.whl size=281853642 sha256=16363fc32dffe368785699d5abfcca1bddd9ab5bff41808667d9c5de6e6003d4\n",
      "  Stored in directory: /root/.cache/pip/wheels/9f/f5/07/7cd8017084dce4e93e84e92efd1e1d5334db05f2e83bcef74f\n",
      "Successfully built pyspark\n",
      "Installing collected packages: py4j, pyspark\n",
      "Successfully installed py4j-0.10.9.3 pyspark-3.2.1\n"
     ]
    }
   ],
   "source": [
    "pip install pyspark"
   ]
  },
  {
   "cell_type": "code",
   "execution_count": 2,
   "metadata": {
    "id": "iMmzhJnUv4Qd"
   },
   "outputs": [],
   "source": [
    "from pyspark import SparkContext"
   ]
  },
  {
   "cell_type": "code",
   "execution_count": 3,
   "metadata": {
    "id": "SKjJ1QuWv6sT"
   },
   "outputs": [],
   "source": [
    "sc = SparkContext('local', 'Names Example')"
   ]
  },
  {
   "cell_type": "code",
   "execution_count": 4,
   "metadata": {
    "id": "nGP3u-s0wOkm"
   },
   "outputs": [],
   "source": [
    "ebook_rdd = sc.textFile(r'/content/word_count')"
   ]
  },
  {
   "cell_type": "code",
   "execution_count": 5,
   "metadata": {
    "colab": {
     "base_uri": "https://localhost:8080/"
    },
    "id": "bDn9KIKHyn_L",
    "outputId": "5a75df55-167b-4659-e321-86642902b142"
   },
   "outputs": [
    {
     "data": {
      "text/plain": [
       "['The Project Gutenberg EBook of The Outline of Science, Vol. 1 (of 4), by',\n",
       " 'J. Arthur Thomson',\n",
       " '',\n",
       " 'This eBook is for the use of anyone anywhere at no cost and with',\n",
       " 'almost no restrictions whatsoever.  You may copy it, give it away or',\n",
       " 're-use it under the terms of the Project Gutenberg License included',\n",
       " 'with this eBook or online at www.gutenberg.org',\n",
       " '',\n",
       " '',\n",
       " 'Title: The Outline of Science, Vol. 1 (of 4)']"
      ]
     },
     "execution_count": 5,
     "metadata": {},
     "output_type": "execute_result"
    }
   ],
   "source": [
    "ebook_rdd.take(10)"
   ]
  },
  {
   "cell_type": "code",
   "execution_count": 29,
   "metadata": {
    "id": "32VTdUSMyrau"
   },
   "outputs": [],
   "source": [
    "words_rdd = ebook_rdd.flatMap(lambda x : [y.lower().replace('(','').replace(')','').replace(',','').replace('.','') for y in x.split(' ')])"
   ]
  },
  {
   "cell_type": "code",
   "execution_count": 30,
   "metadata": {
    "colab": {
     "base_uri": "https://localhost:8080/"
    },
    "id": "KvogHhrLzLlJ",
    "outputId": "cd358568-b3d9-4573-9b25-ed887074cc31"
   },
   "outputs": [
    {
     "data": {
      "text/plain": [
       "['the',\n",
       " 'project',\n",
       " 'gutenberg',\n",
       " 'ebook',\n",
       " 'of',\n",
       " 'the',\n",
       " 'outline',\n",
       " 'of',\n",
       " 'science',\n",
       " 'vol',\n",
       " '1',\n",
       " 'of',\n",
       " '4',\n",
       " 'by',\n",
       " 'j']"
      ]
     },
     "execution_count": 30,
     "metadata": {},
     "output_type": "execute_result"
    }
   ],
   "source": [
    "words_rdd.take(15)"
   ]
  },
  {
   "cell_type": "code",
   "execution_count": 31,
   "metadata": {
    "id": "WQND1D4GzPRm"
   },
   "outputs": [],
   "source": [
    "pair_word_one_rdd = words_rdd.map(lambda x : (x,1))"
   ]
  },
  {
   "cell_type": "code",
   "execution_count": 32,
   "metadata": {
    "colab": {
     "base_uri": "https://localhost:8080/"
    },
    "id": "R4BQaI_dzmfC",
    "outputId": "e64c9235-95b1-486f-f0e4-26b4408879b3"
   },
   "outputs": [
    {
     "data": {
      "text/plain": [
       "[('the', 1),\n",
       " ('project', 1),\n",
       " ('gutenberg', 1),\n",
       " ('ebook', 1),\n",
       " ('of', 1),\n",
       " ('the', 1),\n",
       " ('outline', 1),\n",
       " ('of', 1),\n",
       " ('science', 1),\n",
       " ('vol', 1),\n",
       " ('1', 1),\n",
       " ('of', 1),\n",
       " ('4', 1),\n",
       " ('by', 1),\n",
       " ('j', 1)]"
      ]
     },
     "execution_count": 32,
     "metadata": {},
     "output_type": "execute_result"
    }
   ],
   "source": [
    "pair_word_one_rdd.take(15)"
   ]
  },
  {
   "cell_type": "code",
   "execution_count": 33,
   "metadata": {
    "id": "73HMlF1jzrHG"
   },
   "outputs": [],
   "source": [
    "word_count_rdd = pair_word_one_rdd.reduceByKey(lambda x,y : x + y )"
   ]
  },
  {
   "cell_type": "code",
   "execution_count": 34,
   "metadata": {
    "colab": {
     "base_uri": "https://localhost:8080/"
    },
    "id": "_t-h2RnB0fJX",
    "outputId": "65a89564-1467-4d24-f063-f2b0da790435"
   },
   "outputs": [
    {
     "data": {
      "text/plain": [
       "[('of', 41941),\n",
       " ('', 56090),\n",
       " ('is', 14168),\n",
       " ('at', 5303),\n",
       " ('no', 3108),\n",
       " ('cost', 46),\n",
       " ('away', 473),\n",
       " ('re-use', 6),\n",
       " ('license', 51),\n",
       " ('plain', 84),\n",
       " ('release', 22),\n",
       " ('character', 116),\n",
       " ('***', 40),\n",
       " ('leonard', 31),\n",
       " ('distributed', 53),\n",
       " ('proofreading', 4),\n",
       " ('http://wwwpgdpnet', 4),\n",
       " ('[illustration:', 470),\n",
       " ('such', 1033),\n",
       " ('feature', 15)]"
      ]
     },
     "execution_count": 34,
     "metadata": {},
     "output_type": "execute_result"
    }
   ],
   "source": [
    "word_count_rdd.take(20)"
   ]
  },
  {
   "cell_type": "code",
   "execution_count": 35,
   "metadata": {
    "id": "_kzFvAJL0iZa"
   },
   "outputs": [],
   "source": [
    "word_count_rdd.saveAsTextFile(r'/content/output/word-count-output1')"
   ]
  }
 ],
 "metadata": {
  "colab": {
   "name": "DS8_Spark_Core_WordCount.ipynb",
   "provenance": []
  },
  "kernelspec": {
   "display_name": "Python 3 (ipykernel)",
   "language": "python",
   "name": "python3"
  },
  "language_info": {
   "codemirror_mode": {
    "name": "ipython",
    "version": 3
   },
   "file_extension": ".py",
   "mimetype": "text/x-python",
   "name": "python",
   "nbconvert_exporter": "python",
   "pygments_lexer": "ipython3",
   "version": "3.10.11"
  }
 },
 "nbformat": 4,
 "nbformat_minor": 1
}
