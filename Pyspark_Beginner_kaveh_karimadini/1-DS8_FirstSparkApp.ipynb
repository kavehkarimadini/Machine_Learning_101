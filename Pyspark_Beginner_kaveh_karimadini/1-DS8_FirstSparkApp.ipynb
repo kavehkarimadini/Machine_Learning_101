{
 "cells": [
  {
   "cell_type": "code",
   "execution_count": 2,
   "metadata": {
    "colab": {
     "base_uri": "https://localhost:8080/"
    },
    "id": "Di2x1hM3oXEi",
    "outputId": "6a5e2374-dd08-47c9-a37f-cceaed91b510"
   },
   "outputs": [
    {
     "name": "stdout",
     "output_type": "stream",
     "text": [
      "Requirement already satisfied: pyspark in /usr/local/lib/python3.7/dist-packages (3.2.1)\n",
      "Requirement already satisfied: py4j==0.10.9.3 in /usr/local/lib/python3.7/dist-packages (from pyspark) (0.10.9.3)\n"
     ]
    }
   ],
   "source": [
    "pip install pyspark"
   ]
  },
  {
   "cell_type": "code",
   "execution_count": 3,
   "metadata": {
    "id": "li4GXjw65_xD"
   },
   "outputs": [],
   "source": [
    "from pyspark import SparkContext"
   ]
  },
  {
   "cell_type": "code",
   "execution_count": 4,
   "metadata": {
    "id": "69zGOB4L6LFZ"
   },
   "outputs": [],
   "source": [
    "sc = SparkContext('local','First Spark App')"
   ]
  },
  {
   "cell_type": "code",
   "execution_count": 5,
   "metadata": {
    "colab": {
     "base_uri": "https://localhost:8080/",
     "height": 200
    },
    "id": "g_tjT5zC6VJ3",
    "outputId": "076bb41e-5b18-4852-c2d2-fb46a68100dd"
   },
   "outputs": [
    {
     "data": {
      "text/html": [
       "\n",
       "        <div>\n",
       "            <p><b>SparkContext</b></p>\n",
       "\n",
       "            <p><a href=\"http://039d7fd2699b:4040\">Spark UI</a></p>\n",
       "\n",
       "            <dl>\n",
       "              <dt>Version</dt>\n",
       "                <dd><code>v3.2.1</code></dd>\n",
       "              <dt>Master</dt>\n",
       "                <dd><code>local</code></dd>\n",
       "              <dt>AppName</dt>\n",
       "                <dd><code>First Spark App</code></dd>\n",
       "            </dl>\n",
       "        </div>\n",
       "        "
      ],
      "text/plain": [
       "<SparkContext master=local appName=First Spark App>"
      ]
     },
     "execution_count": 5,
     "metadata": {},
     "output_type": "execute_result"
    }
   ],
   "source": [
    "sc"
   ]
  },
  {
   "cell_type": "code",
   "execution_count": 6,
   "metadata": {
    "id": "ub-mZXYG6YTL"
   },
   "outputs": [],
   "source": [
    "numbers = [1,3,2,3,4,5,4,5,6,7,67,87,987,123123,5,4,3,5,789,890,23,12,23,11,1,1,1,5]"
   ]
  },
  {
   "cell_type": "code",
   "execution_count": 7,
   "metadata": {
    "id": "vQTDnasc61v4"
   },
   "outputs": [],
   "source": [
    "numbers_rdd = sc.parallelize(numbers)"
   ]
  },
  {
   "cell_type": "code",
   "execution_count": 8,
   "metadata": {
    "colab": {
     "base_uri": "https://localhost:8080/"
    },
    "id": "HM8yqHSX68Qc",
    "outputId": "22f65ae3-f2f7-4fd0-e8e0-52d7e82b554f"
   },
   "outputs": [
    {
     "data": {
      "text/plain": [
       "28"
      ]
     },
     "execution_count": 8,
     "metadata": {},
     "output_type": "execute_result"
    }
   ],
   "source": [
    "numbers_rdd.count()"
   ]
  },
  {
   "cell_type": "code",
   "execution_count": 9,
   "metadata": {
    "colab": {
     "base_uri": "https://localhost:8080/"
    },
    "id": "uWZrs_LH7E8C",
    "outputId": "6500867d-f10e-4e51-b07e-416e737ec91e"
   },
   "outputs": [
    {
     "data": {
      "text/plain": [
       "123123"
      ]
     },
     "execution_count": 9,
     "metadata": {},
     "output_type": "execute_result"
    }
   ],
   "source": [
    "numbers_rdd.max()"
   ]
  },
  {
   "cell_type": "code",
   "execution_count": 10,
   "metadata": {
    "colab": {
     "base_uri": "https://localhost:8080/"
    },
    "id": "2QWJbuEg7RoA",
    "outputId": "4a5eb94f-ea04-49a5-d68b-934d4df749e0"
   },
   "outputs": [
    {
     "data": {
      "text/plain": [
       "1"
      ]
     },
     "execution_count": 10,
     "metadata": {},
     "output_type": "execute_result"
    }
   ],
   "source": [
    "numbers_rdd.min()"
   ]
  },
  {
   "cell_type": "code",
   "execution_count": 11,
   "metadata": {
    "colab": {
     "base_uri": "https://localhost:8080/"
    },
    "id": "RicJt6VC7VCM",
    "outputId": "283169c9-049f-4f61-ce01-aeec65e33287"
   },
   "outputs": [
    {
     "data": {
      "text/plain": [
       "[1, 3, 2, 3, 4, 5, 4, 5, 6, 7]"
      ]
     },
     "execution_count": 11,
     "metadata": {},
     "output_type": "execute_result"
    }
   ],
   "source": [
    "numbers_rdd.take(10)"
   ]
  },
  {
   "cell_type": "code",
   "execution_count": 13,
   "metadata": {
    "colab": {
     "base_uri": "https://localhost:8080/"
    },
    "id": "fQiLPAjv7cWm",
    "outputId": "620f92bc-2a54-46ec-85b4-ca21deee866f"
   },
   "outputs": [
    {
     "data": {
      "text/plain": [
       "1"
      ]
     },
     "execution_count": 13,
     "metadata": {},
     "output_type": "execute_result"
    }
   ],
   "source": [
    "numbers_rdd.first()"
   ]
  },
  {
   "cell_type": "code",
   "execution_count": 14,
   "metadata": {
    "colab": {
     "base_uri": "https://localhost:8080/"
    },
    "id": "vAZYJcYE7hGY",
    "outputId": "4bf1e307-fa3b-40f1-b09e-00e3b4878161"
   },
   "outputs": [
    {
     "data": {
      "text/plain": [
       "[1,\n",
       " 3,\n",
       " 2,\n",
       " 3,\n",
       " 4,\n",
       " 5,\n",
       " 4,\n",
       " 5,\n",
       " 6,\n",
       " 7,\n",
       " 67,\n",
       " 87,\n",
       " 987,\n",
       " 123123,\n",
       " 5,\n",
       " 4,\n",
       " 3,\n",
       " 5,\n",
       " 789,\n",
       " 890,\n",
       " 23,\n",
       " 12,\n",
       " 23,\n",
       " 11,\n",
       " 1,\n",
       " 1,\n",
       " 1,\n",
       " 5]"
      ]
     },
     "execution_count": 14,
     "metadata": {},
     "output_type": "execute_result"
    }
   ],
   "source": [
    "numbers_rdd.collect()"
   ]
  },
  {
   "cell_type": "code",
   "execution_count": 15,
   "metadata": {
    "id": "NxlOrKNy7o48"
   },
   "outputs": [],
   "source": [
    "numbers_plus_10_rdd = numbers_rdd.map(lambda x : x + 3)"
   ]
  },
  {
   "cell_type": "code",
   "execution_count": 16,
   "metadata": {
    "colab": {
     "base_uri": "https://localhost:8080/"
    },
    "id": "-RhIemqv8I_c",
    "outputId": "a3ac3ed6-b34a-48f1-c221-18093121e5bf"
   },
   "outputs": [
    {
     "data": {
      "text/plain": [
       "[1, 3, 2, 3, 4, 5, 4, 5, 6, 7, 67, 87, 987, 123123, 5]"
      ]
     },
     "execution_count": 16,
     "metadata": {},
     "output_type": "execute_result"
    }
   ],
   "source": [
    "numbers_rdd.take(15)"
   ]
  },
  {
   "cell_type": "code",
   "execution_count": 17,
   "metadata": {
    "colab": {
     "base_uri": "https://localhost:8080/"
    },
    "id": "ecC4bVRl8PhV",
    "outputId": "2824b6ad-4b18-457b-daad-42847f6fc37c"
   },
   "outputs": [
    {
     "data": {
      "text/plain": [
       "[4, 6, 5, 6, 7, 8, 7, 8, 9, 10, 70, 90, 990, 123126, 8]"
      ]
     },
     "execution_count": 17,
     "metadata": {},
     "output_type": "execute_result"
    }
   ],
   "source": [
    "numbers_plus_10_rdd.take(15)"
   ]
  },
  {
   "cell_type": "code",
   "execution_count": 18,
   "metadata": {
    "id": "DdDKcPSs8Rfj"
   },
   "outputs": [],
   "source": [
    "filtered_numbers_rdd = numbers_rdd.filter(lambda x : x % 3 == 0)"
   ]
  },
  {
   "cell_type": "code",
   "execution_count": 19,
   "metadata": {
    "colab": {
     "base_uri": "https://localhost:8080/"
    },
    "id": "k4T4YBvK8mV7",
    "outputId": "a6fa671d-e489-45b0-ad37-bce2cac4d87d"
   },
   "outputs": [
    {
     "data": {
      "text/plain": [
       "[3, 3, 6, 87, 987, 123123, 3, 789, 12]"
      ]
     },
     "execution_count": 19,
     "metadata": {},
     "output_type": "execute_result"
    }
   ],
   "source": [
    "filtered_numbers_rdd.collect()"
   ]
  }
 ],
 "metadata": {
  "colab": {
   "name": "DS8_FirstSparkApp.ipynb",
   "provenance": []
  },
  "kernelspec": {
   "display_name": "Python 3 (ipykernel)",
   "language": "python",
   "name": "python3"
  },
  "language_info": {
   "codemirror_mode": {
    "name": "ipython",
    "version": 3
   },
   "file_extension": ".py",
   "mimetype": "text/x-python",
   "name": "python",
   "nbconvert_exporter": "python",
   "pygments_lexer": "ipython3",
   "version": "3.10.11"
  }
 },
 "nbformat": 4,
 "nbformat_minor": 1
}
