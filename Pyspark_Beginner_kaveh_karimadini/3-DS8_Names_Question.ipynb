{
 "cells": [
  {
   "cell_type": "code",
   "execution_count": 1,
   "metadata": {
    "colab": {
     "base_uri": "https://localhost:8080/"
    },
    "id": "60JeeC5PmiKG",
    "outputId": "5e4bfaa9-0831-4de8-bb86-b5b86322fd23"
   },
   "outputs": [
    {
     "name": "stdout",
     "output_type": "stream",
     "text": [
      "Collecting pyspark\n",
      "  Downloading pyspark-3.2.1.tar.gz (281.4 MB)\n",
      "\u001b[K     |████████████████████████████████| 281.4 MB 35 kB/s \n",
      "\u001b[?25hCollecting py4j==0.10.9.3\n",
      "  Downloading py4j-0.10.9.3-py2.py3-none-any.whl (198 kB)\n",
      "\u001b[K     |████████████████████████████████| 198 kB 47.7 MB/s \n",
      "\u001b[?25hBuilding wheels for collected packages: pyspark\n",
      "  Building wheel for pyspark (setup.py) ... \u001b[?25l\u001b[?25hdone\n",
      "  Created wheel for pyspark: filename=pyspark-3.2.1-py2.py3-none-any.whl size=281853642 sha256=1808918fd7b4593ce2fbeaca9bed8de3b0f9612f83c784e65f9484a4cebdc5f0\n",
      "  Stored in directory: /root/.cache/pip/wheels/9f/f5/07/7cd8017084dce4e93e84e92efd1e1d5334db05f2e83bcef74f\n",
      "Successfully built pyspark\n",
      "Installing collected packages: py4j, pyspark\n",
      "Successfully installed py4j-0.10.9.3 pyspark-3.2.1\n"
     ]
    }
   ],
   "source": [
    "pip install pyspark"
   ]
  },
  {
   "cell_type": "code",
   "execution_count": 10,
   "metadata": {
    "id": "g0LYHKDqmkek"
   },
   "outputs": [],
   "source": [
    "names_list = ['ali','hassan','naghi','hashem','javad','kamal','farhad','goli','massod','nasim','bahar','reza','davood','sahba','sarvenaz','bejan','mona','hamid','jamshid','elahe']"
   ]
  },
  {
   "cell_type": "code",
   "execution_count": 11,
   "metadata": {
    "colab": {
     "base_uri": "https://localhost:8080/"
    },
    "id": "OkLyq-hJoRvw",
    "outputId": "fe9ff3e7-139b-48f1-dff3-e875847ef2a9"
   },
   "outputs": [
    {
     "data": {
      "text/plain": [
       "['ali',\n",
       " 'hassan',\n",
       " 'naghi',\n",
       " 'hashem',\n",
       " 'javad',\n",
       " 'kamal',\n",
       " 'farhad',\n",
       " 'goli',\n",
       " 'massod',\n",
       " 'nasim',\n",
       " 'bahar',\n",
       " 'reza',\n",
       " 'davood',\n",
       " 'sahba',\n",
       " 'sarvenaz',\n",
       " 'bejan',\n",
       " 'mona',\n",
       " 'hamid',\n",
       " 'jamshid',\n",
       " 'elahe']"
      ]
     },
     "execution_count": 11,
     "metadata": {},
     "output_type": "execute_result"
    }
   ],
   "source": [
    "names_list"
   ]
  },
  {
   "cell_type": "code",
   "execution_count": 4,
   "metadata": {
    "id": "TEf7eLLJrqkv"
   },
   "outputs": [],
   "source": [
    "from pyspark import SparkContext"
   ]
  },
  {
   "cell_type": "code",
   "execution_count": 5,
   "metadata": {
    "id": "aqPJ5LrWru_D"
   },
   "outputs": [],
   "source": [
    "sc = SparkContext('local', 'Names Example')"
   ]
  },
  {
   "cell_type": "code",
   "execution_count": 12,
   "metadata": {
    "id": "i46f6NHGrz8e"
   },
   "outputs": [],
   "source": [
    "names_rdd = sc.parallelize(names_list)"
   ]
  },
  {
   "cell_type": "code",
   "execution_count": 13,
   "metadata": {
    "colab": {
     "base_uri": "https://localhost:8080/"
    },
    "id": "imO0UELsr7h5",
    "outputId": "60e751b3-70af-43a3-cc6b-b354bb96c945"
   },
   "outputs": [
    {
     "data": {
      "text/plain": [
       "['ali',\n",
       " 'hassan',\n",
       " 'naghi',\n",
       " 'hashem',\n",
       " 'javad',\n",
       " 'kamal',\n",
       " 'farhad',\n",
       " 'goli',\n",
       " 'massod',\n",
       " 'nasim',\n",
       " 'bahar',\n",
       " 'reza',\n",
       " 'davood',\n",
       " 'sahba',\n",
       " 'sarvenaz',\n",
       " 'bejan',\n",
       " 'mona',\n",
       " 'hamid',\n",
       " 'jamshid',\n",
       " 'elahe']"
      ]
     },
     "execution_count": 13,
     "metadata": {},
     "output_type": "execute_result"
    }
   ],
   "source": [
    "names_rdd.collect()"
   ]
  },
  {
   "cell_type": "code",
   "execution_count": 14,
   "metadata": {
    "id": "vNu9MZLWr99n"
   },
   "outputs": [],
   "source": [
    "len_names_pair_rdd = names_rdd.map(lambda x: (len(x),x))"
   ]
  },
  {
   "cell_type": "code",
   "execution_count": 15,
   "metadata": {
    "colab": {
     "base_uri": "https://localhost:8080/"
    },
    "id": "LzI-N0bPspLb",
    "outputId": "4a56a36f-bbeb-44d6-d6f4-199f3a0fa76a"
   },
   "outputs": [
    {
     "data": {
      "text/plain": [
       "[(3, 'ali'),\n",
       " (6, 'hassan'),\n",
       " (5, 'naghi'),\n",
       " (6, 'hashem'),\n",
       " (5, 'javad'),\n",
       " (5, 'kamal'),\n",
       " (6, 'farhad'),\n",
       " (4, 'goli'),\n",
       " (6, 'massod'),\n",
       " (5, 'nasim'),\n",
       " (5, 'bahar'),\n",
       " (4, 'reza'),\n",
       " (6, 'davood'),\n",
       " (5, 'sahba'),\n",
       " (8, 'sarvenaz'),\n",
       " (5, 'bejan'),\n",
       " (4, 'mona'),\n",
       " (5, 'hamid'),\n",
       " (7, 'jamshid'),\n",
       " (5, 'elahe')]"
      ]
     },
     "execution_count": 15,
     "metadata": {},
     "output_type": "execute_result"
    }
   ],
   "source": [
    "len_names_pair_rdd.collect()"
   ]
  },
  {
   "cell_type": "code",
   "execution_count": 16,
   "metadata": {
    "id": "ICsQat1tsr48"
   },
   "outputs": [],
   "source": [
    "grouped_len_names_pair_rdd = len_names_pair_rdd.groupByKey()"
   ]
  },
  {
   "cell_type": "code",
   "execution_count": 17,
   "metadata": {
    "colab": {
     "base_uri": "https://localhost:8080/"
    },
    "id": "otKRcE3wtJzY",
    "outputId": "c48466ff-05a6-47ce-a1a0-f822de7bd03c"
   },
   "outputs": [
    {
     "data": {
      "text/plain": [
       "[(3, <pyspark.resultiterable.ResultIterable at 0x7f8506552990>),\n",
       " (6, <pyspark.resultiterable.ResultIterable at 0x7f8506552ad0>),\n",
       " (5, <pyspark.resultiterable.ResultIterable at 0x7f850548e390>),\n",
       " (4, <pyspark.resultiterable.ResultIterable at 0x7f8506552f90>),\n",
       " (8, <pyspark.resultiterable.ResultIterable at 0x7f8505467cd0>),\n",
       " (7, <pyspark.resultiterable.ResultIterable at 0x7f85054676d0>)]"
      ]
     },
     "execution_count": 17,
     "metadata": {},
     "output_type": "execute_result"
    }
   ],
   "source": [
    "grouped_len_names_pair_rdd.collect()"
   ]
  },
  {
   "cell_type": "code",
   "execution_count": 18,
   "metadata": {
    "colab": {
     "base_uri": "https://localhost:8080/"
    },
    "id": "kby4nhustTYR",
    "outputId": "81b77f25-1f82-4ff8-909e-7aed6983cf99"
   },
   "outputs": [
    {
     "data": {
      "text/plain": [
       "['ali',\n",
       " 'hassan',\n",
       " 'naghi',\n",
       " 'hashem',\n",
       " 'javad',\n",
       " 'kamal',\n",
       " 'farhad',\n",
       " 'goli',\n",
       " 'massod',\n",
       " 'nasim',\n",
       " 'bahar',\n",
       " 'reza',\n",
       " 'davood',\n",
       " 'sahba',\n",
       " 'sarvenaz',\n",
       " 'bejan',\n",
       " 'mona',\n",
       " 'hamid',\n",
       " 'jamshid',\n",
       " 'elahe']"
      ]
     },
     "execution_count": 18,
     "metadata": {},
     "output_type": "execute_result"
    }
   ],
   "source": [
    "names_list"
   ]
  },
  {
   "cell_type": "code",
   "execution_count": 23,
   "metadata": {
    "colab": {
     "base_uri": "https://localhost:8080/"
    },
    "id": "_8MJiV4SucUE",
    "outputId": "24b6db55-e58d-4af8-acbb-a9603980c0eb"
   },
   "outputs": [
    {
     "data": {
      "text/plain": [
       "[(3, ['ali']),\n",
       " (6, ['hassan', 'hashem', 'farhad', 'massod', 'davood']),\n",
       " (5,\n",
       "  ['naghi',\n",
       "   'javad',\n",
       "   'kamal',\n",
       "   'nasim',\n",
       "   'bahar',\n",
       "   'sahba',\n",
       "   'bejan',\n",
       "   'hamid',\n",
       "   'elahe']),\n",
       " (4, ['goli', 'reza', 'mona']),\n",
       " (8, ['sarvenaz']),\n",
       " (7, ['jamshid'])]"
      ]
     },
     "execution_count": 23,
     "metadata": {},
     "output_type": "execute_result"
    }
   ],
   "source": [
    "grouped_len_names_pair_rdd.map(lambda x : (x[0],list(x[1]))).collect()"
   ]
  },
  {
   "cell_type": "code",
   "execution_count": null,
   "metadata": {
    "id": "1snyfWC5vNeK"
   },
   "outputs": [],
   "source": []
  }
 ],
 "metadata": {
  "colab": {
   "name": "DS8_Names_Question.ipynb",
   "provenance": []
  },
  "kernelspec": {
   "display_name": "Python 3 (ipykernel)",
   "language": "python",
   "name": "python3"
  },
  "language_info": {
   "codemirror_mode": {
    "name": "ipython",
    "version": 3
   },
   "file_extension": ".py",
   "mimetype": "text/x-python",
   "name": "python",
   "nbconvert_exporter": "python",
   "pygments_lexer": "ipython3",
   "version": "3.10.11"
  }
 },
 "nbformat": 4,
 "nbformat_minor": 1
}
