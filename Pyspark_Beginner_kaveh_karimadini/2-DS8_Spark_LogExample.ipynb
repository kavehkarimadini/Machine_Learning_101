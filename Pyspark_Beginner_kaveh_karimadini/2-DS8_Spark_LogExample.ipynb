{
 "cells": [
  {
   "cell_type": "code",
   "execution_count": 1,
   "metadata": {
    "colab": {
     "base_uri": "https://localhost:8080/"
    },
    "id": "zR1oGuBD9u73",
    "outputId": "a3576a21-f9c1-4735-c694-cf2f3d864d9e"
   },
   "outputs": [
    {
     "name": "stdout",
     "output_type": "stream",
     "text": [
      "Collecting pyspark\n",
      "  Downloading pyspark-3.2.1.tar.gz (281.4 MB)\n",
      "\u001b[K     |████████████████████████████████| 281.4 MB 37 kB/s \n",
      "\u001b[?25hCollecting py4j==0.10.9.3\n",
      "  Downloading py4j-0.10.9.3-py2.py3-none-any.whl (198 kB)\n",
      "\u001b[K     |████████████████████████████████| 198 kB 60.2 MB/s \n",
      "\u001b[?25hBuilding wheels for collected packages: pyspark\n",
      "  Building wheel for pyspark (setup.py) ... \u001b[?25l\u001b[?25hdone\n",
      "  Created wheel for pyspark: filename=pyspark-3.2.1-py2.py3-none-any.whl size=281853642 sha256=8d917673e20c6e63ead6fd3c7c1609d1b85256d4327004dd49809e1c264c7127\n",
      "  Stored in directory: /root/.cache/pip/wheels/9f/f5/07/7cd8017084dce4e93e84e92efd1e1d5334db05f2e83bcef74f\n",
      "Successfully built pyspark\n",
      "Installing collected packages: py4j, pyspark\n",
      "Successfully installed py4j-0.10.9.3 pyspark-3.2.1\n"
     ]
    }
   ],
   "source": [
    "pip install pyspark"
   ]
  },
  {
   "cell_type": "code",
   "execution_count": 2,
   "metadata": {
    "id": "yRYlD2i292T-"
   },
   "outputs": [],
   "source": [
    "from pyspark import SparkContext"
   ]
  },
  {
   "cell_type": "code",
   "execution_count": 3,
   "metadata": {
    "id": "f7qzVhQ3-Mss"
   },
   "outputs": [],
   "source": [
    "sc = SparkContext('local', 'Log Example')"
   ]
  },
  {
   "cell_type": "code",
   "execution_count": 4,
   "metadata": {
    "id": "v3cT-RQ5-Qu0"
   },
   "outputs": [],
   "source": [
    "log_data_rdd = sc.textFile(r'/content/data/hadooproot.log')"
   ]
  },
  {
   "cell_type": "code",
   "execution_count": 5,
   "metadata": {
    "colab": {
     "base_uri": "https://localhost:8080/"
    },
    "id": "ffyg58zI-eLN",
    "outputId": "d51618e6-48e7-4ad4-d0e2-19583000f840"
   },
   "outputs": [
    {
     "data": {
      "text/plain": [
       "['2017-12-14 13:26:49,080 INFO org.apache.hadoop.hdfs.server.datanode.DataNode: STARTUP_MSG: ',\n",
       " '/************************************************************',\n",
       " 'STARTUP_MSG: Starting DataNode',\n",
       " 'STARTUP_MSG:   user = root']"
      ]
     },
     "execution_count": 5,
     "metadata": {},
     "output_type": "execute_result"
    }
   ],
   "source": [
    "log_data_rdd.take(4)"
   ]
  },
  {
   "cell_type": "code",
   "execution_count": 6,
   "metadata": {
    "id": "JGTu5Yka-ssv"
   },
   "outputs": [],
   "source": [
    "filtered_log_data_rdd = log_data_rdd.filter(lambda x : 'Exception' in x)"
   ]
  },
  {
   "cell_type": "code",
   "execution_count": 7,
   "metadata": {
    "colab": {
     "base_uri": "https://localhost:8080/"
    },
    "id": "3-v5bUskAcrN",
    "outputId": "b84d4987-f2ea-4516-c3f9-fa94eb058fe7"
   },
   "outputs": [
    {
     "data": {
      "text/plain": [
       "8"
      ]
     },
     "execution_count": 7,
     "metadata": {},
     "output_type": "execute_result"
    }
   ],
   "source": [
    "filtered_log_data_rdd.count()"
   ]
  },
  {
   "cell_type": "code",
   "execution_count": 8,
   "metadata": {
    "colab": {
     "base_uri": "https://localhost:8080/"
    },
    "id": "jS4W5lq9Agwq",
    "outputId": "1e7c130d-1067-47b7-aa7b-e03c091d1d82"
   },
   "outputs": [
    {
     "data": {
      "text/plain": [
       "['2017-12-14 13:30:03,045 WARN org.apache.hadoop.hdfs.server.datanode.DataNode: IOException in offerService',\n",
       " 'java.io.EOFException: End of File Exception between local host is: \"slave3/192.168.186.21\"; destination host is: \"newmaster\":9000; : java.io.EOFException; For more details see:  http://wiki.apache.org/hadoop/EOFException',\n",
       " '\\tat org.apache.hadoop.net.NetUtils.wrapException(NetUtils.java:765)',\n",
       " 'Caused by: java.io.EOFException',\n",
       " '2017-12-14 13:34:47,778 WARN org.apache.hadoop.hdfs.server.datanode.DataNode: IOException in offerService',\n",
       " 'java.io.EOFException: End of File Exception between local host is: \"slave3/192.168.186.21\"; destination host is: \"newmaster\":9000; : java.io.EOFException; For more details see:  http://wiki.apache.org/hadoop/EOFException',\n",
       " '\\tat org.apache.hadoop.net.NetUtils.wrapException(NetUtils.java:765)',\n",
       " 'Caused by: java.io.EOFException']"
      ]
     },
     "execution_count": 8,
     "metadata": {},
     "output_type": "execute_result"
    }
   ],
   "source": [
    "filtered_log_data_rdd.collect()"
   ]
  },
  {
   "cell_type": "code",
   "execution_count": 9,
   "metadata": {
    "id": "lKoXKQLLAll0"
   },
   "outputs": [],
   "source": [
    "word_log_data_rdd = log_data_rdd.flatMap(lambda x : x.split(' '))"
   ]
  },
  {
   "cell_type": "code",
   "execution_count": 10,
   "metadata": {
    "colab": {
     "base_uri": "https://localhost:8080/"
    },
    "id": "V3v9TxLkCRyn",
    "outputId": "b0f73364-bdfb-4c52-e184-f1abde79a773"
   },
   "outputs": [
    {
     "data": {
      "text/plain": [
       "['2017-12-14 13:26:49,080 INFO org.apache.hadoop.hdfs.server.datanode.DataNode: STARTUP_MSG: ',\n",
       " '/************************************************************',\n",
       " 'STARTUP_MSG: Starting DataNode',\n",
       " 'STARTUP_MSG:   user = root']"
      ]
     },
     "execution_count": 10,
     "metadata": {},
     "output_type": "execute_result"
    }
   ],
   "source": [
    "log_data_rdd.take(4)"
   ]
  },
  {
   "cell_type": "code",
   "execution_count": 11,
   "metadata": {
    "colab": {
     "base_uri": "https://localhost:8080/"
    },
    "id": "NY-qCtMTCVBK",
    "outputId": "8029d0f2-a610-4723-9b3d-85e283741638"
   },
   "outputs": [
    {
     "data": {
      "text/plain": [
       "['2017-12-14',\n",
       " '13:26:49,080',\n",
       " 'INFO',\n",
       " 'org.apache.hadoop.hdfs.server.datanode.DataNode:',\n",
       " 'STARTUP_MSG:',\n",
       " '',\n",
       " '/************************************************************',\n",
       " 'STARTUP_MSG:',\n",
       " 'Starting',\n",
       " 'DataNode',\n",
       " 'STARTUP_MSG:',\n",
       " '',\n",
       " '',\n",
       " 'user',\n",
       " '=']"
      ]
     },
     "execution_count": 11,
     "metadata": {},
     "output_type": "execute_result"
    }
   ],
   "source": [
    "word_log_data_rdd.take(15)"
   ]
  },
  {
   "cell_type": "code",
   "execution_count": 12,
   "metadata": {
    "id": "Dqzd3cVDCYFi"
   },
   "outputs": [],
   "source": [
    "filtered_word_log_data_rdd = word_log_data_rdd.filter(lambda x : 'Exception' in x)"
   ]
  },
  {
   "cell_type": "code",
   "execution_count": 13,
   "metadata": {
    "colab": {
     "base_uri": "https://localhost:8080/"
    },
    "id": "JLzT_Lh6DOX5",
    "outputId": "7de32c34-8613-45c5-9d40-b3c8e0acdf54"
   },
   "outputs": [
    {
     "data": {
      "text/plain": [
       "14"
      ]
     },
     "execution_count": 13,
     "metadata": {},
     "output_type": "execute_result"
    }
   ],
   "source": [
    "filtered_word_log_data_rdd.count()"
   ]
  },
  {
   "cell_type": "code",
   "execution_count": 14,
   "metadata": {
    "colab": {
     "base_uri": "https://localhost:8080/"
    },
    "id": "V9byrlHqDTNX",
    "outputId": "e15e900a-1346-46ac-ae06-ea84fc469787"
   },
   "outputs": [
    {
     "data": {
      "text/plain": [
       "['IOException',\n",
       " 'java.io.EOFException:',\n",
       " 'Exception',\n",
       " 'java.io.EOFException;',\n",
       " 'http://wiki.apache.org/hadoop/EOFException',\n",
       " 'org.apache.hadoop.net.NetUtils.wrapException(NetUtils.java:765)',\n",
       " 'java.io.EOFException',\n",
       " 'IOException',\n",
       " 'java.io.EOFException:',\n",
       " 'Exception',\n",
       " 'java.io.EOFException;',\n",
       " 'http://wiki.apache.org/hadoop/EOFException',\n",
       " 'org.apache.hadoop.net.NetUtils.wrapException(NetUtils.java:765)',\n",
       " 'java.io.EOFException']"
      ]
     },
     "execution_count": 14,
     "metadata": {},
     "output_type": "execute_result"
    }
   ],
   "source": [
    "filtered_word_log_data_rdd.collect()"
   ]
  },
  {
   "cell_type": "code",
   "execution_count": null,
   "metadata": {
    "id": "Sa7385UMDZWI"
   },
   "outputs": [],
   "source": []
  }
 ],
 "metadata": {
  "colab": {
   "name": "DS8_Spark_LogExample.ipynb",
   "provenance": []
  },
  "kernelspec": {
   "display_name": "Python 3 (ipykernel)",
   "language": "python",
   "name": "python3"
  },
  "language_info": {
   "codemirror_mode": {
    "name": "ipython",
    "version": 3
   },
   "file_extension": ".py",
   "mimetype": "text/x-python",
   "name": "python",
   "nbconvert_exporter": "python",
   "pygments_lexer": "ipython3",
   "version": "3.10.11"
  }
 },
 "nbformat": 4,
 "nbformat_minor": 1
}
