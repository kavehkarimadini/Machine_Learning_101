{
 "cells": [
  {
   "cell_type": "code",
   "execution_count": 1,
   "metadata": {
    "colab": {
     "base_uri": "https://localhost:8080/"
    },
    "id": "WweAPcSj6rqm",
    "outputId": "6a5a509f-b8fa-4654-be30-526d813acc16"
   },
   "outputs": [
    {
     "name": "stdout",
     "output_type": "stream",
     "text": [
      "Collecting pyspark\n",
      "  Downloading pyspark-3.2.1.tar.gz (281.4 MB)\n",
      "\u001b[K     |████████████████████████████████| 281.4 MB 29 kB/s \n",
      "\u001b[?25hCollecting py4j==0.10.9.3\n",
      "  Downloading py4j-0.10.9.3-py2.py3-none-any.whl (198 kB)\n",
      "\u001b[K     |████████████████████████████████| 198 kB 39.3 MB/s \n",
      "\u001b[?25hBuilding wheels for collected packages: pyspark\n",
      "  Building wheel for pyspark (setup.py) ... \u001b[?25l\u001b[?25hdone\n",
      "  Created wheel for pyspark: filename=pyspark-3.2.1-py2.py3-none-any.whl size=281853642 sha256=7abd92da4d0c8eebb2a8ffa2d0514563ae2f2941c0c68deec2f7d676594a528a\n",
      "  Stored in directory: /root/.cache/pip/wheels/9f/f5/07/7cd8017084dce4e93e84e92efd1e1d5334db05f2e83bcef74f\n",
      "Successfully built pyspark\n",
      "Installing collected packages: py4j, pyspark\n",
      "Successfully installed py4j-0.10.9.3 pyspark-3.2.1\n"
     ]
    }
   ],
   "source": [
    "pip install pyspark"
   ]
  },
  {
   "cell_type": "code",
   "execution_count": 2,
   "metadata": {
    "id": "dhMLslAY6sQl"
   },
   "outputs": [],
   "source": [
    "from pyspark import SparkContext"
   ]
  },
  {
   "cell_type": "code",
   "execution_count": 3,
   "metadata": {
    "id": "W-623a6I6uB_"
   },
   "outputs": [],
   "source": [
    "sc = SparkContext('local', 'Names Example')"
   ]
  },
  {
   "cell_type": "code",
   "execution_count": 4,
   "metadata": {
    "id": "FyON21P495SL"
   },
   "outputs": [],
   "source": [
    "user_rdd = sc.textFile(r'/content/books_input/Users.csv')"
   ]
  },
  {
   "cell_type": "code",
   "execution_count": 5,
   "metadata": {
    "id": "6t9C5FlnCvF2"
   },
   "outputs": [],
   "source": [
    "rating_rdd = sc.textFile(r'/content/books_input/Book-Ratings.csv')"
   ]
  },
  {
   "cell_type": "code",
   "execution_count": 6,
   "metadata": {
    "colab": {
     "base_uri": "https://localhost:8080/"
    },
    "id": "JW4tByJTC1Ad",
    "outputId": "9979e154-335b-483c-85a6-0a7d2127fd5a"
   },
   "outputs": [
    {
     "data": {
      "text/plain": [
       "['\"UserID\";\"USERNAME\";\"Location\";\"Age\"',\n",
       " '\"1\";\"bzsufoRTLN2\";\"nyc, new york, usa\";NULL',\n",
       " '\"2\";\"fq7kfHg4VEI\";\"stockton, california, usa\";\"18\"',\n",
       " '\"3\";\"W0Hbkd3xR8v\";\"moscow, yukon territory, russia\";NULL',\n",
       " '\"4\";\"W51GahAx5Ap\";\"porto, v.n.gaia, portugal\";\"17\"',\n",
       " '\"5\";\"VKN3PQ18GgN\";\"farnborough, hants, united kingdom\";NULL',\n",
       " '\"6\";\"h9BSgQZ5wOk\";\"santa monica, california, usa\";\"61\"',\n",
       " '\"7\";\"7rdddpZpjWp\";\"washington, dc, usa\";NULL',\n",
       " '\"8\";\"qiOJebWJS2i\";\"timmins, ontario, canada\";NULL',\n",
       " '\"9\";\"gkcxQJLS13A\";\"germantown, tennessee, usa\";NULL']"
      ]
     },
     "execution_count": 6,
     "metadata": {},
     "output_type": "execute_result"
    }
   ],
   "source": [
    "user_rdd.take(10)"
   ]
  },
  {
   "cell_type": "code",
   "execution_count": 7,
   "metadata": {
    "colab": {
     "base_uri": "https://localhost:8080/"
    },
    "id": "f-jzqGldC6w9",
    "outputId": "f23ed4d5-e58d-4f1c-8adb-98d5f42dfde3"
   },
   "outputs": [
    {
     "data": {
      "text/plain": [
       "['\"userid\";\"isbn\";\"rate\"',\n",
       " '\"276725\";\"034545104X\";\"0\"',\n",
       " '\"276726\";\"0155061224\";\"5\"',\n",
       " '\"276727\";\"0446520802\";\"0\"',\n",
       " '\"276729\";\"052165615X\";\"3\"',\n",
       " '\"276729\";\"0521795028\";\"6\"',\n",
       " '\"276733\";\"2080674722\";\"0\"',\n",
       " '\"276736\";\"3257224281\";\"8\"',\n",
       " '\"276737\";\"0600570967\";\"6\"',\n",
       " '\"276744\";\"038550120X\";\"7\"']"
      ]
     },
     "execution_count": 7,
     "metadata": {},
     "output_type": "execute_result"
    }
   ],
   "source": [
    "rating_rdd.take(10)"
   ]
  },
  {
   "cell_type": "code",
   "execution_count": 9,
   "metadata": {
    "id": "r0iZiDKRC_b6"
   },
   "outputs": [],
   "source": [
    "pair_userid_username_rdd = user_rdd.map(lambda line : (line.split(';')[0],line.split(';')[1]))"
   ]
  },
  {
   "cell_type": "code",
   "execution_count": 10,
   "metadata": {
    "colab": {
     "base_uri": "https://localhost:8080/"
    },
    "id": "esmktEOKER5X",
    "outputId": "33124b8e-9526-4e86-880f-ca736454168f"
   },
   "outputs": [
    {
     "data": {
      "text/plain": [
       "[('\"UserID\"', '\"USERNAME\"'),\n",
       " ('\"1\"', '\"bzsufoRTLN2\"'),\n",
       " ('\"2\"', '\"fq7kfHg4VEI\"'),\n",
       " ('\"3\"', '\"W0Hbkd3xR8v\"'),\n",
       " ('\"4\"', '\"W51GahAx5Ap\"'),\n",
       " ('\"5\"', '\"VKN3PQ18GgN\"'),\n",
       " ('\"6\"', '\"h9BSgQZ5wOk\"'),\n",
       " ('\"7\"', '\"7rdddpZpjWp\"'),\n",
       " ('\"8\"', '\"qiOJebWJS2i\"'),\n",
       " ('\"9\"', '\"gkcxQJLS13A\"')]"
      ]
     },
     "execution_count": 10,
     "metadata": {},
     "output_type": "execute_result"
    }
   ],
   "source": [
    "pair_userid_username_rdd.take(10)"
   ]
  },
  {
   "cell_type": "code",
   "execution_count": 11,
   "metadata": {
    "id": "XFTqRTPzErxe"
   },
   "outputs": [],
   "source": [
    "pair_rating_rdd = rating_rdd.map(lambda line: (line.split(';')[0], (line.split(';')[1],line.split(';')[2])  ))"
   ]
  },
  {
   "cell_type": "code",
   "execution_count": 12,
   "metadata": {
    "colab": {
     "base_uri": "https://localhost:8080/"
    },
    "id": "ZgQoEhAWF011",
    "outputId": "7cecb8b6-c975-48f5-caf9-ff967f252d0f"
   },
   "outputs": [
    {
     "data": {
      "text/plain": [
       "[('\"userid\"', ('\"isbn\"', '\"rate\"')),\n",
       " ('\"276725\"', ('\"034545104X\"', '\"0\"')),\n",
       " ('\"276726\"', ('\"0155061224\"', '\"5\"')),\n",
       " ('\"276727\"', ('\"0446520802\"', '\"0\"')),\n",
       " ('\"276729\"', ('\"052165615X\"', '\"3\"')),\n",
       " ('\"276729\"', ('\"0521795028\"', '\"6\"')),\n",
       " ('\"276733\"', ('\"2080674722\"', '\"0\"')),\n",
       " ('\"276736\"', ('\"3257224281\"', '\"8\"')),\n",
       " ('\"276737\"', ('\"0600570967\"', '\"6\"')),\n",
       " ('\"276744\"', ('\"038550120X\"', '\"7\"'))]"
      ]
     },
     "execution_count": 12,
     "metadata": {},
     "output_type": "execute_result"
    }
   ],
   "source": [
    "pair_rating_rdd.take(10)"
   ]
  },
  {
   "cell_type": "code",
   "execution_count": 13,
   "metadata": {
    "id": "Jr-ioZESF3Y4"
   },
   "outputs": [],
   "source": [
    "rating_join_user_rdd = pair_rating_rdd.join(pair_userid_username_rdd)"
   ]
  },
  {
   "cell_type": "code",
   "execution_count": 14,
   "metadata": {
    "colab": {
     "base_uri": "https://localhost:8080/"
    },
    "id": "WNXZ-BnZGLfI",
    "outputId": "c3b5a616-8a11-4baa-a839-99aad18b3d0a"
   },
   "outputs": [
    {
     "data": {
      "text/plain": [
       "[('\"276725\"', (('\"034545104X\"', '\"0\"'), '\"qP0KgArgnkK\"')),\n",
       " ('\"276727\"', (('\"0446520802\"', '\"0\"'), '\"AWJdCVnDLd8\"')),\n",
       " ('\"276729\"', (('\"052165615X\"', '\"3\"'), '\"8RRnyqqWTcr\"')),\n",
       " ('\"276729\"', (('\"0521795028\"', '\"6\"'), '\"8RRnyqqWTcr\"')),\n",
       " ('\"276736\"', (('\"3257224281\"', '\"8\"'), '\"4udWNF5VnOd\"')),\n",
       " ('\"276745\"', (('\"342310538\"', '\"10\"'), '\"jLRV9LYfEUZ\"')),\n",
       " ('\"276747\"', (('\"0060517794\"', '\"9\"'), '\"Eg2O6NDkj3d\"')),\n",
       " ('\"276747\"', (('\"0451192001\"', '\"0\"'), '\"Eg2O6NDkj3d\"')),\n",
       " ('\"276747\"', (('\"0609801279\"', '\"0\"'), '\"Eg2O6NDkj3d\"')),\n",
       " ('\"276747\"', (('\"0679776818\"', '\"8\"'), '\"Eg2O6NDkj3d\"')),\n",
       " ('\"276747\"', (('\"0943066433\"', '\"7\"'), '\"Eg2O6NDkj3d\"')),\n",
       " ('\"276747\"', (('\"1570231028\"', '\"0\"'), '\"Eg2O6NDkj3d\"')),\n",
       " ('\"276747\"', (('\"1885408226\"', '\"7\"'), '\"Eg2O6NDkj3d\"')),\n",
       " ('\"276760\"', (('\"8440682697\"', '\"10\"'), '\"YKVXRUY4BGq\"')),\n",
       " ('\"276765\"', (('\"9029716894\"', '\"0\"'), '\"vtdQ8QFIzc3\"')),\n",
       " ('\"276768\"', (('\"9057868059\"', '\"4\"'), '\"edvecgDI6w2\"')),\n",
       " ('\"276780\"', (('\"8434811634\"', '\"0\"'), '\"AePJ72knzAo\"')),\n",
       " ('\"276780\"', (('\"8484330478\"', '\"7\"'), '\"AePJ72knzAo\"')),\n",
       " ('\"276780\"', (('\"8484332039\"', '\"7\"'), '\"AePJ72knzAo\"')),\n",
       " ('\"276786\"', (('\"2864322102\"', '\"6\"'), '\"GUbovT8mlFh\"'))]"
      ]
     },
     "execution_count": 14,
     "metadata": {},
     "output_type": "execute_result"
    }
   ],
   "source": [
    "rating_join_user_rdd.take(20)"
   ]
  }
 ],
 "metadata": {
  "colab": {
   "collapsed_sections": [],
   "name": "DS8_Spark_Core_Join_Example.ipynb",
   "provenance": []
  },
  "kernelspec": {
   "display_name": "Python 3 (ipykernel)",
   "language": "python",
   "name": "python3"
  },
  "language_info": {
   "codemirror_mode": {
    "name": "ipython",
    "version": 3
   },
   "file_extension": ".py",
   "mimetype": "text/x-python",
   "name": "python",
   "nbconvert_exporter": "python",
   "pygments_lexer": "ipython3",
   "version": "3.10.11"
  }
 },
 "nbformat": 4,
 "nbformat_minor": 1
}
