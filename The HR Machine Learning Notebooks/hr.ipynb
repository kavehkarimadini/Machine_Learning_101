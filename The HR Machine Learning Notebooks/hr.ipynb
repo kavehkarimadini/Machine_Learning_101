{
 "cells": [
  {
   "cell_type": "code",
   "execution_count": 2,
   "metadata": {},
   "outputs": [
    {
     "data": {
      "text/html": [
       "<div>\n",
       "<style scoped>\n",
       "    .dataframe tbody tr th:only-of-type {\n",
       "        vertical-align: middle;\n",
       "    }\n",
       "\n",
       "    .dataframe tbody tr th {\n",
       "        vertical-align: top;\n",
       "    }\n",
       "\n",
       "    .dataframe thead th {\n",
       "        text-align: right;\n",
       "    }\n",
       "</style>\n",
       "<table border=\"1\" class=\"dataframe\">\n",
       "  <thead>\n",
       "    <tr style=\"text-align: right;\">\n",
       "      <th></th>\n",
       "      <th>satisfaction_level</th>\n",
       "      <th>last_evaluation</th>\n",
       "      <th>number_project</th>\n",
       "      <th>average_montly_hours</th>\n",
       "      <th>time_spend_company</th>\n",
       "      <th>Work_accident</th>\n",
       "      <th>left</th>\n",
       "      <th>promotion_last_5years</th>\n",
       "      <th>department</th>\n",
       "      <th>salary</th>\n",
       "    </tr>\n",
       "  </thead>\n",
       "  <tbody>\n",
       "    <tr>\n",
       "      <th>0</th>\n",
       "      <td>0.38</td>\n",
       "      <td>0.53</td>\n",
       "      <td>2</td>\n",
       "      <td>157</td>\n",
       "      <td>3</td>\n",
       "      <td>0</td>\n",
       "      <td>1</td>\n",
       "      <td>0</td>\n",
       "      <td>sales</td>\n",
       "      <td>low</td>\n",
       "    </tr>\n",
       "    <tr>\n",
       "      <th>1</th>\n",
       "      <td>0.80</td>\n",
       "      <td>0.86</td>\n",
       "      <td>5</td>\n",
       "      <td>262</td>\n",
       "      <td>6</td>\n",
       "      <td>0</td>\n",
       "      <td>1</td>\n",
       "      <td>0</td>\n",
       "      <td>sales</td>\n",
       "      <td>medium</td>\n",
       "    </tr>\n",
       "    <tr>\n",
       "      <th>2</th>\n",
       "      <td>0.11</td>\n",
       "      <td>0.88</td>\n",
       "      <td>7</td>\n",
       "      <td>272</td>\n",
       "      <td>4</td>\n",
       "      <td>0</td>\n",
       "      <td>1</td>\n",
       "      <td>0</td>\n",
       "      <td>sales</td>\n",
       "      <td>medium</td>\n",
       "    </tr>\n",
       "    <tr>\n",
       "      <th>3</th>\n",
       "      <td>0.72</td>\n",
       "      <td>0.87</td>\n",
       "      <td>5</td>\n",
       "      <td>223</td>\n",
       "      <td>5</td>\n",
       "      <td>0</td>\n",
       "      <td>1</td>\n",
       "      <td>0</td>\n",
       "      <td>sales</td>\n",
       "      <td>low</td>\n",
       "    </tr>\n",
       "    <tr>\n",
       "      <th>4</th>\n",
       "      <td>0.37</td>\n",
       "      <td>0.52</td>\n",
       "      <td>2</td>\n",
       "      <td>159</td>\n",
       "      <td>3</td>\n",
       "      <td>0</td>\n",
       "      <td>1</td>\n",
       "      <td>0</td>\n",
       "      <td>sales</td>\n",
       "      <td>low</td>\n",
       "    </tr>\n",
       "  </tbody>\n",
       "</table>\n",
       "</div>"
      ],
      "text/plain": [
       "   satisfaction_level  last_evaluation  number_project  average_montly_hours  \\\n",
       "0                0.38             0.53               2                   157   \n",
       "1                0.80             0.86               5                   262   \n",
       "2                0.11             0.88               7                   272   \n",
       "3                0.72             0.87               5                   223   \n",
       "4                0.37             0.52               2                   159   \n",
       "\n",
       "   time_spend_company  Work_accident  left  promotion_last_5years department  \\\n",
       "0                   3              0     1                      0      sales   \n",
       "1                   6              0     1                      0      sales   \n",
       "2                   4              0     1                      0      sales   \n",
       "3                   5              0     1                      0      sales   \n",
       "4                   3              0     1                      0      sales   \n",
       "\n",
       "   salary  \n",
       "0     low  \n",
       "1  medium  \n",
       "2  medium  \n",
       "3     low  \n",
       "4     low  "
      ]
     },
     "execution_count": 2,
     "metadata": {},
     "output_type": "execute_result"
    }
   ],
   "source": [
    "import numpy as np\n",
    "import pandas as pd\n",
    "import matplotlib.pyplot as plt\n",
    "import seaborn as sns\n",
    "\n",
    "Data = pd.read_csv(\"HR.csv\")\n",
    "\n",
    "\n",
    "Data.head()"
   ]
  },
  {
   "cell_type": "code",
   "execution_count": 3,
   "metadata": {},
   "outputs": [],
   "source": [
    "from sklearn.preprocessing import LabelEncoder # For change categorical variable into int\n",
    "\n",
    "from sklearn.metrics import accuracy_score \n",
    "\n",
    "le=LabelEncoder()\n",
    "\n",
    "Data['salary']=le.fit_transform(Data['salary'])\n",
    "#df['gender'] = df['gender'].map({'Male': 0,'Female': 1})\n",
    "Data['department']=le.fit_transform(Data['department']) #not Customary decison"
   ]
  },
  {
   "cell_type": "code",
   "execution_count": 4,
   "metadata": {},
   "outputs": [
    {
     "name": "stderr",
     "output_type": "stream",
     "text": [
      "<ipython-input-4-092f84b5bb84>:6: DataConversionWarning: A column-vector y was passed when a 1d array was expected. Please change the shape of y to (n_samples,), for example using ravel().\n",
      "  model.fit(feature_var,pred_var)\n"
     ]
    },
    {
     "data": {
      "text/plain": [
       "RandomForestClassifier()"
      ]
     },
     "execution_count": 4,
     "metadata": {},
     "output_type": "execute_result"
    }
   ],
   "source": [
    "from sklearn.ensemble import RandomForestClassifier\n",
    "feature_var = Data.loc[:,Data.columns != \"left\"]\n",
    "pred_var = Data.loc[:,Data.columns=='left']\n",
    "model= RandomForestClassifier(n_estimators=100)\n",
    "\n",
    "model.fit(feature_var,pred_var)"
   ]
  },
  {
   "cell_type": "code",
   "execution_count": 5,
   "metadata": {},
   "outputs": [
    {
     "name": "stdout",
     "output_type": "stream",
     "text": [
      "satisfaction_level       0.330400\n",
      "number_project           0.186254\n",
      "time_spend_company       0.185712\n",
      "average_montly_hours     0.150969\n",
      "last_evaluation          0.118756\n",
      "department               0.012278\n",
      "salary                   0.008373\n",
      "Work_accident            0.006432\n",
      "promotion_last_5years    0.000827\n",
      "dtype: float64\n"
     ]
    }
   ],
   "source": [
    "featimp = pd.Series(model.feature_importances_,index=feature_var.columns).sort_values(ascending=False)\n",
    "\n",
    "print(featimp)"
   ]
  },
  {
   "cell_type": "code",
   "execution_count": 6,
   "metadata": {},
   "outputs": [],
   "source": [
    "from sklearn.linear_model import LogisticRegression\n",
    "from sklearn.model_selection import train_test_split\n",
    "from sklearn.model_selection import KFold\n",
    "from sklearn.ensemble import RandomForestClassifier\n",
    "from sklearn.neighbors import KNeighborsClassifier as knn\n",
    "from sklearn.naive_bayes import GaussianNB as GB\n",
    "from sklearn.svm import SVC"
   ]
  },
  {
   "cell_type": "code",
   "execution_count": 7,
   "metadata": {},
   "outputs": [],
   "source": [
    "def Classification_model(model,Data,x,y):\n",
    "    \n",
    "    # here x is the variable which are used for prediction\n",
    "    # y is the prediction variable\n",
    "    \n",
    "    train,test = train_test_split(Data,test_size= 0.33)\n",
    "    \n",
    "    train_x = Data.loc[train.index,x]   # Data for training only with features\n",
    "    train_y = Data.loc[train.index,y]   # Data for training only with predcition variable\n",
    "    \n",
    "    test_x = Data.loc[test.index,x]     # same as for training \n",
    "    test_y = Data.loc[test.index,y]\n",
    "    \n",
    "    model.fit(train_x,train_y)\n",
    "    \n",
    "    pred=model.predict(test_x)\n",
    "    \n",
    "    accuracy=accuracy_score(test_y,pred)\n",
    "    \n",
    "    return accuracy\n",
    "#ctrl + [ -->for indenting"
   ]
  },
  {
   "cell_type": "code",
   "execution_count": 9,
   "metadata": {},
   "outputs": [
    {
     "data": {
      "text/plain": [
       "Index(['satisfaction_level', 'last_evaluation', 'number_project',\n",
       "       'average_montly_hours', 'time_spend_company', 'Work_accident', 'left',\n",
       "       'promotion_last_5years', 'department', 'salary'],\n",
       "      dtype='object')"
      ]
     },
     "execution_count": 9,
     "metadata": {},
     "output_type": "execute_result"
    }
   ],
   "source": [
    "Data.columns"
   ]
  },
  {
   "cell_type": "code",
   "execution_count": 10,
   "metadata": {},
   "outputs": [],
   "source": [
    "Important_features = ['satisfaction_level','number_project','time_spend_company',\n",
    "                      'average_montly_hours','last_evaluation']\n",
    "\n",
    "All_features=['satisfaction_level','number_project','time_spend_company',\n",
    "              'average_montly_hours','last_evaluation','department',\n",
    "              'salary','Work_accident','promotion_last_5years']\n",
    "Pred_var = [\"left\"]"
   ]
  },
  {
   "cell_type": "code",
   "execution_count": 11,
   "metadata": {},
   "outputs": [
    {
     "name": "stderr",
     "output_type": "stream",
     "text": [
      "<ipython-input-7-50966be31297>:14: DataConversionWarning: A column-vector y was passed when a 1d array was expected. Please change the shape of y to (n_samples,), for example using ravel().\n",
      "  model.fit(train_x,train_y)\n",
      "C:\\Users\\kaveh karimadini\\.conda\\envs\\100days\\lib\\site-packages\\sklearn\\utils\\validation.py:72: DataConversionWarning: A column-vector y was passed when a 1d array was expected. Please change the shape of y to (n_samples, ), for example using ravel().\n",
      "  return f(**kwargs)\n",
      "<ipython-input-7-50966be31297>:14: DataConversionWarning: A column-vector y was passed when a 1d array was expected. Please change the shape of y to (n_samples, ), for example using ravel().\n",
      "  model.fit(train_x,train_y)\n",
      "C:\\Users\\kaveh karimadini\\.conda\\envs\\100days\\lib\\site-packages\\sklearn\\utils\\validation.py:72: DataConversionWarning: A column-vector y was passed when a 1d array was expected. Please change the shape of y to (n_samples, ), for example using ravel().\n",
      "  return f(**kwargs)\n",
      "C:\\Users\\kaveh karimadini\\.conda\\envs\\100days\\lib\\site-packages\\sklearn\\linear_model\\_logistic.py:762: ConvergenceWarning: lbfgs failed to converge (status=1):\n",
      "STOP: TOTAL NO. of ITERATIONS REACHED LIMIT.\n",
      "\n",
      "Increase the number of iterations (max_iter) or scale the data as shown in:\n",
      "    https://scikit-learn.org/stable/modules/preprocessing.html\n",
      "Please also refer to the documentation for alternative solver options:\n",
      "    https://scikit-learn.org/stable/modules/linear_model.html#logistic-regression\n",
      "  n_iter_i = _check_optimize_result(\n",
      "C:\\Users\\kaveh karimadini\\.conda\\envs\\100days\\lib\\site-packages\\sklearn\\utils\\validation.py:72: DataConversionWarning: A column-vector y was passed when a 1d array was expected. Please change the shape of y to (n_samples, ), for example using ravel().\n",
      "  return f(**kwargs)\n"
     ]
    }
   ],
   "source": [
    "# Lets us make a list of models\n",
    "\n",
    "models=[\"RandomForestClassifier\",\"Gaussian Naive Bays\",\"KNN\",\"Logistic_Regression\",\"Support_Vector\"]\n",
    "\n",
    "Classification_models = [RandomForestClassifier(n_estimators=100),GB(),knn(n_neighbors=7),LogisticRegression(),SVC()]\n",
    "\n",
    "Model_Accuracy = []\n",
    "\n",
    "for model in Classification_models:\n",
    "    Accuracy=Classification_model(model,Data,All_features,Pred_var)\n",
    "    Model_Accuracy.append(Accuracy)"
   ]
  },
  {
   "cell_type": "code",
   "execution_count": 12,
   "metadata": {},
   "outputs": [],
   "source": [
    "Accuracy_with_all_features = pd.DataFrame(\n",
    "    { \"Classification Model\" :models,\n",
    "     \"Accuracy with all features\":Model_Accuracy\n",
    "     \n",
    "    })"
   ]
  },
  {
   "cell_type": "code",
   "execution_count": 13,
   "metadata": {},
   "outputs": [
    {
     "data": {
      "text/html": [
       "<div>\n",
       "<style scoped>\n",
       "    .dataframe tbody tr th:only-of-type {\n",
       "        vertical-align: middle;\n",
       "    }\n",
       "\n",
       "    .dataframe tbody tr th {\n",
       "        vertical-align: top;\n",
       "    }\n",
       "\n",
       "    .dataframe thead th {\n",
       "        text-align: right;\n",
       "    }\n",
       "</style>\n",
       "<table border=\"1\" class=\"dataframe\">\n",
       "  <thead>\n",
       "    <tr style=\"text-align: right;\">\n",
       "      <th></th>\n",
       "      <th>Classification Model</th>\n",
       "      <th>Accuracy with all features</th>\n",
       "    </tr>\n",
       "  </thead>\n",
       "  <tbody>\n",
       "    <tr>\n",
       "      <th>0</th>\n",
       "      <td>RandomForestClassifier</td>\n",
       "      <td>0.990909</td>\n",
       "    </tr>\n",
       "    <tr>\n",
       "      <th>1</th>\n",
       "      <td>KNN</td>\n",
       "      <td>0.932525</td>\n",
       "    </tr>\n",
       "    <tr>\n",
       "      <th>2</th>\n",
       "      <td>Gaussian Naive Bays</td>\n",
       "      <td>0.803838</td>\n",
       "    </tr>\n",
       "    <tr>\n",
       "      <th>3</th>\n",
       "      <td>Logistic_Regression</td>\n",
       "      <td>0.775960</td>\n",
       "    </tr>\n",
       "    <tr>\n",
       "      <th>4</th>\n",
       "      <td>Support_Vector</td>\n",
       "      <td>0.774949</td>\n",
       "    </tr>\n",
       "  </tbody>\n",
       "</table>\n",
       "</div>"
      ],
      "text/plain": [
       "     Classification Model  Accuracy with all features\n",
       "0  RandomForestClassifier                    0.990909\n",
       "1                     KNN                    0.932525\n",
       "2     Gaussian Naive Bays                    0.803838\n",
       "3     Logistic_Regression                    0.775960\n",
       "4          Support_Vector                    0.774949"
      ]
     },
     "execution_count": 13,
     "metadata": {},
     "output_type": "execute_result"
    }
   ],
   "source": [
    "Accuracy_with_all_features.sort_values(by=\"Accuracy with all features\",ascending=False).reset_index(drop=True)"
   ]
  },
  {
   "cell_type": "code",
   "execution_count": 14,
   "metadata": {},
   "outputs": [
    {
     "name": "stderr",
     "output_type": "stream",
     "text": [
      "<ipython-input-7-50966be31297>:14: DataConversionWarning: A column-vector y was passed when a 1d array was expected. Please change the shape of y to (n_samples,), for example using ravel().\n",
      "  model.fit(train_x,train_y)\n",
      "C:\\Users\\kaveh karimadini\\.conda\\envs\\100days\\lib\\site-packages\\sklearn\\utils\\validation.py:72: DataConversionWarning: A column-vector y was passed when a 1d array was expected. Please change the shape of y to (n_samples, ), for example using ravel().\n",
      "  return f(**kwargs)\n",
      "<ipython-input-7-50966be31297>:14: DataConversionWarning: A column-vector y was passed when a 1d array was expected. Please change the shape of y to (n_samples, ), for example using ravel().\n",
      "  model.fit(train_x,train_y)\n",
      "C:\\Users\\kaveh karimadini\\.conda\\envs\\100days\\lib\\site-packages\\sklearn\\utils\\validation.py:72: DataConversionWarning: A column-vector y was passed when a 1d array was expected. Please change the shape of y to (n_samples, ), for example using ravel().\n",
      "  return f(**kwargs)\n",
      "C:\\Users\\kaveh karimadini\\.conda\\envs\\100days\\lib\\site-packages\\sklearn\\utils\\validation.py:72: DataConversionWarning: A column-vector y was passed when a 1d array was expected. Please change the shape of y to (n_samples, ), for example using ravel().\n",
      "  return f(**kwargs)\n"
     ]
    }
   ],
   "source": [
    "# Lets try with Important features\n",
    "\n",
    "Model_Accuracy = []\n",
    "\n",
    "for model in Classification_models:\n",
    "    Accuracy=Classification_model(model,Data,Important_features,Pred_var) # Just instead of all features give only important features\n",
    "    Model_Accuracy.append(Accuracy)"
   ]
  },
  {
   "cell_type": "code",
   "execution_count": 15,
   "metadata": {},
   "outputs": [
    {
     "data": {
      "text/html": [
       "<div>\n",
       "<style scoped>\n",
       "    .dataframe tbody tr th:only-of-type {\n",
       "        vertical-align: middle;\n",
       "    }\n",
       "\n",
       "    .dataframe tbody tr th {\n",
       "        vertical-align: top;\n",
       "    }\n",
       "\n",
       "    .dataframe thead th {\n",
       "        text-align: right;\n",
       "    }\n",
       "</style>\n",
       "<table border=\"1\" class=\"dataframe\">\n",
       "  <thead>\n",
       "    <tr style=\"text-align: right;\">\n",
       "      <th></th>\n",
       "      <th>Classification Model</th>\n",
       "      <th>Accuracy with Important features</th>\n",
       "    </tr>\n",
       "  </thead>\n",
       "  <tbody>\n",
       "    <tr>\n",
       "      <th>0</th>\n",
       "      <td>RandomForestClassifier</td>\n",
       "      <td>0.990909</td>\n",
       "    </tr>\n",
       "    <tr>\n",
       "      <th>1</th>\n",
       "      <td>KNN</td>\n",
       "      <td>0.945455</td>\n",
       "    </tr>\n",
       "    <tr>\n",
       "      <th>2</th>\n",
       "      <td>Gaussian Naive Bays</td>\n",
       "      <td>0.796364</td>\n",
       "    </tr>\n",
       "    <tr>\n",
       "      <th>3</th>\n",
       "      <td>Support_Vector</td>\n",
       "      <td>0.779394</td>\n",
       "    </tr>\n",
       "    <tr>\n",
       "      <th>4</th>\n",
       "      <td>Logistic_Regression</td>\n",
       "      <td>0.768889</td>\n",
       "    </tr>\n",
       "  </tbody>\n",
       "</table>\n",
       "</div>"
      ],
      "text/plain": [
       "     Classification Model  Accuracy with Important features\n",
       "0  RandomForestClassifier                          0.990909\n",
       "1                     KNN                          0.945455\n",
       "2     Gaussian Naive Bays                          0.796364\n",
       "3          Support_Vector                          0.779394\n",
       "4     Logistic_Regression                          0.768889"
      ]
     },
     "execution_count": 15,
     "metadata": {},
     "output_type": "execute_result"
    }
   ],
   "source": [
    "Accuracy_with_important_features = pd.DataFrame(\n",
    "    { \"Classification Model\" :models,\n",
    "     \"Accuracy with Important features\":Model_Accuracy\n",
    "     \n",
    "    })\n",
    "Accuracy_with_important_features.sort_values(by=\"Accuracy with Important features\",ascending=False).reset_index(drop=True)"
   ]
  },
  {
   "cell_type": "code",
   "execution_count": 16,
   "metadata": {},
   "outputs": [],
   "source": [
    "from sklearn.model_selection import cross_val_score # This is used for to caculate the score of cross validation by using Kfold\n",
    "\n",
    "def Classification_model_CV(model,Data,x,y):\n",
    "    \n",
    "    # here x is the variable which are used for prediction\n",
    "    # y is the prediction variable\n",
    "    \n",
    "    data_x = Data.loc[:,x]\n",
    "    # Here no need of training and test data because in cross validation it splits data into \n",
    "    # train and test itself # data_x repersent features\n",
    "    \n",
    "    data_y = Data.loc[:,y] # data for predication\n",
    "\n",
    "    \n",
    "    scores= cross_val_score(model,data_x,data_y,scoring=\"accuracy\",cv=10)\n",
    "    \n",
    "    print(scores) # print the scores\n",
    "    \n",
    "    print('')\n",
    "    \n",
    "    accuracy=scores.mean()\n",
    "    return accuracy"
   ]
  },
  {
   "cell_type": "code",
   "execution_count": 18,
   "metadata": {},
   "outputs": [],
   "source": [
    "import warnings\n",
    "warnings.filterwarnings(\"ignore\")"
   ]
  },
  {
   "cell_type": "code",
   "execution_count": 19,
   "metadata": {},
   "outputs": [
    {
     "name": "stdout",
     "output_type": "stream",
     "text": [
      "RandomForestClassifier\n",
      "\n",
      "[0.99866667 0.998      0.98266667 0.97933333 0.97866667 0.994\n",
      " 0.99866667 0.99866667 0.99933333 1.        ]\n",
      "\n",
      "Gaussian Naive Bays\n",
      "\n",
      "[0.814      0.79       0.82666667 0.81       0.806      0.80266667\n",
      " 0.80733333 0.78866667 0.80133333 0.7838559 ]\n",
      "\n",
      "KNN\n",
      "\n",
      "[0.956      0.94933333 0.95466667 0.95       0.95133333 0.95\n",
      " 0.96       0.95066667 0.96266667 0.95997332]\n",
      "\n",
      "Logistic_Regression\n",
      "\n",
      "[0.77733333 0.76933333 0.77866667 0.77866667 0.78666667 0.77866667\n",
      " 0.776      0.76066667 0.71       0.6897932 ]\n",
      "\n",
      "Support_Vector\n",
      "\n",
      "[0.788      0.78133333 0.79066667 0.786      0.77933333 0.78333333\n",
      " 0.78533333 0.78533333 0.78666667 0.78052035]\n",
      "\n"
     ]
    }
   ],
   "source": [
    "models=[\"RandomForestClassifier\",\"Gaussian Naive Bays\",\"KNN\",\"Logistic_Regression\",\"Support_Vector\"]\n",
    "\n",
    "Classification_models = [RandomForestClassifier(n_estimators=100),GB(),knn(n_neighbors=7),LogisticRegression(),SVC()]\n",
    "\n",
    "Model_Accuracy = []\n",
    "\n",
    "\n",
    "for model,z in zip(Classification_models,models):\n",
    "    \n",
    "    print(z) # Print the name of model\n",
    "    print('')\n",
    "    \n",
    "    Accuracy=Classification_model_CV(model,Data,Important_features,Pred_var)\n",
    "    \n",
    "    Model_Accuracy.append(Accuracy)"
   ]
  },
  {
   "cell_type": "code",
   "execution_count": 20,
   "metadata": {},
   "outputs": [
    {
     "data": {
      "text/html": [
       "<div>\n",
       "<style scoped>\n",
       "    .dataframe tbody tr th:only-of-type {\n",
       "        vertical-align: middle;\n",
       "    }\n",
       "\n",
       "    .dataframe tbody tr th {\n",
       "        vertical-align: top;\n",
       "    }\n",
       "\n",
       "    .dataframe thead th {\n",
       "        text-align: right;\n",
       "    }\n",
       "</style>\n",
       "<table border=\"1\" class=\"dataframe\">\n",
       "  <thead>\n",
       "    <tr style=\"text-align: right;\">\n",
       "      <th></th>\n",
       "      <th>Classification Model</th>\n",
       "      <th>Accuracy with CV</th>\n",
       "    </tr>\n",
       "  </thead>\n",
       "  <tbody>\n",
       "    <tr>\n",
       "      <th>0</th>\n",
       "      <td>RandomForestClassifier</td>\n",
       "      <td>0.992800</td>\n",
       "    </tr>\n",
       "    <tr>\n",
       "      <th>1</th>\n",
       "      <td>KNN</td>\n",
       "      <td>0.954464</td>\n",
       "    </tr>\n",
       "    <tr>\n",
       "      <th>2</th>\n",
       "      <td>Gaussian Naive Bays</td>\n",
       "      <td>0.803052</td>\n",
       "    </tr>\n",
       "    <tr>\n",
       "      <th>3</th>\n",
       "      <td>Support_Vector</td>\n",
       "      <td>0.784652</td>\n",
       "    </tr>\n",
       "    <tr>\n",
       "      <th>4</th>\n",
       "      <td>Logistic_Regression</td>\n",
       "      <td>0.760579</td>\n",
       "    </tr>\n",
       "  </tbody>\n",
       "</table>\n",
       "</div>"
      ],
      "text/plain": [
       "     Classification Model  Accuracy with CV\n",
       "0  RandomForestClassifier          0.992800\n",
       "1                     KNN          0.954464\n",
       "2     Gaussian Naive Bays          0.803052\n",
       "3          Support_Vector          0.784652\n",
       "4     Logistic_Regression          0.760579"
      ]
     },
     "execution_count": 20,
     "metadata": {},
     "output_type": "execute_result"
    }
   ],
   "source": [
    "Accuracy_with_CV = pd.DataFrame(\n",
    "    { \"Classification Model\" :models,\n",
    "     \"Accuracy with CV\":Model_Accuracy\n",
    "     \n",
    "    })\n",
    "Accuracy_with_CV.sort_values(by=\"Accuracy with CV\",ascending=False).reset_index(drop=True)"
   ]
  },
  {
   "cell_type": "code",
   "execution_count": 21,
   "metadata": {},
   "outputs": [],
   "source": [
    "from sklearn.model_selection import GridSearchCV \n",
    "def Classification_model_GridSearchCV(model,Data,x,y,params):\n",
    "    \n",
    "    # here params repersent Parameters\n",
    "    data_x = Data.loc[:,x]  \n",
    "    data_y = Data.loc[:,y] \n",
    "    clf = GridSearchCV(model,params,scoring=\"accuracy\",cv=5)\n",
    "    \n",
    "    clf.fit(data_x,data_y)\n",
    "    \n",
    "    print(\"best score is :\")\n",
    "    print(clf.best_score_)\n",
    "    print('')\n",
    "    print(\"best estimator is :\")\n",
    "    print(clf.best_estimator_)\n",
    "\n",
    "    return (clf.best_score_)"
   ]
  },
  {
   "cell_type": "code",
   "execution_count": 22,
   "metadata": {},
   "outputs": [
    {
     "name": "stdout",
     "output_type": "stream",
     "text": [
      "best score is :\n",
      "0.9917996220962543\n",
      "\n",
      "best estimator is :\n",
      "RandomForestClassifier(max_depth=30, n_estimators=70)\n"
     ]
    }
   ],
   "source": [
    "models=[\"RandomForestClassifier\",\"Gaussian Naive Bays\",\"KNN\",\"Logistic_Regression\",\"Support_Vector\"]\n",
    "\n",
    "Model_Accuracy=[]\n",
    "\n",
    "model = RandomForestClassifier()\n",
    "\n",
    "param_grid = {'n_estimators':(70,80,90,100),'criterion':('gini','entropy'),'max_depth':[25,30]}\n",
    "\n",
    "Accuracy=Classification_model_GridSearchCV(model,Data,Important_features,Pred_var,param_grid)\n",
    "\n",
    "Model_Accuracy.append(Accuracy)"
   ]
  },
  {
   "cell_type": "code",
   "execution_count": 23,
   "metadata": {},
   "outputs": [
    {
     "name": "stdout",
     "output_type": "stream",
     "text": [
      "best score is :\n",
      "0.975999510948094\n",
      "\n",
      "best estimator is :\n",
      "SVC(C=20, gamma=10)\n"
     ]
    }
   ],
   "source": [
    "model=SVC()\n",
    "param_grid={'C': [1,10,20,100],'gamma':[0.1,1,10]} \n",
    "Accuracy=Classification_model_GridSearchCV(model,Data,Important_features,Pred_var,param_grid)\n",
    "Model_Accuracy.append(Accuracy)"
   ]
  },
  {
   "cell_type": "code",
   "execution_count": null,
   "metadata": {},
   "outputs": [],
   "source": [
    "model=knn()\n",
    "param_grid={'n_neighbors':[5,15],'weights':('uniform','distance'),'p':[1,5]}\n",
    "Accuracy=Classification_model_GridSearchCV(model,Data,Important_features,Pred_var,param_grid)\n",
    "Model_Accuracy.append(Accuracy)\n",
    "\n",
    "model = GB()\n",
    "param_grid={}\n",
    "Accuracy=Classification_model_GridSearchCV(model,Data,Important_features,Pred_var,param_grid)\n",
    "Model_Accuracy.append(Accuracy)"
   ]
  },
  {
   "cell_type": "code",
   "execution_count": null,
   "metadata": {},
   "outputs": [],
   "source": [
    "model=LogisticRegression()\n",
    "param_grid={'C': [0.01,0.1,1,10],'penalty':('l1','l2')}\n",
    "Accuracy=Classification_model_GridSearchCV(model,Data,Important_features,Pred_var,param_grid)\n",
    "Model_Accuracy.append(Accuracy)"
   ]
  }
 ],
 "metadata": {
  "kernelspec": {
   "display_name": "Python 3 (ipykernel)",
   "language": "python",
   "name": "python3"
  },
  "language_info": {
   "codemirror_mode": {
    "name": "ipython",
    "version": 3
   },
   "file_extension": ".py",
   "mimetype": "text/x-python",
   "name": "python",
   "nbconvert_exporter": "python",
   "pygments_lexer": "ipython3",
   "version": "3.10.11"
  }
 },
 "nbformat": 4,
 "nbformat_minor": 4
}
