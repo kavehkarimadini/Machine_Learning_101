{
 "cells": [
  {
   "cell_type": "code",
   "execution_count": 44,
   "metadata": {},
   "outputs": [],
   "source": [
    "import numpy as np\n",
    "import pandas as pd"
   ]
  },
  {
   "cell_type": "code",
   "execution_count": 99,
   "metadata": {},
   "outputs": [],
   "source": [
    "def hamming_score(arr1,arr2):\n",
    "    total=np.vstack((arr1,arr2))\n",
    "    df= pd.DataFrame(total)\n",
    "    df_1=df.dropna(1)\n",
    "    total_f=df_1.to_numpy()\n",
    "    NP = total_f[0,:]\n",
    "    NE = total_f[1,:]\n",
    "    sub_PE = np.subtract(NP,NE)\n",
    "    absol_PE = np.absolute(sub_PE)\n",
    "    numinator = np.sum(absol_PE)\n",
    "    dinominator = len(NP)\n",
    "    return numinator/dinominator"
   ]
  },
  {
   "cell_type": "code",
   "execution_count": 90,
   "metadata": {},
   "outputs": [],
   "source": [
    "def cosine_score(arr1,arr2):\n",
    "    total=np.vstack((arr1,arr2))\n",
    "    df= pd.DataFrame(total)\n",
    "    df_1=df.dropna(1)\n",
    "    total_f=df_1.to_numpy()\n",
    "    NP = total_f[0,:]\n",
    "    NE = total_f[1,:]\n",
    "    trans_E = np.transpose(NE)\n",
    "    trans_P = np.transpose(NP)\n",
    "    numirator = np.dot(trans_E,NP)\n",
    "    dotE = np.dot(trans_E,NE)\n",
    "    dotP = np.dot(trans_P,NP)\n",
    "    sqE = np.sqrt(dotE)\n",
    "    sqP = np.sqrt(dotP)\n",
    "    denominator = np.multiply(sqE,sqP)\n",
    "    final = np.divide(numirator,denominator)\n",
    "    return final"
   ]
  },
  {
   "cell_type": "code",
   "execution_count": 66,
   "metadata": {},
   "outputs": [],
   "source": [
    "row1 = np.array([4,2,5,np.NaN ,2,3,4,5,np.NaN ,np.NaN ])"
   ]
  },
  {
   "cell_type": "code",
   "execution_count": 67,
   "metadata": {},
   "outputs": [
    {
     "data": {
      "text/plain": [
       "array([ 4.,  2.,  5., nan,  2.,  3.,  4.,  5., nan, nan])"
      ]
     },
     "execution_count": 67,
     "metadata": {},
     "output_type": "execute_result"
    }
   ],
   "source": [
    "row1"
   ]
  },
  {
   "cell_type": "code",
   "execution_count": 68,
   "metadata": {},
   "outputs": [],
   "source": [
    "row2 = np.array([3,np.NaN,4,2 ,np.NaN,np.NaN,np.NaN,np.NaN,np.NaN ,np.NaN ])"
   ]
  },
  {
   "cell_type": "code",
   "execution_count": 69,
   "metadata": {},
   "outputs": [],
   "source": [
    "cos_r1_r2 = cosine_score(row1,row2)"
   ]
  },
  {
   "cell_type": "code",
   "execution_count": 70,
   "metadata": {},
   "outputs": [
    {
     "data": {
      "text/plain": [
       "0.9995120760870788"
      ]
     },
     "execution_count": 70,
     "metadata": {},
     "output_type": "execute_result"
    }
   ],
   "source": [
    "cos_r1_r2"
   ]
  },
  {
   "cell_type": "code",
   "execution_count": 100,
   "metadata": {},
   "outputs": [],
   "source": [
    "ham_r1_r2 = hamming_score(row1,row2)"
   ]
  },
  {
   "cell_type": "code",
   "execution_count": 101,
   "metadata": {},
   "outputs": [
    {
     "data": {
      "text/plain": [
       "1.0"
      ]
     },
     "execution_count": 101,
     "metadata": {},
     "output_type": "execute_result"
    }
   ],
   "source": [
    "ham_r1_r2"
   ]
  },
  {
   "cell_type": "code",
   "execution_count": 81,
   "metadata": {},
   "outputs": [],
   "source": [
    "row3 = np.array([3,np.NaN,4,5 ,2,3,4,5,5,5])"
   ]
  },
  {
   "cell_type": "code",
   "execution_count": 82,
   "metadata": {},
   "outputs": [],
   "source": [
    "cos_r1_r3= cosine_score(row1,row3)"
   ]
  },
  {
   "cell_type": "code",
   "execution_count": 83,
   "metadata": {},
   "outputs": [
    {
     "data": {
      "text/plain": [
       "0.9927116142670034"
      ]
     },
     "execution_count": 83,
     "metadata": {},
     "output_type": "execute_result"
    }
   ],
   "source": [
    "cos_r1_r3"
   ]
  },
  {
   "cell_type": "code",
   "execution_count": 84,
   "metadata": {},
   "outputs": [],
   "source": [
    "cos_r2_r3 = cosine_score(row2,row3)"
   ]
  },
  {
   "cell_type": "code",
   "execution_count": 85,
   "metadata": {},
   "outputs": [
    {
     "data": {
      "text/plain": [
       "0.9191450300180578"
      ]
     },
     "execution_count": 85,
     "metadata": {},
     "output_type": "execute_result"
    }
   ],
   "source": [
    "cos_r2_r3"
   ]
  },
  {
   "cell_type": "code",
   "execution_count": 86,
   "metadata": {},
   "outputs": [],
   "source": [
    "ham_r1_r3 = hamming_score(row1,row2)"
   ]
  },
  {
   "cell_type": "code",
   "execution_count": 87,
   "metadata": {},
   "outputs": [
    {
     "data": {
      "text/plain": [
       "1.0"
      ]
     },
     "execution_count": 87,
     "metadata": {},
     "output_type": "execute_result"
    }
   ],
   "source": [
    "ham_r1_r3"
   ]
  },
  {
   "cell_type": "code",
   "execution_count": 88,
   "metadata": {},
   "outputs": [],
   "source": [
    "ham_r2_r3 = hamming_score(row1,row2)"
   ]
  },
  {
   "cell_type": "code",
   "execution_count": 89,
   "metadata": {},
   "outputs": [
    {
     "data": {
      "text/plain": [
       "1.0"
      ]
     },
     "execution_count": 89,
     "metadata": {},
     "output_type": "execute_result"
    }
   ],
   "source": [
    "ham_r2_r3"
   ]
  }
 ],
 "metadata": {
  "kernelspec": {
   "display_name": "Python 3",
   "language": "python",
   "name": "python3"
  },
  "language_info": {
   "codemirror_mode": {
    "name": "ipython",
    "version": 3
   },
   "file_extension": ".py",
   "mimetype": "text/x-python",
   "name": "python",
   "nbconvert_exporter": "python",
   "pygments_lexer": "ipython3",
   "version": "3.8.2"
  }
 },
 "nbformat": 4,
 "nbformat_minor": 4
}
